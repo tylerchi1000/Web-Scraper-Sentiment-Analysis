{
  "nbformat": 4,
  "nbformat_minor": 0,
  "metadata": {
    "colab": {
      "name": "Scraper Samples",
      "provenance": [],
      "mount_file_id": "1ztFH6m0hixD9kvwwvC6GjWPnAWWGeY95",
      "authorship_tag": "ABX9TyNt4xvHMc4kyHDpEWEfFX2v",
      "include_colab_link": true
    },
    "kernelspec": {
      "name": "python3",
      "display_name": "Python 3"
    },
    "language_info": {
      "name": "python"
    },
    "accelerator": "TPU",
    "widgets": {
      "application/vnd.jupyter.widget-state+json": {
        "7cfb450774174a029045552d45ba0263": {
          "model_module": "@jupyter-widgets/controls",
          "model_name": "HBoxModel",
          "model_module_version": "1.5.0",
          "state": {
            "_dom_classes": [],
            "_model_module": "@jupyter-widgets/controls",
            "_model_module_version": "1.5.0",
            "_model_name": "HBoxModel",
            "_view_count": null,
            "_view_module": "@jupyter-widgets/controls",
            "_view_module_version": "1.5.0",
            "_view_name": "HBoxView",
            "box_style": "",
            "children": [
              "IPY_MODEL_53f21fc405594db09f50e967e29a0f71",
              "IPY_MODEL_efd65cef99234017858e310b3e0aeff0",
              "IPY_MODEL_ce19694c21184fcead595828ac1dc870"
            ],
            "layout": "IPY_MODEL_a2c6e1b8c7dc4f10b2d566827afe7bb6"
          }
        },
        "53f21fc405594db09f50e967e29a0f71": {
          "model_module": "@jupyter-widgets/controls",
          "model_name": "HTMLModel",
          "model_module_version": "1.5.0",
          "state": {
            "_dom_classes": [],
            "_model_module": "@jupyter-widgets/controls",
            "_model_module_version": "1.5.0",
            "_model_name": "HTMLModel",
            "_view_count": null,
            "_view_module": "@jupyter-widgets/controls",
            "_view_module_version": "1.5.0",
            "_view_name": "HTMLView",
            "description": "",
            "description_tooltip": null,
            "layout": "IPY_MODEL_69217aa6ae554f658b31bc8cd21b338e",
            "placeholder": "​",
            "style": "IPY_MODEL_2f10f6b9cb074c3da78b810939174541",
            "value": "Dl Completed...: 100%"
          }
        },
        "efd65cef99234017858e310b3e0aeff0": {
          "model_module": "@jupyter-widgets/controls",
          "model_name": "FloatProgressModel",
          "model_module_version": "1.5.0",
          "state": {
            "_dom_classes": [],
            "_model_module": "@jupyter-widgets/controls",
            "_model_module_version": "1.5.0",
            "_model_name": "FloatProgressModel",
            "_view_count": null,
            "_view_module": "@jupyter-widgets/controls",
            "_view_module_version": "1.5.0",
            "_view_name": "ProgressView",
            "bar_style": "success",
            "description": "",
            "description_tooltip": null,
            "layout": "IPY_MODEL_0b49faa4f16a4168bd616ac4e5d05d91",
            "max": 1,
            "min": 0,
            "orientation": "horizontal",
            "style": "IPY_MODEL_b1a2d9f73b2149ca969331ef7a1a4913",
            "value": 1
          }
        },
        "ce19694c21184fcead595828ac1dc870": {
          "model_module": "@jupyter-widgets/controls",
          "model_name": "HTMLModel",
          "model_module_version": "1.5.0",
          "state": {
            "_dom_classes": [],
            "_model_module": "@jupyter-widgets/controls",
            "_model_module_version": "1.5.0",
            "_model_name": "HTMLModel",
            "_view_count": null,
            "_view_module": "@jupyter-widgets/controls",
            "_view_module_version": "1.5.0",
            "_view_name": "HTMLView",
            "description": "",
            "description_tooltip": null,
            "layout": "IPY_MODEL_cecf744aa0a146cda202298e488c2c31",
            "placeholder": "​",
            "style": "IPY_MODEL_d04fa076ef3a491e880496e332faa54d",
            "value": " 1/1 [00:05&lt;00:00,  5.75s/ url]"
          }
        },
        "a2c6e1b8c7dc4f10b2d566827afe7bb6": {
          "model_module": "@jupyter-widgets/base",
          "model_name": "LayoutModel",
          "model_module_version": "1.2.0",
          "state": {
            "_model_module": "@jupyter-widgets/base",
            "_model_module_version": "1.2.0",
            "_model_name": "LayoutModel",
            "_view_count": null,
            "_view_module": "@jupyter-widgets/base",
            "_view_module_version": "1.2.0",
            "_view_name": "LayoutView",
            "align_content": null,
            "align_items": null,
            "align_self": null,
            "border": null,
            "bottom": null,
            "display": null,
            "flex": null,
            "flex_flow": null,
            "grid_area": null,
            "grid_auto_columns": null,
            "grid_auto_flow": null,
            "grid_auto_rows": null,
            "grid_column": null,
            "grid_gap": null,
            "grid_row": null,
            "grid_template_areas": null,
            "grid_template_columns": null,
            "grid_template_rows": null,
            "height": null,
            "justify_content": null,
            "justify_items": null,
            "left": null,
            "margin": null,
            "max_height": null,
            "max_width": null,
            "min_height": null,
            "min_width": null,
            "object_fit": null,
            "object_position": null,
            "order": null,
            "overflow": null,
            "overflow_x": null,
            "overflow_y": null,
            "padding": null,
            "right": null,
            "top": null,
            "visibility": null,
            "width": null
          }
        },
        "69217aa6ae554f658b31bc8cd21b338e": {
          "model_module": "@jupyter-widgets/base",
          "model_name": "LayoutModel",
          "model_module_version": "1.2.0",
          "state": {
            "_model_module": "@jupyter-widgets/base",
            "_model_module_version": "1.2.0",
            "_model_name": "LayoutModel",
            "_view_count": null,
            "_view_module": "@jupyter-widgets/base",
            "_view_module_version": "1.2.0",
            "_view_name": "LayoutView",
            "align_content": null,
            "align_items": null,
            "align_self": null,
            "border": null,
            "bottom": null,
            "display": null,
            "flex": null,
            "flex_flow": null,
            "grid_area": null,
            "grid_auto_columns": null,
            "grid_auto_flow": null,
            "grid_auto_rows": null,
            "grid_column": null,
            "grid_gap": null,
            "grid_row": null,
            "grid_template_areas": null,
            "grid_template_columns": null,
            "grid_template_rows": null,
            "height": null,
            "justify_content": null,
            "justify_items": null,
            "left": null,
            "margin": null,
            "max_height": null,
            "max_width": null,
            "min_height": null,
            "min_width": null,
            "object_fit": null,
            "object_position": null,
            "order": null,
            "overflow": null,
            "overflow_x": null,
            "overflow_y": null,
            "padding": null,
            "right": null,
            "top": null,
            "visibility": null,
            "width": null
          }
        },
        "2f10f6b9cb074c3da78b810939174541": {
          "model_module": "@jupyter-widgets/controls",
          "model_name": "DescriptionStyleModel",
          "model_module_version": "1.5.0",
          "state": {
            "_model_module": "@jupyter-widgets/controls",
            "_model_module_version": "1.5.0",
            "_model_name": "DescriptionStyleModel",
            "_view_count": null,
            "_view_module": "@jupyter-widgets/base",
            "_view_module_version": "1.2.0",
            "_view_name": "StyleView",
            "description_width": ""
          }
        },
        "0b49faa4f16a4168bd616ac4e5d05d91": {
          "model_module": "@jupyter-widgets/base",
          "model_name": "LayoutModel",
          "model_module_version": "1.2.0",
          "state": {
            "_model_module": "@jupyter-widgets/base",
            "_model_module_version": "1.2.0",
            "_model_name": "LayoutModel",
            "_view_count": null,
            "_view_module": "@jupyter-widgets/base",
            "_view_module_version": "1.2.0",
            "_view_name": "LayoutView",
            "align_content": null,
            "align_items": null,
            "align_self": null,
            "border": null,
            "bottom": null,
            "display": null,
            "flex": null,
            "flex_flow": null,
            "grid_area": null,
            "grid_auto_columns": null,
            "grid_auto_flow": null,
            "grid_auto_rows": null,
            "grid_column": null,
            "grid_gap": null,
            "grid_row": null,
            "grid_template_areas": null,
            "grid_template_columns": null,
            "grid_template_rows": null,
            "height": null,
            "justify_content": null,
            "justify_items": null,
            "left": null,
            "margin": null,
            "max_height": null,
            "max_width": null,
            "min_height": null,
            "min_width": null,
            "object_fit": null,
            "object_position": null,
            "order": null,
            "overflow": null,
            "overflow_x": null,
            "overflow_y": null,
            "padding": null,
            "right": null,
            "top": null,
            "visibility": null,
            "width": "20px"
          }
        },
        "b1a2d9f73b2149ca969331ef7a1a4913": {
          "model_module": "@jupyter-widgets/controls",
          "model_name": "ProgressStyleModel",
          "model_module_version": "1.5.0",
          "state": {
            "_model_module": "@jupyter-widgets/controls",
            "_model_module_version": "1.5.0",
            "_model_name": "ProgressStyleModel",
            "_view_count": null,
            "_view_module": "@jupyter-widgets/base",
            "_view_module_version": "1.2.0",
            "_view_name": "StyleView",
            "bar_color": null,
            "description_width": ""
          }
        },
        "cecf744aa0a146cda202298e488c2c31": {
          "model_module": "@jupyter-widgets/base",
          "model_name": "LayoutModel",
          "model_module_version": "1.2.0",
          "state": {
            "_model_module": "@jupyter-widgets/base",
            "_model_module_version": "1.2.0",
            "_model_name": "LayoutModel",
            "_view_count": null,
            "_view_module": "@jupyter-widgets/base",
            "_view_module_version": "1.2.0",
            "_view_name": "LayoutView",
            "align_content": null,
            "align_items": null,
            "align_self": null,
            "border": null,
            "bottom": null,
            "display": null,
            "flex": null,
            "flex_flow": null,
            "grid_area": null,
            "grid_auto_columns": null,
            "grid_auto_flow": null,
            "grid_auto_rows": null,
            "grid_column": null,
            "grid_gap": null,
            "grid_row": null,
            "grid_template_areas": null,
            "grid_template_columns": null,
            "grid_template_rows": null,
            "height": null,
            "justify_content": null,
            "justify_items": null,
            "left": null,
            "margin": null,
            "max_height": null,
            "max_width": null,
            "min_height": null,
            "min_width": null,
            "object_fit": null,
            "object_position": null,
            "order": null,
            "overflow": null,
            "overflow_x": null,
            "overflow_y": null,
            "padding": null,
            "right": null,
            "top": null,
            "visibility": null,
            "width": null
          }
        },
        "d04fa076ef3a491e880496e332faa54d": {
          "model_module": "@jupyter-widgets/controls",
          "model_name": "DescriptionStyleModel",
          "model_module_version": "1.5.0",
          "state": {
            "_model_module": "@jupyter-widgets/controls",
            "_model_module_version": "1.5.0",
            "_model_name": "DescriptionStyleModel",
            "_view_count": null,
            "_view_module": "@jupyter-widgets/base",
            "_view_module_version": "1.2.0",
            "_view_name": "StyleView",
            "description_width": ""
          }
        },
        "106027379f92454c8940c49ffe5a26c5": {
          "model_module": "@jupyter-widgets/controls",
          "model_name": "HBoxModel",
          "model_module_version": "1.5.0",
          "state": {
            "_dom_classes": [],
            "_model_module": "@jupyter-widgets/controls",
            "_model_module_version": "1.5.0",
            "_model_name": "HBoxModel",
            "_view_count": null,
            "_view_module": "@jupyter-widgets/controls",
            "_view_module_version": "1.5.0",
            "_view_name": "HBoxView",
            "box_style": "",
            "children": [
              "IPY_MODEL_4cc691b839c846aba997b627026958d7",
              "IPY_MODEL_3872f0241f9749ec862f9623f5df4522",
              "IPY_MODEL_3d1cb2e2abd3490a80fd29ea87ad1aab"
            ],
            "layout": "IPY_MODEL_9dbe22b7b7874f2184607d6908ce92bd"
          }
        },
        "4cc691b839c846aba997b627026958d7": {
          "model_module": "@jupyter-widgets/controls",
          "model_name": "HTMLModel",
          "model_module_version": "1.5.0",
          "state": {
            "_dom_classes": [],
            "_model_module": "@jupyter-widgets/controls",
            "_model_module_version": "1.5.0",
            "_model_name": "HTMLModel",
            "_view_count": null,
            "_view_module": "@jupyter-widgets/controls",
            "_view_module_version": "1.5.0",
            "_view_name": "HTMLView",
            "description": "",
            "description_tooltip": null,
            "layout": "IPY_MODEL_5e5a7e124fa8452da3bc38f3afa8fc61",
            "placeholder": "​",
            "style": "IPY_MODEL_b714873d9582473dba9904fc3884adfe",
            "value": "Dl Size...: 100%"
          }
        },
        "3872f0241f9749ec862f9623f5df4522": {
          "model_module": "@jupyter-widgets/controls",
          "model_name": "FloatProgressModel",
          "model_module_version": "1.5.0",
          "state": {
            "_dom_classes": [],
            "_model_module": "@jupyter-widgets/controls",
            "_model_module_version": "1.5.0",
            "_model_name": "FloatProgressModel",
            "_view_count": null,
            "_view_module": "@jupyter-widgets/controls",
            "_view_module_version": "1.5.0",
            "_view_name": "ProgressView",
            "bar_style": "success",
            "description": "",
            "description_tooltip": null,
            "layout": "IPY_MODEL_f10606b68ddf4775ae166d8f6b69d870",
            "max": 1,
            "min": 0,
            "orientation": "horizontal",
            "style": "IPY_MODEL_a7a484cf048143dd8333cdbb05154444",
            "value": 1
          }
        },
        "3d1cb2e2abd3490a80fd29ea87ad1aab": {
          "model_module": "@jupyter-widgets/controls",
          "model_name": "HTMLModel",
          "model_module_version": "1.5.0",
          "state": {
            "_dom_classes": [],
            "_model_module": "@jupyter-widgets/controls",
            "_model_module_version": "1.5.0",
            "_model_name": "HTMLModel",
            "_view_count": null,
            "_view_module": "@jupyter-widgets/controls",
            "_view_module_version": "1.5.0",
            "_view_name": "HTMLView",
            "description": "",
            "description_tooltip": null,
            "layout": "IPY_MODEL_391018ebfc9f432eacf793db357b3f4e",
            "placeholder": "​",
            "style": "IPY_MODEL_683fd6e666cb4f4584e8bdec15a43627",
            "value": " 80/80 [00:05&lt;00:00, 19.14 MiB/s]"
          }
        },
        "9dbe22b7b7874f2184607d6908ce92bd": {
          "model_module": "@jupyter-widgets/base",
          "model_name": "LayoutModel",
          "model_module_version": "1.2.0",
          "state": {
            "_model_module": "@jupyter-widgets/base",
            "_model_module_version": "1.2.0",
            "_model_name": "LayoutModel",
            "_view_count": null,
            "_view_module": "@jupyter-widgets/base",
            "_view_module_version": "1.2.0",
            "_view_name": "LayoutView",
            "align_content": null,
            "align_items": null,
            "align_self": null,
            "border": null,
            "bottom": null,
            "display": null,
            "flex": null,
            "flex_flow": null,
            "grid_area": null,
            "grid_auto_columns": null,
            "grid_auto_flow": null,
            "grid_auto_rows": null,
            "grid_column": null,
            "grid_gap": null,
            "grid_row": null,
            "grid_template_areas": null,
            "grid_template_columns": null,
            "grid_template_rows": null,
            "height": null,
            "justify_content": null,
            "justify_items": null,
            "left": null,
            "margin": null,
            "max_height": null,
            "max_width": null,
            "min_height": null,
            "min_width": null,
            "object_fit": null,
            "object_position": null,
            "order": null,
            "overflow": null,
            "overflow_x": null,
            "overflow_y": null,
            "padding": null,
            "right": null,
            "top": null,
            "visibility": null,
            "width": null
          }
        },
        "5e5a7e124fa8452da3bc38f3afa8fc61": {
          "model_module": "@jupyter-widgets/base",
          "model_name": "LayoutModel",
          "model_module_version": "1.2.0",
          "state": {
            "_model_module": "@jupyter-widgets/base",
            "_model_module_version": "1.2.0",
            "_model_name": "LayoutModel",
            "_view_count": null,
            "_view_module": "@jupyter-widgets/base",
            "_view_module_version": "1.2.0",
            "_view_name": "LayoutView",
            "align_content": null,
            "align_items": null,
            "align_self": null,
            "border": null,
            "bottom": null,
            "display": null,
            "flex": null,
            "flex_flow": null,
            "grid_area": null,
            "grid_auto_columns": null,
            "grid_auto_flow": null,
            "grid_auto_rows": null,
            "grid_column": null,
            "grid_gap": null,
            "grid_row": null,
            "grid_template_areas": null,
            "grid_template_columns": null,
            "grid_template_rows": null,
            "height": null,
            "justify_content": null,
            "justify_items": null,
            "left": null,
            "margin": null,
            "max_height": null,
            "max_width": null,
            "min_height": null,
            "min_width": null,
            "object_fit": null,
            "object_position": null,
            "order": null,
            "overflow": null,
            "overflow_x": null,
            "overflow_y": null,
            "padding": null,
            "right": null,
            "top": null,
            "visibility": null,
            "width": null
          }
        },
        "b714873d9582473dba9904fc3884adfe": {
          "model_module": "@jupyter-widgets/controls",
          "model_name": "DescriptionStyleModel",
          "model_module_version": "1.5.0",
          "state": {
            "_model_module": "@jupyter-widgets/controls",
            "_model_module_version": "1.5.0",
            "_model_name": "DescriptionStyleModel",
            "_view_count": null,
            "_view_module": "@jupyter-widgets/base",
            "_view_module_version": "1.2.0",
            "_view_name": "StyleView",
            "description_width": ""
          }
        },
        "f10606b68ddf4775ae166d8f6b69d870": {
          "model_module": "@jupyter-widgets/base",
          "model_name": "LayoutModel",
          "model_module_version": "1.2.0",
          "state": {
            "_model_module": "@jupyter-widgets/base",
            "_model_module_version": "1.2.0",
            "_model_name": "LayoutModel",
            "_view_count": null,
            "_view_module": "@jupyter-widgets/base",
            "_view_module_version": "1.2.0",
            "_view_name": "LayoutView",
            "align_content": null,
            "align_items": null,
            "align_self": null,
            "border": null,
            "bottom": null,
            "display": null,
            "flex": null,
            "flex_flow": null,
            "grid_area": null,
            "grid_auto_columns": null,
            "grid_auto_flow": null,
            "grid_auto_rows": null,
            "grid_column": null,
            "grid_gap": null,
            "grid_row": null,
            "grid_template_areas": null,
            "grid_template_columns": null,
            "grid_template_rows": null,
            "height": null,
            "justify_content": null,
            "justify_items": null,
            "left": null,
            "margin": null,
            "max_height": null,
            "max_width": null,
            "min_height": null,
            "min_width": null,
            "object_fit": null,
            "object_position": null,
            "order": null,
            "overflow": null,
            "overflow_x": null,
            "overflow_y": null,
            "padding": null,
            "right": null,
            "top": null,
            "visibility": null,
            "width": "20px"
          }
        },
        "a7a484cf048143dd8333cdbb05154444": {
          "model_module": "@jupyter-widgets/controls",
          "model_name": "ProgressStyleModel",
          "model_module_version": "1.5.0",
          "state": {
            "_model_module": "@jupyter-widgets/controls",
            "_model_module_version": "1.5.0",
            "_model_name": "ProgressStyleModel",
            "_view_count": null,
            "_view_module": "@jupyter-widgets/base",
            "_view_module_version": "1.2.0",
            "_view_name": "StyleView",
            "bar_color": null,
            "description_width": ""
          }
        },
        "391018ebfc9f432eacf793db357b3f4e": {
          "model_module": "@jupyter-widgets/base",
          "model_name": "LayoutModel",
          "model_module_version": "1.2.0",
          "state": {
            "_model_module": "@jupyter-widgets/base",
            "_model_module_version": "1.2.0",
            "_model_name": "LayoutModel",
            "_view_count": null,
            "_view_module": "@jupyter-widgets/base",
            "_view_module_version": "1.2.0",
            "_view_name": "LayoutView",
            "align_content": null,
            "align_items": null,
            "align_self": null,
            "border": null,
            "bottom": null,
            "display": null,
            "flex": null,
            "flex_flow": null,
            "grid_area": null,
            "grid_auto_columns": null,
            "grid_auto_flow": null,
            "grid_auto_rows": null,
            "grid_column": null,
            "grid_gap": null,
            "grid_row": null,
            "grid_template_areas": null,
            "grid_template_columns": null,
            "grid_template_rows": null,
            "height": null,
            "justify_content": null,
            "justify_items": null,
            "left": null,
            "margin": null,
            "max_height": null,
            "max_width": null,
            "min_height": null,
            "min_width": null,
            "object_fit": null,
            "object_position": null,
            "order": null,
            "overflow": null,
            "overflow_x": null,
            "overflow_y": null,
            "padding": null,
            "right": null,
            "top": null,
            "visibility": null,
            "width": null
          }
        },
        "683fd6e666cb4f4584e8bdec15a43627": {
          "model_module": "@jupyter-widgets/controls",
          "model_name": "DescriptionStyleModel",
          "model_module_version": "1.5.0",
          "state": {
            "_model_module": "@jupyter-widgets/controls",
            "_model_module_version": "1.5.0",
            "_model_name": "DescriptionStyleModel",
            "_view_count": null,
            "_view_module": "@jupyter-widgets/base",
            "_view_module_version": "1.2.0",
            "_view_name": "StyleView",
            "description_width": ""
          }
        },
        "a3485998edf34562830008d9aa6436c0": {
          "model_module": "@jupyter-widgets/controls",
          "model_name": "HBoxModel",
          "model_module_version": "1.5.0",
          "state": {
            "_dom_classes": [],
            "_model_module": "@jupyter-widgets/controls",
            "_model_module_version": "1.5.0",
            "_model_name": "HBoxModel",
            "_view_count": null,
            "_view_module": "@jupyter-widgets/controls",
            "_view_module_version": "1.5.0",
            "_view_name": "HBoxView",
            "box_style": "",
            "children": [
              "IPY_MODEL_c7613a530acb489092f1a0efd17b6e44",
              "IPY_MODEL_b6a028742d9f40d39a0d1aa88de6a930",
              "IPY_MODEL_95794203304a43959179b199385fc643"
            ],
            "layout": "IPY_MODEL_a76514714ace4168a302c9ad34baccce"
          }
        },
        "c7613a530acb489092f1a0efd17b6e44": {
          "model_module": "@jupyter-widgets/controls",
          "model_name": "HTMLModel",
          "model_module_version": "1.5.0",
          "state": {
            "_dom_classes": [],
            "_model_module": "@jupyter-widgets/controls",
            "_model_module_version": "1.5.0",
            "_model_name": "HTMLModel",
            "_view_count": null,
            "_view_module": "@jupyter-widgets/controls",
            "_view_module_version": "1.5.0",
            "_view_name": "HTMLView",
            "description": "",
            "description_tooltip": null,
            "layout": "IPY_MODEL_3daf118fef7445a88957ed4015112c97",
            "placeholder": "​",
            "style": "IPY_MODEL_22dcb72cd94e426898565f0232780ce6",
            "value": ""
          }
        },
        "b6a028742d9f40d39a0d1aa88de6a930": {
          "model_module": "@jupyter-widgets/controls",
          "model_name": "FloatProgressModel",
          "model_module_version": "1.5.0",
          "state": {
            "_dom_classes": [],
            "_model_module": "@jupyter-widgets/controls",
            "_model_module_version": "1.5.0",
            "_model_name": "FloatProgressModel",
            "_view_count": null,
            "_view_module": "@jupyter-widgets/controls",
            "_view_module_version": "1.5.0",
            "_view_name": "ProgressView",
            "bar_style": "info",
            "description": "",
            "description_tooltip": null,
            "layout": "IPY_MODEL_c325ef7d39fc4080ada1db1b1de123a3",
            "max": 1,
            "min": 0,
            "orientation": "horizontal",
            "style": "IPY_MODEL_48f7e014ff88444fb4e2a21596aa1419",
            "value": 1
          }
        },
        "95794203304a43959179b199385fc643": {
          "model_module": "@jupyter-widgets/controls",
          "model_name": "HTMLModel",
          "model_module_version": "1.5.0",
          "state": {
            "_dom_classes": [],
            "_model_module": "@jupyter-widgets/controls",
            "_model_module_version": "1.5.0",
            "_model_name": "HTMLModel",
            "_view_count": null,
            "_view_module": "@jupyter-widgets/controls",
            "_view_module_version": "1.5.0",
            "_view_name": "HTMLView",
            "description": "",
            "description_tooltip": null,
            "layout": "IPY_MODEL_4f3fdfae3f6d4b55a60e61e4ea5ec944",
            "placeholder": "​",
            "style": "IPY_MODEL_5ddc8194379e479baf7d855978cc8632",
            "value": " 24821/0 [00:19&lt;00:00, 2739.35 examples/s]"
          }
        },
        "a76514714ace4168a302c9ad34baccce": {
          "model_module": "@jupyter-widgets/base",
          "model_name": "LayoutModel",
          "model_module_version": "1.2.0",
          "state": {
            "_model_module": "@jupyter-widgets/base",
            "_model_module_version": "1.2.0",
            "_model_name": "LayoutModel",
            "_view_count": null,
            "_view_module": "@jupyter-widgets/base",
            "_view_module_version": "1.2.0",
            "_view_name": "LayoutView",
            "align_content": null,
            "align_items": null,
            "align_self": null,
            "border": null,
            "bottom": null,
            "display": null,
            "flex": null,
            "flex_flow": null,
            "grid_area": null,
            "grid_auto_columns": null,
            "grid_auto_flow": null,
            "grid_auto_rows": null,
            "grid_column": null,
            "grid_gap": null,
            "grid_row": null,
            "grid_template_areas": null,
            "grid_template_columns": null,
            "grid_template_rows": null,
            "height": null,
            "justify_content": null,
            "justify_items": null,
            "left": null,
            "margin": null,
            "max_height": null,
            "max_width": null,
            "min_height": null,
            "min_width": null,
            "object_fit": null,
            "object_position": null,
            "order": null,
            "overflow": null,
            "overflow_x": null,
            "overflow_y": null,
            "padding": null,
            "right": null,
            "top": null,
            "visibility": null,
            "width": null
          }
        },
        "3daf118fef7445a88957ed4015112c97": {
          "model_module": "@jupyter-widgets/base",
          "model_name": "LayoutModel",
          "model_module_version": "1.2.0",
          "state": {
            "_model_module": "@jupyter-widgets/base",
            "_model_module_version": "1.2.0",
            "_model_name": "LayoutModel",
            "_view_count": null,
            "_view_module": "@jupyter-widgets/base",
            "_view_module_version": "1.2.0",
            "_view_name": "LayoutView",
            "align_content": null,
            "align_items": null,
            "align_self": null,
            "border": null,
            "bottom": null,
            "display": null,
            "flex": null,
            "flex_flow": null,
            "grid_area": null,
            "grid_auto_columns": null,
            "grid_auto_flow": null,
            "grid_auto_rows": null,
            "grid_column": null,
            "grid_gap": null,
            "grid_row": null,
            "grid_template_areas": null,
            "grid_template_columns": null,
            "grid_template_rows": null,
            "height": null,
            "justify_content": null,
            "justify_items": null,
            "left": null,
            "margin": null,
            "max_height": null,
            "max_width": null,
            "min_height": null,
            "min_width": null,
            "object_fit": null,
            "object_position": null,
            "order": null,
            "overflow": null,
            "overflow_x": null,
            "overflow_y": null,
            "padding": null,
            "right": null,
            "top": null,
            "visibility": null,
            "width": null
          }
        },
        "22dcb72cd94e426898565f0232780ce6": {
          "model_module": "@jupyter-widgets/controls",
          "model_name": "DescriptionStyleModel",
          "model_module_version": "1.5.0",
          "state": {
            "_model_module": "@jupyter-widgets/controls",
            "_model_module_version": "1.5.0",
            "_model_name": "DescriptionStyleModel",
            "_view_count": null,
            "_view_module": "@jupyter-widgets/base",
            "_view_module_version": "1.2.0",
            "_view_name": "StyleView",
            "description_width": ""
          }
        },
        "c325ef7d39fc4080ada1db1b1de123a3": {
          "model_module": "@jupyter-widgets/base",
          "model_name": "LayoutModel",
          "model_module_version": "1.2.0",
          "state": {
            "_model_module": "@jupyter-widgets/base",
            "_model_module_version": "1.2.0",
            "_model_name": "LayoutModel",
            "_view_count": null,
            "_view_module": "@jupyter-widgets/base",
            "_view_module_version": "1.2.0",
            "_view_name": "LayoutView",
            "align_content": null,
            "align_items": null,
            "align_self": null,
            "border": null,
            "bottom": null,
            "display": null,
            "flex": null,
            "flex_flow": null,
            "grid_area": null,
            "grid_auto_columns": null,
            "grid_auto_flow": null,
            "grid_auto_rows": null,
            "grid_column": null,
            "grid_gap": null,
            "grid_row": null,
            "grid_template_areas": null,
            "grid_template_columns": null,
            "grid_template_rows": null,
            "height": null,
            "justify_content": null,
            "justify_items": null,
            "left": null,
            "margin": null,
            "max_height": null,
            "max_width": null,
            "min_height": null,
            "min_width": null,
            "object_fit": null,
            "object_position": null,
            "order": null,
            "overflow": null,
            "overflow_x": null,
            "overflow_y": null,
            "padding": null,
            "right": null,
            "top": null,
            "visibility": null,
            "width": "20px"
          }
        },
        "48f7e014ff88444fb4e2a21596aa1419": {
          "model_module": "@jupyter-widgets/controls",
          "model_name": "ProgressStyleModel",
          "model_module_version": "1.5.0",
          "state": {
            "_model_module": "@jupyter-widgets/controls",
            "_model_module_version": "1.5.0",
            "_model_name": "ProgressStyleModel",
            "_view_count": null,
            "_view_module": "@jupyter-widgets/base",
            "_view_module_version": "1.2.0",
            "_view_name": "StyleView",
            "bar_color": null,
            "description_width": ""
          }
        },
        "4f3fdfae3f6d4b55a60e61e4ea5ec944": {
          "model_module": "@jupyter-widgets/base",
          "model_name": "LayoutModel",
          "model_module_version": "1.2.0",
          "state": {
            "_model_module": "@jupyter-widgets/base",
            "_model_module_version": "1.2.0",
            "_model_name": "LayoutModel",
            "_view_count": null,
            "_view_module": "@jupyter-widgets/base",
            "_view_module_version": "1.2.0",
            "_view_name": "LayoutView",
            "align_content": null,
            "align_items": null,
            "align_self": null,
            "border": null,
            "bottom": null,
            "display": null,
            "flex": null,
            "flex_flow": null,
            "grid_area": null,
            "grid_auto_columns": null,
            "grid_auto_flow": null,
            "grid_auto_rows": null,
            "grid_column": null,
            "grid_gap": null,
            "grid_row": null,
            "grid_template_areas": null,
            "grid_template_columns": null,
            "grid_template_rows": null,
            "height": null,
            "justify_content": null,
            "justify_items": null,
            "left": null,
            "margin": null,
            "max_height": null,
            "max_width": null,
            "min_height": null,
            "min_width": null,
            "object_fit": null,
            "object_position": null,
            "order": null,
            "overflow": null,
            "overflow_x": null,
            "overflow_y": null,
            "padding": null,
            "right": null,
            "top": null,
            "visibility": null,
            "width": null
          }
        },
        "5ddc8194379e479baf7d855978cc8632": {
          "model_module": "@jupyter-widgets/controls",
          "model_name": "DescriptionStyleModel",
          "model_module_version": "1.5.0",
          "state": {
            "_model_module": "@jupyter-widgets/controls",
            "_model_module_version": "1.5.0",
            "_model_name": "DescriptionStyleModel",
            "_view_count": null,
            "_view_module": "@jupyter-widgets/base",
            "_view_module_version": "1.2.0",
            "_view_name": "StyleView",
            "description_width": ""
          }
        },
        "e01110528e6245b3be4107ff0617157e": {
          "model_module": "@jupyter-widgets/controls",
          "model_name": "HBoxModel",
          "model_module_version": "1.5.0",
          "state": {
            "_dom_classes": [],
            "_model_module": "@jupyter-widgets/controls",
            "_model_module_version": "1.5.0",
            "_model_name": "HBoxModel",
            "_view_count": null,
            "_view_module": "@jupyter-widgets/controls",
            "_view_module_version": "1.5.0",
            "_view_name": "HBoxView",
            "box_style": "",
            "children": [
              "IPY_MODEL_e0a700fc876d410db18a16b762b6844c",
              "IPY_MODEL_3680f09ac7ff4c5ba1ba2f1e3796fd7f",
              "IPY_MODEL_32827a205df7409b998cbc86e74596cf"
            ],
            "layout": "IPY_MODEL_aed2ae5b24aa4ad797b22a3c28ecdcf2"
          }
        },
        "e0a700fc876d410db18a16b762b6844c": {
          "model_module": "@jupyter-widgets/controls",
          "model_name": "HTMLModel",
          "model_module_version": "1.5.0",
          "state": {
            "_dom_classes": [],
            "_model_module": "@jupyter-widgets/controls",
            "_model_module_version": "1.5.0",
            "_model_name": "HTMLModel",
            "_view_count": null,
            "_view_module": "@jupyter-widgets/controls",
            "_view_module_version": "1.5.0",
            "_view_name": "HTMLView",
            "description": "",
            "description_tooltip": null,
            "layout": "IPY_MODEL_02c83e6313314270b495cf84cff3001f",
            "placeholder": "​",
            "style": "IPY_MODEL_dc2397c47a6a44e18b1e175022457d0e",
            "value": "100%"
          }
        },
        "3680f09ac7ff4c5ba1ba2f1e3796fd7f": {
          "model_module": "@jupyter-widgets/controls",
          "model_name": "FloatProgressModel",
          "model_module_version": "1.5.0",
          "state": {
            "_dom_classes": [],
            "_model_module": "@jupyter-widgets/controls",
            "_model_module_version": "1.5.0",
            "_model_name": "FloatProgressModel",
            "_view_count": null,
            "_view_module": "@jupyter-widgets/controls",
            "_view_module_version": "1.5.0",
            "_view_name": "ProgressView",
            "bar_style": "danger",
            "description": "",
            "description_tooltip": null,
            "layout": "IPY_MODEL_bc7b8b8dd6024a6fb008b267e46cf0f1",
            "max": 25000,
            "min": 0,
            "orientation": "horizontal",
            "style": "IPY_MODEL_e1f866ea7dc04ecd9c6cc958f4ba04ae",
            "value": 24999
          }
        },
        "32827a205df7409b998cbc86e74596cf": {
          "model_module": "@jupyter-widgets/controls",
          "model_name": "HTMLModel",
          "model_module_version": "1.5.0",
          "state": {
            "_dom_classes": [],
            "_model_module": "@jupyter-widgets/controls",
            "_model_module_version": "1.5.0",
            "_model_name": "HTMLModel",
            "_view_count": null,
            "_view_module": "@jupyter-widgets/controls",
            "_view_module_version": "1.5.0",
            "_view_name": "HTMLView",
            "description": "",
            "description_tooltip": null,
            "layout": "IPY_MODEL_8f6c1b50e9594e2094be5c57637282b8",
            "placeholder": "​",
            "style": "IPY_MODEL_4d6de09f6b7649149a044f6f36edf7f3",
            "value": " 24999/25000 [00:00&lt;00:00, 114250.67 examples/s]"
          }
        },
        "aed2ae5b24aa4ad797b22a3c28ecdcf2": {
          "model_module": "@jupyter-widgets/base",
          "model_name": "LayoutModel",
          "model_module_version": "1.2.0",
          "state": {
            "_model_module": "@jupyter-widgets/base",
            "_model_module_version": "1.2.0",
            "_model_name": "LayoutModel",
            "_view_count": null,
            "_view_module": "@jupyter-widgets/base",
            "_view_module_version": "1.2.0",
            "_view_name": "LayoutView",
            "align_content": null,
            "align_items": null,
            "align_self": null,
            "border": null,
            "bottom": null,
            "display": null,
            "flex": null,
            "flex_flow": null,
            "grid_area": null,
            "grid_auto_columns": null,
            "grid_auto_flow": null,
            "grid_auto_rows": null,
            "grid_column": null,
            "grid_gap": null,
            "grid_row": null,
            "grid_template_areas": null,
            "grid_template_columns": null,
            "grid_template_rows": null,
            "height": null,
            "justify_content": null,
            "justify_items": null,
            "left": null,
            "margin": null,
            "max_height": null,
            "max_width": null,
            "min_height": null,
            "min_width": null,
            "object_fit": null,
            "object_position": null,
            "order": null,
            "overflow": null,
            "overflow_x": null,
            "overflow_y": null,
            "padding": null,
            "right": null,
            "top": null,
            "visibility": null,
            "width": null
          }
        },
        "02c83e6313314270b495cf84cff3001f": {
          "model_module": "@jupyter-widgets/base",
          "model_name": "LayoutModel",
          "model_module_version": "1.2.0",
          "state": {
            "_model_module": "@jupyter-widgets/base",
            "_model_module_version": "1.2.0",
            "_model_name": "LayoutModel",
            "_view_count": null,
            "_view_module": "@jupyter-widgets/base",
            "_view_module_version": "1.2.0",
            "_view_name": "LayoutView",
            "align_content": null,
            "align_items": null,
            "align_self": null,
            "border": null,
            "bottom": null,
            "display": null,
            "flex": null,
            "flex_flow": null,
            "grid_area": null,
            "grid_auto_columns": null,
            "grid_auto_flow": null,
            "grid_auto_rows": null,
            "grid_column": null,
            "grid_gap": null,
            "grid_row": null,
            "grid_template_areas": null,
            "grid_template_columns": null,
            "grid_template_rows": null,
            "height": null,
            "justify_content": null,
            "justify_items": null,
            "left": null,
            "margin": null,
            "max_height": null,
            "max_width": null,
            "min_height": null,
            "min_width": null,
            "object_fit": null,
            "object_position": null,
            "order": null,
            "overflow": null,
            "overflow_x": null,
            "overflow_y": null,
            "padding": null,
            "right": null,
            "top": null,
            "visibility": null,
            "width": null
          }
        },
        "dc2397c47a6a44e18b1e175022457d0e": {
          "model_module": "@jupyter-widgets/controls",
          "model_name": "DescriptionStyleModel",
          "model_module_version": "1.5.0",
          "state": {
            "_model_module": "@jupyter-widgets/controls",
            "_model_module_version": "1.5.0",
            "_model_name": "DescriptionStyleModel",
            "_view_count": null,
            "_view_module": "@jupyter-widgets/base",
            "_view_module_version": "1.2.0",
            "_view_name": "StyleView",
            "description_width": ""
          }
        },
        "bc7b8b8dd6024a6fb008b267e46cf0f1": {
          "model_module": "@jupyter-widgets/base",
          "model_name": "LayoutModel",
          "model_module_version": "1.2.0",
          "state": {
            "_model_module": "@jupyter-widgets/base",
            "_model_module_version": "1.2.0",
            "_model_name": "LayoutModel",
            "_view_count": null,
            "_view_module": "@jupyter-widgets/base",
            "_view_module_version": "1.2.0",
            "_view_name": "LayoutView",
            "align_content": null,
            "align_items": null,
            "align_self": null,
            "border": null,
            "bottom": null,
            "display": null,
            "flex": null,
            "flex_flow": null,
            "grid_area": null,
            "grid_auto_columns": null,
            "grid_auto_flow": null,
            "grid_auto_rows": null,
            "grid_column": null,
            "grid_gap": null,
            "grid_row": null,
            "grid_template_areas": null,
            "grid_template_columns": null,
            "grid_template_rows": null,
            "height": null,
            "justify_content": null,
            "justify_items": null,
            "left": null,
            "margin": null,
            "max_height": null,
            "max_width": null,
            "min_height": null,
            "min_width": null,
            "object_fit": null,
            "object_position": null,
            "order": null,
            "overflow": null,
            "overflow_x": null,
            "overflow_y": null,
            "padding": null,
            "right": null,
            "top": null,
            "visibility": null,
            "width": null
          }
        },
        "e1f866ea7dc04ecd9c6cc958f4ba04ae": {
          "model_module": "@jupyter-widgets/controls",
          "model_name": "ProgressStyleModel",
          "model_module_version": "1.5.0",
          "state": {
            "_model_module": "@jupyter-widgets/controls",
            "_model_module_version": "1.5.0",
            "_model_name": "ProgressStyleModel",
            "_view_count": null,
            "_view_module": "@jupyter-widgets/base",
            "_view_module_version": "1.2.0",
            "_view_name": "StyleView",
            "bar_color": null,
            "description_width": ""
          }
        },
        "8f6c1b50e9594e2094be5c57637282b8": {
          "model_module": "@jupyter-widgets/base",
          "model_name": "LayoutModel",
          "model_module_version": "1.2.0",
          "state": {
            "_model_module": "@jupyter-widgets/base",
            "_model_module_version": "1.2.0",
            "_model_name": "LayoutModel",
            "_view_count": null,
            "_view_module": "@jupyter-widgets/base",
            "_view_module_version": "1.2.0",
            "_view_name": "LayoutView",
            "align_content": null,
            "align_items": null,
            "align_self": null,
            "border": null,
            "bottom": null,
            "display": null,
            "flex": null,
            "flex_flow": null,
            "grid_area": null,
            "grid_auto_columns": null,
            "grid_auto_flow": null,
            "grid_auto_rows": null,
            "grid_column": null,
            "grid_gap": null,
            "grid_row": null,
            "grid_template_areas": null,
            "grid_template_columns": null,
            "grid_template_rows": null,
            "height": null,
            "justify_content": null,
            "justify_items": null,
            "left": null,
            "margin": null,
            "max_height": null,
            "max_width": null,
            "min_height": null,
            "min_width": null,
            "object_fit": null,
            "object_position": null,
            "order": null,
            "overflow": null,
            "overflow_x": null,
            "overflow_y": null,
            "padding": null,
            "right": null,
            "top": null,
            "visibility": null,
            "width": null
          }
        },
        "4d6de09f6b7649149a044f6f36edf7f3": {
          "model_module": "@jupyter-widgets/controls",
          "model_name": "DescriptionStyleModel",
          "model_module_version": "1.5.0",
          "state": {
            "_model_module": "@jupyter-widgets/controls",
            "_model_module_version": "1.5.0",
            "_model_name": "DescriptionStyleModel",
            "_view_count": null,
            "_view_module": "@jupyter-widgets/base",
            "_view_module_version": "1.2.0",
            "_view_name": "StyleView",
            "description_width": ""
          }
        },
        "6f23db35b8f34a1d89e1e6ee56fb00ff": {
          "model_module": "@jupyter-widgets/controls",
          "model_name": "HBoxModel",
          "model_module_version": "1.5.0",
          "state": {
            "_dom_classes": [],
            "_model_module": "@jupyter-widgets/controls",
            "_model_module_version": "1.5.0",
            "_model_name": "HBoxModel",
            "_view_count": null,
            "_view_module": "@jupyter-widgets/controls",
            "_view_module_version": "1.5.0",
            "_view_name": "HBoxView",
            "box_style": "",
            "children": [
              "IPY_MODEL_b761a05107b74fc995f8648ff1539ca2",
              "IPY_MODEL_233761904ce14596992b18e5c003073a",
              "IPY_MODEL_5893b519f0ac405ebc643a7ac4bb07c8"
            ],
            "layout": "IPY_MODEL_c1433aca377b4996beeca2a95c01a8d9"
          }
        },
        "b761a05107b74fc995f8648ff1539ca2": {
          "model_module": "@jupyter-widgets/controls",
          "model_name": "HTMLModel",
          "model_module_version": "1.5.0",
          "state": {
            "_dom_classes": [],
            "_model_module": "@jupyter-widgets/controls",
            "_model_module_version": "1.5.0",
            "_model_name": "HTMLModel",
            "_view_count": null,
            "_view_module": "@jupyter-widgets/controls",
            "_view_module_version": "1.5.0",
            "_view_name": "HTMLView",
            "description": "",
            "description_tooltip": null,
            "layout": "IPY_MODEL_38a1e8dabd5a42c48f4185e77477c9ad",
            "placeholder": "​",
            "style": "IPY_MODEL_25d0071b102e4665b5af2e4162ba287e",
            "value": ""
          }
        },
        "233761904ce14596992b18e5c003073a": {
          "model_module": "@jupyter-widgets/controls",
          "model_name": "FloatProgressModel",
          "model_module_version": "1.5.0",
          "state": {
            "_dom_classes": [],
            "_model_module": "@jupyter-widgets/controls",
            "_model_module_version": "1.5.0",
            "_model_name": "FloatProgressModel",
            "_view_count": null,
            "_view_module": "@jupyter-widgets/controls",
            "_view_module_version": "1.5.0",
            "_view_name": "ProgressView",
            "bar_style": "info",
            "description": "",
            "description_tooltip": null,
            "layout": "IPY_MODEL_1e9980916c3a4d6c97e64cfa786e5132",
            "max": 1,
            "min": 0,
            "orientation": "horizontal",
            "style": "IPY_MODEL_8aca6a51bac9440aa0c137b0c031554d",
            "value": 1
          }
        },
        "5893b519f0ac405ebc643a7ac4bb07c8": {
          "model_module": "@jupyter-widgets/controls",
          "model_name": "HTMLModel",
          "model_module_version": "1.5.0",
          "state": {
            "_dom_classes": [],
            "_model_module": "@jupyter-widgets/controls",
            "_model_module_version": "1.5.0",
            "_model_name": "HTMLModel",
            "_view_count": null,
            "_view_module": "@jupyter-widgets/controls",
            "_view_module_version": "1.5.0",
            "_view_name": "HTMLView",
            "description": "",
            "description_tooltip": null,
            "layout": "IPY_MODEL_75e532c1cd084abbb5ed9992703663a6",
            "placeholder": "​",
            "style": "IPY_MODEL_969dac4efa254cc285119868914dc82b",
            "value": " 24996/0 [00:09&lt;00:00, 2638.22 examples/s]"
          }
        },
        "c1433aca377b4996beeca2a95c01a8d9": {
          "model_module": "@jupyter-widgets/base",
          "model_name": "LayoutModel",
          "model_module_version": "1.2.0",
          "state": {
            "_model_module": "@jupyter-widgets/base",
            "_model_module_version": "1.2.0",
            "_model_name": "LayoutModel",
            "_view_count": null,
            "_view_module": "@jupyter-widgets/base",
            "_view_module_version": "1.2.0",
            "_view_name": "LayoutView",
            "align_content": null,
            "align_items": null,
            "align_self": null,
            "border": null,
            "bottom": null,
            "display": null,
            "flex": null,
            "flex_flow": null,
            "grid_area": null,
            "grid_auto_columns": null,
            "grid_auto_flow": null,
            "grid_auto_rows": null,
            "grid_column": null,
            "grid_gap": null,
            "grid_row": null,
            "grid_template_areas": null,
            "grid_template_columns": null,
            "grid_template_rows": null,
            "height": null,
            "justify_content": null,
            "justify_items": null,
            "left": null,
            "margin": null,
            "max_height": null,
            "max_width": null,
            "min_height": null,
            "min_width": null,
            "object_fit": null,
            "object_position": null,
            "order": null,
            "overflow": null,
            "overflow_x": null,
            "overflow_y": null,
            "padding": null,
            "right": null,
            "top": null,
            "visibility": null,
            "width": null
          }
        },
        "38a1e8dabd5a42c48f4185e77477c9ad": {
          "model_module": "@jupyter-widgets/base",
          "model_name": "LayoutModel",
          "model_module_version": "1.2.0",
          "state": {
            "_model_module": "@jupyter-widgets/base",
            "_model_module_version": "1.2.0",
            "_model_name": "LayoutModel",
            "_view_count": null,
            "_view_module": "@jupyter-widgets/base",
            "_view_module_version": "1.2.0",
            "_view_name": "LayoutView",
            "align_content": null,
            "align_items": null,
            "align_self": null,
            "border": null,
            "bottom": null,
            "display": null,
            "flex": null,
            "flex_flow": null,
            "grid_area": null,
            "grid_auto_columns": null,
            "grid_auto_flow": null,
            "grid_auto_rows": null,
            "grid_column": null,
            "grid_gap": null,
            "grid_row": null,
            "grid_template_areas": null,
            "grid_template_columns": null,
            "grid_template_rows": null,
            "height": null,
            "justify_content": null,
            "justify_items": null,
            "left": null,
            "margin": null,
            "max_height": null,
            "max_width": null,
            "min_height": null,
            "min_width": null,
            "object_fit": null,
            "object_position": null,
            "order": null,
            "overflow": null,
            "overflow_x": null,
            "overflow_y": null,
            "padding": null,
            "right": null,
            "top": null,
            "visibility": null,
            "width": null
          }
        },
        "25d0071b102e4665b5af2e4162ba287e": {
          "model_module": "@jupyter-widgets/controls",
          "model_name": "DescriptionStyleModel",
          "model_module_version": "1.5.0",
          "state": {
            "_model_module": "@jupyter-widgets/controls",
            "_model_module_version": "1.5.0",
            "_model_name": "DescriptionStyleModel",
            "_view_count": null,
            "_view_module": "@jupyter-widgets/base",
            "_view_module_version": "1.2.0",
            "_view_name": "StyleView",
            "description_width": ""
          }
        },
        "1e9980916c3a4d6c97e64cfa786e5132": {
          "model_module": "@jupyter-widgets/base",
          "model_name": "LayoutModel",
          "model_module_version": "1.2.0",
          "state": {
            "_model_module": "@jupyter-widgets/base",
            "_model_module_version": "1.2.0",
            "_model_name": "LayoutModel",
            "_view_count": null,
            "_view_module": "@jupyter-widgets/base",
            "_view_module_version": "1.2.0",
            "_view_name": "LayoutView",
            "align_content": null,
            "align_items": null,
            "align_self": null,
            "border": null,
            "bottom": null,
            "display": null,
            "flex": null,
            "flex_flow": null,
            "grid_area": null,
            "grid_auto_columns": null,
            "grid_auto_flow": null,
            "grid_auto_rows": null,
            "grid_column": null,
            "grid_gap": null,
            "grid_row": null,
            "grid_template_areas": null,
            "grid_template_columns": null,
            "grid_template_rows": null,
            "height": null,
            "justify_content": null,
            "justify_items": null,
            "left": null,
            "margin": null,
            "max_height": null,
            "max_width": null,
            "min_height": null,
            "min_width": null,
            "object_fit": null,
            "object_position": null,
            "order": null,
            "overflow": null,
            "overflow_x": null,
            "overflow_y": null,
            "padding": null,
            "right": null,
            "top": null,
            "visibility": null,
            "width": "20px"
          }
        },
        "8aca6a51bac9440aa0c137b0c031554d": {
          "model_module": "@jupyter-widgets/controls",
          "model_name": "ProgressStyleModel",
          "model_module_version": "1.5.0",
          "state": {
            "_model_module": "@jupyter-widgets/controls",
            "_model_module_version": "1.5.0",
            "_model_name": "ProgressStyleModel",
            "_view_count": null,
            "_view_module": "@jupyter-widgets/base",
            "_view_module_version": "1.2.0",
            "_view_name": "StyleView",
            "bar_color": null,
            "description_width": ""
          }
        },
        "75e532c1cd084abbb5ed9992703663a6": {
          "model_module": "@jupyter-widgets/base",
          "model_name": "LayoutModel",
          "model_module_version": "1.2.0",
          "state": {
            "_model_module": "@jupyter-widgets/base",
            "_model_module_version": "1.2.0",
            "_model_name": "LayoutModel",
            "_view_count": null,
            "_view_module": "@jupyter-widgets/base",
            "_view_module_version": "1.2.0",
            "_view_name": "LayoutView",
            "align_content": null,
            "align_items": null,
            "align_self": null,
            "border": null,
            "bottom": null,
            "display": null,
            "flex": null,
            "flex_flow": null,
            "grid_area": null,
            "grid_auto_columns": null,
            "grid_auto_flow": null,
            "grid_auto_rows": null,
            "grid_column": null,
            "grid_gap": null,
            "grid_row": null,
            "grid_template_areas": null,
            "grid_template_columns": null,
            "grid_template_rows": null,
            "height": null,
            "justify_content": null,
            "justify_items": null,
            "left": null,
            "margin": null,
            "max_height": null,
            "max_width": null,
            "min_height": null,
            "min_width": null,
            "object_fit": null,
            "object_position": null,
            "order": null,
            "overflow": null,
            "overflow_x": null,
            "overflow_y": null,
            "padding": null,
            "right": null,
            "top": null,
            "visibility": null,
            "width": null
          }
        },
        "969dac4efa254cc285119868914dc82b": {
          "model_module": "@jupyter-widgets/controls",
          "model_name": "DescriptionStyleModel",
          "model_module_version": "1.5.0",
          "state": {
            "_model_module": "@jupyter-widgets/controls",
            "_model_module_version": "1.5.0",
            "_model_name": "DescriptionStyleModel",
            "_view_count": null,
            "_view_module": "@jupyter-widgets/base",
            "_view_module_version": "1.2.0",
            "_view_name": "StyleView",
            "description_width": ""
          }
        },
        "c2df69ba5ee6412bbc49d37685f669c4": {
          "model_module": "@jupyter-widgets/controls",
          "model_name": "HBoxModel",
          "model_module_version": "1.5.0",
          "state": {
            "_dom_classes": [],
            "_model_module": "@jupyter-widgets/controls",
            "_model_module_version": "1.5.0",
            "_model_name": "HBoxModel",
            "_view_count": null,
            "_view_module": "@jupyter-widgets/controls",
            "_view_module_version": "1.5.0",
            "_view_name": "HBoxView",
            "box_style": "",
            "children": [
              "IPY_MODEL_1fb06dc87d3942ba91c1bccaffff1aac",
              "IPY_MODEL_f2541633851a425082f3ef9aee5b0071",
              "IPY_MODEL_e849153d01eb430896aa8ae1a10e1017"
            ],
            "layout": "IPY_MODEL_d6bd1d41bb8e414e8b32282da8e9d1d4"
          }
        },
        "1fb06dc87d3942ba91c1bccaffff1aac": {
          "model_module": "@jupyter-widgets/controls",
          "model_name": "HTMLModel",
          "model_module_version": "1.5.0",
          "state": {
            "_dom_classes": [],
            "_model_module": "@jupyter-widgets/controls",
            "_model_module_version": "1.5.0",
            "_model_name": "HTMLModel",
            "_view_count": null,
            "_view_module": "@jupyter-widgets/controls",
            "_view_module_version": "1.5.0",
            "_view_name": "HTMLView",
            "description": "",
            "description_tooltip": null,
            "layout": "IPY_MODEL_1c9ad384796f44dd88729590b17081cb",
            "placeholder": "​",
            "style": "IPY_MODEL_8b5d88d178794f019a52fa8bc4398b59",
            "value": "100%"
          }
        },
        "f2541633851a425082f3ef9aee5b0071": {
          "model_module": "@jupyter-widgets/controls",
          "model_name": "FloatProgressModel",
          "model_module_version": "1.5.0",
          "state": {
            "_dom_classes": [],
            "_model_module": "@jupyter-widgets/controls",
            "_model_module_version": "1.5.0",
            "_model_name": "FloatProgressModel",
            "_view_count": null,
            "_view_module": "@jupyter-widgets/controls",
            "_view_module_version": "1.5.0",
            "_view_name": "ProgressView",
            "bar_style": "danger",
            "description": "",
            "description_tooltip": null,
            "layout": "IPY_MODEL_ae5795b5238e4c4ab06bdb3b8a0c2b69",
            "max": 25000,
            "min": 0,
            "orientation": "horizontal",
            "style": "IPY_MODEL_988d25a8e869415fa1befaa1b5e34149",
            "value": 24999
          }
        },
        "e849153d01eb430896aa8ae1a10e1017": {
          "model_module": "@jupyter-widgets/controls",
          "model_name": "HTMLModel",
          "model_module_version": "1.5.0",
          "state": {
            "_dom_classes": [],
            "_model_module": "@jupyter-widgets/controls",
            "_model_module_version": "1.5.0",
            "_model_name": "HTMLModel",
            "_view_count": null,
            "_view_module": "@jupyter-widgets/controls",
            "_view_module_version": "1.5.0",
            "_view_name": "HTMLView",
            "description": "",
            "description_tooltip": null,
            "layout": "IPY_MODEL_51f28a456e9f42ba84562f0f3db1c783",
            "placeholder": "​",
            "style": "IPY_MODEL_0a3c7447c7464bad9c4c3a7d5e00d4d0",
            "value": " 24999/25000 [00:00&lt;00:00, 100329.21 examples/s]"
          }
        },
        "d6bd1d41bb8e414e8b32282da8e9d1d4": {
          "model_module": "@jupyter-widgets/base",
          "model_name": "LayoutModel",
          "model_module_version": "1.2.0",
          "state": {
            "_model_module": "@jupyter-widgets/base",
            "_model_module_version": "1.2.0",
            "_model_name": "LayoutModel",
            "_view_count": null,
            "_view_module": "@jupyter-widgets/base",
            "_view_module_version": "1.2.0",
            "_view_name": "LayoutView",
            "align_content": null,
            "align_items": null,
            "align_self": null,
            "border": null,
            "bottom": null,
            "display": null,
            "flex": null,
            "flex_flow": null,
            "grid_area": null,
            "grid_auto_columns": null,
            "grid_auto_flow": null,
            "grid_auto_rows": null,
            "grid_column": null,
            "grid_gap": null,
            "grid_row": null,
            "grid_template_areas": null,
            "grid_template_columns": null,
            "grid_template_rows": null,
            "height": null,
            "justify_content": null,
            "justify_items": null,
            "left": null,
            "margin": null,
            "max_height": null,
            "max_width": null,
            "min_height": null,
            "min_width": null,
            "object_fit": null,
            "object_position": null,
            "order": null,
            "overflow": null,
            "overflow_x": null,
            "overflow_y": null,
            "padding": null,
            "right": null,
            "top": null,
            "visibility": null,
            "width": null
          }
        },
        "1c9ad384796f44dd88729590b17081cb": {
          "model_module": "@jupyter-widgets/base",
          "model_name": "LayoutModel",
          "model_module_version": "1.2.0",
          "state": {
            "_model_module": "@jupyter-widgets/base",
            "_model_module_version": "1.2.0",
            "_model_name": "LayoutModel",
            "_view_count": null,
            "_view_module": "@jupyter-widgets/base",
            "_view_module_version": "1.2.0",
            "_view_name": "LayoutView",
            "align_content": null,
            "align_items": null,
            "align_self": null,
            "border": null,
            "bottom": null,
            "display": null,
            "flex": null,
            "flex_flow": null,
            "grid_area": null,
            "grid_auto_columns": null,
            "grid_auto_flow": null,
            "grid_auto_rows": null,
            "grid_column": null,
            "grid_gap": null,
            "grid_row": null,
            "grid_template_areas": null,
            "grid_template_columns": null,
            "grid_template_rows": null,
            "height": null,
            "justify_content": null,
            "justify_items": null,
            "left": null,
            "margin": null,
            "max_height": null,
            "max_width": null,
            "min_height": null,
            "min_width": null,
            "object_fit": null,
            "object_position": null,
            "order": null,
            "overflow": null,
            "overflow_x": null,
            "overflow_y": null,
            "padding": null,
            "right": null,
            "top": null,
            "visibility": null,
            "width": null
          }
        },
        "8b5d88d178794f019a52fa8bc4398b59": {
          "model_module": "@jupyter-widgets/controls",
          "model_name": "DescriptionStyleModel",
          "model_module_version": "1.5.0",
          "state": {
            "_model_module": "@jupyter-widgets/controls",
            "_model_module_version": "1.5.0",
            "_model_name": "DescriptionStyleModel",
            "_view_count": null,
            "_view_module": "@jupyter-widgets/base",
            "_view_module_version": "1.2.0",
            "_view_name": "StyleView",
            "description_width": ""
          }
        },
        "ae5795b5238e4c4ab06bdb3b8a0c2b69": {
          "model_module": "@jupyter-widgets/base",
          "model_name": "LayoutModel",
          "model_module_version": "1.2.0",
          "state": {
            "_model_module": "@jupyter-widgets/base",
            "_model_module_version": "1.2.0",
            "_model_name": "LayoutModel",
            "_view_count": null,
            "_view_module": "@jupyter-widgets/base",
            "_view_module_version": "1.2.0",
            "_view_name": "LayoutView",
            "align_content": null,
            "align_items": null,
            "align_self": null,
            "border": null,
            "bottom": null,
            "display": null,
            "flex": null,
            "flex_flow": null,
            "grid_area": null,
            "grid_auto_columns": null,
            "grid_auto_flow": null,
            "grid_auto_rows": null,
            "grid_column": null,
            "grid_gap": null,
            "grid_row": null,
            "grid_template_areas": null,
            "grid_template_columns": null,
            "grid_template_rows": null,
            "height": null,
            "justify_content": null,
            "justify_items": null,
            "left": null,
            "margin": null,
            "max_height": null,
            "max_width": null,
            "min_height": null,
            "min_width": null,
            "object_fit": null,
            "object_position": null,
            "order": null,
            "overflow": null,
            "overflow_x": null,
            "overflow_y": null,
            "padding": null,
            "right": null,
            "top": null,
            "visibility": null,
            "width": null
          }
        },
        "988d25a8e869415fa1befaa1b5e34149": {
          "model_module": "@jupyter-widgets/controls",
          "model_name": "ProgressStyleModel",
          "model_module_version": "1.5.0",
          "state": {
            "_model_module": "@jupyter-widgets/controls",
            "_model_module_version": "1.5.0",
            "_model_name": "ProgressStyleModel",
            "_view_count": null,
            "_view_module": "@jupyter-widgets/base",
            "_view_module_version": "1.2.0",
            "_view_name": "StyleView",
            "bar_color": null,
            "description_width": ""
          }
        },
        "51f28a456e9f42ba84562f0f3db1c783": {
          "model_module": "@jupyter-widgets/base",
          "model_name": "LayoutModel",
          "model_module_version": "1.2.0",
          "state": {
            "_model_module": "@jupyter-widgets/base",
            "_model_module_version": "1.2.0",
            "_model_name": "LayoutModel",
            "_view_count": null,
            "_view_module": "@jupyter-widgets/base",
            "_view_module_version": "1.2.0",
            "_view_name": "LayoutView",
            "align_content": null,
            "align_items": null,
            "align_self": null,
            "border": null,
            "bottom": null,
            "display": null,
            "flex": null,
            "flex_flow": null,
            "grid_area": null,
            "grid_auto_columns": null,
            "grid_auto_flow": null,
            "grid_auto_rows": null,
            "grid_column": null,
            "grid_gap": null,
            "grid_row": null,
            "grid_template_areas": null,
            "grid_template_columns": null,
            "grid_template_rows": null,
            "height": null,
            "justify_content": null,
            "justify_items": null,
            "left": null,
            "margin": null,
            "max_height": null,
            "max_width": null,
            "min_height": null,
            "min_width": null,
            "object_fit": null,
            "object_position": null,
            "order": null,
            "overflow": null,
            "overflow_x": null,
            "overflow_y": null,
            "padding": null,
            "right": null,
            "top": null,
            "visibility": null,
            "width": null
          }
        },
        "0a3c7447c7464bad9c4c3a7d5e00d4d0": {
          "model_module": "@jupyter-widgets/controls",
          "model_name": "DescriptionStyleModel",
          "model_module_version": "1.5.0",
          "state": {
            "_model_module": "@jupyter-widgets/controls",
            "_model_module_version": "1.5.0",
            "_model_name": "DescriptionStyleModel",
            "_view_count": null,
            "_view_module": "@jupyter-widgets/base",
            "_view_module_version": "1.2.0",
            "_view_name": "StyleView",
            "description_width": ""
          }
        },
        "ca5cc996ec5340c0b3fa2f0ef955ebec": {
          "model_module": "@jupyter-widgets/controls",
          "model_name": "HBoxModel",
          "model_module_version": "1.5.0",
          "state": {
            "_dom_classes": [],
            "_model_module": "@jupyter-widgets/controls",
            "_model_module_version": "1.5.0",
            "_model_name": "HBoxModel",
            "_view_count": null,
            "_view_module": "@jupyter-widgets/controls",
            "_view_module_version": "1.5.0",
            "_view_name": "HBoxView",
            "box_style": "",
            "children": [
              "IPY_MODEL_721705c63009463eaf6c36c053fd558b",
              "IPY_MODEL_65e7e10448e840b68e42e674d2321b3e",
              "IPY_MODEL_ffd74d1c8da542d58792ed6519b24249"
            ],
            "layout": "IPY_MODEL_fdc7faf2990b458faf2a96ecc522547a"
          }
        },
        "721705c63009463eaf6c36c053fd558b": {
          "model_module": "@jupyter-widgets/controls",
          "model_name": "HTMLModel",
          "model_module_version": "1.5.0",
          "state": {
            "_dom_classes": [],
            "_model_module": "@jupyter-widgets/controls",
            "_model_module_version": "1.5.0",
            "_model_name": "HTMLModel",
            "_view_count": null,
            "_view_module": "@jupyter-widgets/controls",
            "_view_module_version": "1.5.0",
            "_view_name": "HTMLView",
            "description": "",
            "description_tooltip": null,
            "layout": "IPY_MODEL_b24f4a4b324046009b2acae390d8647a",
            "placeholder": "​",
            "style": "IPY_MODEL_7e4319a3a6f34651a0d47f12e2b19ef6",
            "value": ""
          }
        },
        "65e7e10448e840b68e42e674d2321b3e": {
          "model_module": "@jupyter-widgets/controls",
          "model_name": "FloatProgressModel",
          "model_module_version": "1.5.0",
          "state": {
            "_dom_classes": [],
            "_model_module": "@jupyter-widgets/controls",
            "_model_module_version": "1.5.0",
            "_model_name": "FloatProgressModel",
            "_view_count": null,
            "_view_module": "@jupyter-widgets/controls",
            "_view_module_version": "1.5.0",
            "_view_name": "ProgressView",
            "bar_style": "info",
            "description": "",
            "description_tooltip": null,
            "layout": "IPY_MODEL_2258eca2cf9e4656a03b16eb2c03a9b8",
            "max": 1,
            "min": 0,
            "orientation": "horizontal",
            "style": "IPY_MODEL_bc951cdfd0bd4bbe80b836a413a51ecb",
            "value": 1
          }
        },
        "ffd74d1c8da542d58792ed6519b24249": {
          "model_module": "@jupyter-widgets/controls",
          "model_name": "HTMLModel",
          "model_module_version": "1.5.0",
          "state": {
            "_dom_classes": [],
            "_model_module": "@jupyter-widgets/controls",
            "_model_module_version": "1.5.0",
            "_model_name": "HTMLModel",
            "_view_count": null,
            "_view_module": "@jupyter-widgets/controls",
            "_view_module_version": "1.5.0",
            "_view_name": "HTMLView",
            "description": "",
            "description_tooltip": null,
            "layout": "IPY_MODEL_9cf6e1c87d2a4af0b00cdcea4f615988",
            "placeholder": "​",
            "style": "IPY_MODEL_6932bf86f9f04d55a97c13c31d03c339",
            "value": " 49956/0 [00:23&lt;00:00, 2788.01 examples/s]"
          }
        },
        "fdc7faf2990b458faf2a96ecc522547a": {
          "model_module": "@jupyter-widgets/base",
          "model_name": "LayoutModel",
          "model_module_version": "1.2.0",
          "state": {
            "_model_module": "@jupyter-widgets/base",
            "_model_module_version": "1.2.0",
            "_model_name": "LayoutModel",
            "_view_count": null,
            "_view_module": "@jupyter-widgets/base",
            "_view_module_version": "1.2.0",
            "_view_name": "LayoutView",
            "align_content": null,
            "align_items": null,
            "align_self": null,
            "border": null,
            "bottom": null,
            "display": null,
            "flex": null,
            "flex_flow": null,
            "grid_area": null,
            "grid_auto_columns": null,
            "grid_auto_flow": null,
            "grid_auto_rows": null,
            "grid_column": null,
            "grid_gap": null,
            "grid_row": null,
            "grid_template_areas": null,
            "grid_template_columns": null,
            "grid_template_rows": null,
            "height": null,
            "justify_content": null,
            "justify_items": null,
            "left": null,
            "margin": null,
            "max_height": null,
            "max_width": null,
            "min_height": null,
            "min_width": null,
            "object_fit": null,
            "object_position": null,
            "order": null,
            "overflow": null,
            "overflow_x": null,
            "overflow_y": null,
            "padding": null,
            "right": null,
            "top": null,
            "visibility": null,
            "width": null
          }
        },
        "b24f4a4b324046009b2acae390d8647a": {
          "model_module": "@jupyter-widgets/base",
          "model_name": "LayoutModel",
          "model_module_version": "1.2.0",
          "state": {
            "_model_module": "@jupyter-widgets/base",
            "_model_module_version": "1.2.0",
            "_model_name": "LayoutModel",
            "_view_count": null,
            "_view_module": "@jupyter-widgets/base",
            "_view_module_version": "1.2.0",
            "_view_name": "LayoutView",
            "align_content": null,
            "align_items": null,
            "align_self": null,
            "border": null,
            "bottom": null,
            "display": null,
            "flex": null,
            "flex_flow": null,
            "grid_area": null,
            "grid_auto_columns": null,
            "grid_auto_flow": null,
            "grid_auto_rows": null,
            "grid_column": null,
            "grid_gap": null,
            "grid_row": null,
            "grid_template_areas": null,
            "grid_template_columns": null,
            "grid_template_rows": null,
            "height": null,
            "justify_content": null,
            "justify_items": null,
            "left": null,
            "margin": null,
            "max_height": null,
            "max_width": null,
            "min_height": null,
            "min_width": null,
            "object_fit": null,
            "object_position": null,
            "order": null,
            "overflow": null,
            "overflow_x": null,
            "overflow_y": null,
            "padding": null,
            "right": null,
            "top": null,
            "visibility": null,
            "width": null
          }
        },
        "7e4319a3a6f34651a0d47f12e2b19ef6": {
          "model_module": "@jupyter-widgets/controls",
          "model_name": "DescriptionStyleModel",
          "model_module_version": "1.5.0",
          "state": {
            "_model_module": "@jupyter-widgets/controls",
            "_model_module_version": "1.5.0",
            "_model_name": "DescriptionStyleModel",
            "_view_count": null,
            "_view_module": "@jupyter-widgets/base",
            "_view_module_version": "1.2.0",
            "_view_name": "StyleView",
            "description_width": ""
          }
        },
        "2258eca2cf9e4656a03b16eb2c03a9b8": {
          "model_module": "@jupyter-widgets/base",
          "model_name": "LayoutModel",
          "model_module_version": "1.2.0",
          "state": {
            "_model_module": "@jupyter-widgets/base",
            "_model_module_version": "1.2.0",
            "_model_name": "LayoutModel",
            "_view_count": null,
            "_view_module": "@jupyter-widgets/base",
            "_view_module_version": "1.2.0",
            "_view_name": "LayoutView",
            "align_content": null,
            "align_items": null,
            "align_self": null,
            "border": null,
            "bottom": null,
            "display": null,
            "flex": null,
            "flex_flow": null,
            "grid_area": null,
            "grid_auto_columns": null,
            "grid_auto_flow": null,
            "grid_auto_rows": null,
            "grid_column": null,
            "grid_gap": null,
            "grid_row": null,
            "grid_template_areas": null,
            "grid_template_columns": null,
            "grid_template_rows": null,
            "height": null,
            "justify_content": null,
            "justify_items": null,
            "left": null,
            "margin": null,
            "max_height": null,
            "max_width": null,
            "min_height": null,
            "min_width": null,
            "object_fit": null,
            "object_position": null,
            "order": null,
            "overflow": null,
            "overflow_x": null,
            "overflow_y": null,
            "padding": null,
            "right": null,
            "top": null,
            "visibility": null,
            "width": "20px"
          }
        },
        "bc951cdfd0bd4bbe80b836a413a51ecb": {
          "model_module": "@jupyter-widgets/controls",
          "model_name": "ProgressStyleModel",
          "model_module_version": "1.5.0",
          "state": {
            "_model_module": "@jupyter-widgets/controls",
            "_model_module_version": "1.5.0",
            "_model_name": "ProgressStyleModel",
            "_view_count": null,
            "_view_module": "@jupyter-widgets/base",
            "_view_module_version": "1.2.0",
            "_view_name": "StyleView",
            "bar_color": null,
            "description_width": ""
          }
        },
        "9cf6e1c87d2a4af0b00cdcea4f615988": {
          "model_module": "@jupyter-widgets/base",
          "model_name": "LayoutModel",
          "model_module_version": "1.2.0",
          "state": {
            "_model_module": "@jupyter-widgets/base",
            "_model_module_version": "1.2.0",
            "_model_name": "LayoutModel",
            "_view_count": null,
            "_view_module": "@jupyter-widgets/base",
            "_view_module_version": "1.2.0",
            "_view_name": "LayoutView",
            "align_content": null,
            "align_items": null,
            "align_self": null,
            "border": null,
            "bottom": null,
            "display": null,
            "flex": null,
            "flex_flow": null,
            "grid_area": null,
            "grid_auto_columns": null,
            "grid_auto_flow": null,
            "grid_auto_rows": null,
            "grid_column": null,
            "grid_gap": null,
            "grid_row": null,
            "grid_template_areas": null,
            "grid_template_columns": null,
            "grid_template_rows": null,
            "height": null,
            "justify_content": null,
            "justify_items": null,
            "left": null,
            "margin": null,
            "max_height": null,
            "max_width": null,
            "min_height": null,
            "min_width": null,
            "object_fit": null,
            "object_position": null,
            "order": null,
            "overflow": null,
            "overflow_x": null,
            "overflow_y": null,
            "padding": null,
            "right": null,
            "top": null,
            "visibility": null,
            "width": null
          }
        },
        "6932bf86f9f04d55a97c13c31d03c339": {
          "model_module": "@jupyter-widgets/controls",
          "model_name": "DescriptionStyleModel",
          "model_module_version": "1.5.0",
          "state": {
            "_model_module": "@jupyter-widgets/controls",
            "_model_module_version": "1.5.0",
            "_model_name": "DescriptionStyleModel",
            "_view_count": null,
            "_view_module": "@jupyter-widgets/base",
            "_view_module_version": "1.2.0",
            "_view_name": "StyleView",
            "description_width": ""
          }
        },
        "4439693e5c9f43a189780a7a0b822377": {
          "model_module": "@jupyter-widgets/controls",
          "model_name": "HBoxModel",
          "model_module_version": "1.5.0",
          "state": {
            "_dom_classes": [],
            "_model_module": "@jupyter-widgets/controls",
            "_model_module_version": "1.5.0",
            "_model_name": "HBoxModel",
            "_view_count": null,
            "_view_module": "@jupyter-widgets/controls",
            "_view_module_version": "1.5.0",
            "_view_name": "HBoxView",
            "box_style": "",
            "children": [
              "IPY_MODEL_a7c18f71b91242248fe2943352a7d644",
              "IPY_MODEL_8081c26c67a446df875d888cf6bbd065",
              "IPY_MODEL_5e76254611de45c4835d7e23995766aa"
            ],
            "layout": "IPY_MODEL_ca3a9160008b4b87b97a535fe3de1de3"
          }
        },
        "a7c18f71b91242248fe2943352a7d644": {
          "model_module": "@jupyter-widgets/controls",
          "model_name": "HTMLModel",
          "model_module_version": "1.5.0",
          "state": {
            "_dom_classes": [],
            "_model_module": "@jupyter-widgets/controls",
            "_model_module_version": "1.5.0",
            "_model_name": "HTMLModel",
            "_view_count": null,
            "_view_module": "@jupyter-widgets/controls",
            "_view_module_version": "1.5.0",
            "_view_name": "HTMLView",
            "description": "",
            "description_tooltip": null,
            "layout": "IPY_MODEL_631e1a03d4294641ab4074c668b54878",
            "placeholder": "​",
            "style": "IPY_MODEL_c0b7a16fc7824d038f2867aceb048097",
            "value": "100%"
          }
        },
        "8081c26c67a446df875d888cf6bbd065": {
          "model_module": "@jupyter-widgets/controls",
          "model_name": "FloatProgressModel",
          "model_module_version": "1.5.0",
          "state": {
            "_dom_classes": [],
            "_model_module": "@jupyter-widgets/controls",
            "_model_module_version": "1.5.0",
            "_model_name": "FloatProgressModel",
            "_view_count": null,
            "_view_module": "@jupyter-widgets/controls",
            "_view_module_version": "1.5.0",
            "_view_name": "ProgressView",
            "bar_style": "danger",
            "description": "",
            "description_tooltip": null,
            "layout": "IPY_MODEL_0e86160fb1c144b6b56b37a9cf324a78",
            "max": 50000,
            "min": 0,
            "orientation": "horizontal",
            "style": "IPY_MODEL_b0859d9419fa49c3a25de080de5c23f8",
            "value": 49999
          }
        },
        "5e76254611de45c4835d7e23995766aa": {
          "model_module": "@jupyter-widgets/controls",
          "model_name": "HTMLModel",
          "model_module_version": "1.5.0",
          "state": {
            "_dom_classes": [],
            "_model_module": "@jupyter-widgets/controls",
            "_model_module_version": "1.5.0",
            "_model_name": "HTMLModel",
            "_view_count": null,
            "_view_module": "@jupyter-widgets/controls",
            "_view_module_version": "1.5.0",
            "_view_name": "HTMLView",
            "description": "",
            "description_tooltip": null,
            "layout": "IPY_MODEL_9d35a77382674a6c8d9b7c495caa8475",
            "placeholder": "​",
            "style": "IPY_MODEL_6355bf93890a4600b1049deffe3a6b8e",
            "value": " 49999/50000 [00:00&lt;00:00, 132100.70 examples/s]"
          }
        },
        "ca3a9160008b4b87b97a535fe3de1de3": {
          "model_module": "@jupyter-widgets/base",
          "model_name": "LayoutModel",
          "model_module_version": "1.2.0",
          "state": {
            "_model_module": "@jupyter-widgets/base",
            "_model_module_version": "1.2.0",
            "_model_name": "LayoutModel",
            "_view_count": null,
            "_view_module": "@jupyter-widgets/base",
            "_view_module_version": "1.2.0",
            "_view_name": "LayoutView",
            "align_content": null,
            "align_items": null,
            "align_self": null,
            "border": null,
            "bottom": null,
            "display": null,
            "flex": null,
            "flex_flow": null,
            "grid_area": null,
            "grid_auto_columns": null,
            "grid_auto_flow": null,
            "grid_auto_rows": null,
            "grid_column": null,
            "grid_gap": null,
            "grid_row": null,
            "grid_template_areas": null,
            "grid_template_columns": null,
            "grid_template_rows": null,
            "height": null,
            "justify_content": null,
            "justify_items": null,
            "left": null,
            "margin": null,
            "max_height": null,
            "max_width": null,
            "min_height": null,
            "min_width": null,
            "object_fit": null,
            "object_position": null,
            "order": null,
            "overflow": null,
            "overflow_x": null,
            "overflow_y": null,
            "padding": null,
            "right": null,
            "top": null,
            "visibility": null,
            "width": null
          }
        },
        "631e1a03d4294641ab4074c668b54878": {
          "model_module": "@jupyter-widgets/base",
          "model_name": "LayoutModel",
          "model_module_version": "1.2.0",
          "state": {
            "_model_module": "@jupyter-widgets/base",
            "_model_module_version": "1.2.0",
            "_model_name": "LayoutModel",
            "_view_count": null,
            "_view_module": "@jupyter-widgets/base",
            "_view_module_version": "1.2.0",
            "_view_name": "LayoutView",
            "align_content": null,
            "align_items": null,
            "align_self": null,
            "border": null,
            "bottom": null,
            "display": null,
            "flex": null,
            "flex_flow": null,
            "grid_area": null,
            "grid_auto_columns": null,
            "grid_auto_flow": null,
            "grid_auto_rows": null,
            "grid_column": null,
            "grid_gap": null,
            "grid_row": null,
            "grid_template_areas": null,
            "grid_template_columns": null,
            "grid_template_rows": null,
            "height": null,
            "justify_content": null,
            "justify_items": null,
            "left": null,
            "margin": null,
            "max_height": null,
            "max_width": null,
            "min_height": null,
            "min_width": null,
            "object_fit": null,
            "object_position": null,
            "order": null,
            "overflow": null,
            "overflow_x": null,
            "overflow_y": null,
            "padding": null,
            "right": null,
            "top": null,
            "visibility": null,
            "width": null
          }
        },
        "c0b7a16fc7824d038f2867aceb048097": {
          "model_module": "@jupyter-widgets/controls",
          "model_name": "DescriptionStyleModel",
          "model_module_version": "1.5.0",
          "state": {
            "_model_module": "@jupyter-widgets/controls",
            "_model_module_version": "1.5.0",
            "_model_name": "DescriptionStyleModel",
            "_view_count": null,
            "_view_module": "@jupyter-widgets/base",
            "_view_module_version": "1.2.0",
            "_view_name": "StyleView",
            "description_width": ""
          }
        },
        "0e86160fb1c144b6b56b37a9cf324a78": {
          "model_module": "@jupyter-widgets/base",
          "model_name": "LayoutModel",
          "model_module_version": "1.2.0",
          "state": {
            "_model_module": "@jupyter-widgets/base",
            "_model_module_version": "1.2.0",
            "_model_name": "LayoutModel",
            "_view_count": null,
            "_view_module": "@jupyter-widgets/base",
            "_view_module_version": "1.2.0",
            "_view_name": "LayoutView",
            "align_content": null,
            "align_items": null,
            "align_self": null,
            "border": null,
            "bottom": null,
            "display": null,
            "flex": null,
            "flex_flow": null,
            "grid_area": null,
            "grid_auto_columns": null,
            "grid_auto_flow": null,
            "grid_auto_rows": null,
            "grid_column": null,
            "grid_gap": null,
            "grid_row": null,
            "grid_template_areas": null,
            "grid_template_columns": null,
            "grid_template_rows": null,
            "height": null,
            "justify_content": null,
            "justify_items": null,
            "left": null,
            "margin": null,
            "max_height": null,
            "max_width": null,
            "min_height": null,
            "min_width": null,
            "object_fit": null,
            "object_position": null,
            "order": null,
            "overflow": null,
            "overflow_x": null,
            "overflow_y": null,
            "padding": null,
            "right": null,
            "top": null,
            "visibility": null,
            "width": null
          }
        },
        "b0859d9419fa49c3a25de080de5c23f8": {
          "model_module": "@jupyter-widgets/controls",
          "model_name": "ProgressStyleModel",
          "model_module_version": "1.5.0",
          "state": {
            "_model_module": "@jupyter-widgets/controls",
            "_model_module_version": "1.5.0",
            "_model_name": "ProgressStyleModel",
            "_view_count": null,
            "_view_module": "@jupyter-widgets/base",
            "_view_module_version": "1.2.0",
            "_view_name": "StyleView",
            "bar_color": null,
            "description_width": ""
          }
        },
        "9d35a77382674a6c8d9b7c495caa8475": {
          "model_module": "@jupyter-widgets/base",
          "model_name": "LayoutModel",
          "model_module_version": "1.2.0",
          "state": {
            "_model_module": "@jupyter-widgets/base",
            "_model_module_version": "1.2.0",
            "_model_name": "LayoutModel",
            "_view_count": null,
            "_view_module": "@jupyter-widgets/base",
            "_view_module_version": "1.2.0",
            "_view_name": "LayoutView",
            "align_content": null,
            "align_items": null,
            "align_self": null,
            "border": null,
            "bottom": null,
            "display": null,
            "flex": null,
            "flex_flow": null,
            "grid_area": null,
            "grid_auto_columns": null,
            "grid_auto_flow": null,
            "grid_auto_rows": null,
            "grid_column": null,
            "grid_gap": null,
            "grid_row": null,
            "grid_template_areas": null,
            "grid_template_columns": null,
            "grid_template_rows": null,
            "height": null,
            "justify_content": null,
            "justify_items": null,
            "left": null,
            "margin": null,
            "max_height": null,
            "max_width": null,
            "min_height": null,
            "min_width": null,
            "object_fit": null,
            "object_position": null,
            "order": null,
            "overflow": null,
            "overflow_x": null,
            "overflow_y": null,
            "padding": null,
            "right": null,
            "top": null,
            "visibility": null,
            "width": null
          }
        },
        "6355bf93890a4600b1049deffe3a6b8e": {
          "model_module": "@jupyter-widgets/controls",
          "model_name": "DescriptionStyleModel",
          "model_module_version": "1.5.0",
          "state": {
            "_model_module": "@jupyter-widgets/controls",
            "_model_module_version": "1.5.0",
            "_model_name": "DescriptionStyleModel",
            "_view_count": null,
            "_view_module": "@jupyter-widgets/base",
            "_view_module_version": "1.2.0",
            "_view_name": "StyleView",
            "description_width": ""
          }
        }
      }
    }
  },
  "cells": [
    {
      "cell_type": "markdown",
      "metadata": {
        "id": "view-in-github",
        "colab_type": "text"
      },
      "source": [
        "<a href=\"https://colab.research.google.com/github/tylerchi1000/Web-Scraper-Sentiment-Analysis/blob/WIP-Indeed-Scraper/Scraper_Samples.ipynb\" target=\"_parent\"><img src=\"https://colab.research.google.com/assets/colab-badge.svg\" alt=\"Open In Colab\"/></a>"
      ]
    },
    {
      "cell_type": "code",
      "source": [
        ""
      ],
      "metadata": {
        "id": "PCsV3SmiWVYD"
      },
      "execution_count": null,
      "outputs": []
    },
    {
      "cell_type": "markdown",
      "source": [
        "# Amazon Review Scraper\n"
      ],
      "metadata": {
        "id": "o-D2sWNAWVtE"
      }
    },
    {
      "cell_type": "code",
      "execution_count": null,
      "metadata": {
        "id": "pulTrBlev8Yz"
      },
      "outputs": [],
      "source": [
        "#Scrapes Reviews From Amazon Review Pages (USA)\n",
        "#Utilizes the Scraper API in order to bypass wait restrictions and avoid blockage.\n",
        "#Additional Documentation for Scraper API available at https://www.scraperapi.com/documentation/\n",
        "\n",
        "\n",
        "import requests\n",
        "import csv\n",
        "from bs4 import BeautifulSoup\n",
        "import numpy as np\n",
        "import pandas as pd"
      ]
    },
    {
      "cell_type": "code",
      "source": [
        "#Thanks to John Watson Rooney for his excellent video on using Beatiful Soup https://www.youtube.com/watch?v=DIT8rwyPEns&t=380s \n",
        "\n",
        "# SAMPLE API CODE curl \"http://api.scraperapi.com?api_key=1081312d4de6bfa2d256048cd767a530&url=http://httpbin.org/ip\""
      ],
      "metadata": {
        "id": "BIwIbvDO03KE"
      },
      "execution_count": null,
      "outputs": []
    },
    {
      "cell_type": "code",
      "source": [
        "url = 'https://www.amazon.com/Streaming-Microphone-Widescreen-Conferencing-Recording/product-reviews/B082X91MPP/ref=cm_cr_arp_d_viewopt_rvwer?ie=UTF8&reviewerType=all_reviews&pageNumber=1'\n",
        "APIKEY = ''"
      ],
      "metadata": {
        "id": "XxMUEXMN2rdf"
      },
      "execution_count": null,
      "outputs": []
    },
    {
      "cell_type": "code",
      "source": [
        "#reviews = soup.find_all('div', {'data-hook': 'review'})"
      ],
      "metadata": {
        "id": "szIcRDUG4zwH"
      },
      "execution_count": null,
      "outputs": []
    },
    {
      "cell_type": "code",
      "source": [
        "#For Experimenting \n",
        "\n",
        "'''\n",
        "for item in reviews:\n",
        "  review = {\n",
        "    'product' : soup.title.text.replace('Amazon.com: Customer reviews:', '').strip(),\n",
        "    'title' : item.find('a', {'data-hook': 'review-title'}).text.strip(),\n",
        "    'date' : item.find('span', {'data-hook' : 'review-date'}).text.strip(),\n",
        "    #Retreive Rating from i data hook: remove additional text and convert to float\n",
        "    'rating' : float(item.find('i', {'data-hook': 'review-star-rating'}).text.replace('out of 5 stars', '').strip()),\n",
        "    'body' : item.find('span', {'data-hook': 'review-body'}).text.strip()\n",
        "  }\n",
        "  '''"
      ],
      "metadata": {
        "id": "sGe6P1Aw4637"
      },
      "execution_count": null,
      "outputs": []
    },
    {
      "cell_type": "code",
      "source": [
        ""
      ],
      "metadata": {
        "id": "_SM8XybA8hBV"
      },
      "execution_count": null,
      "outputs": []
    },
    {
      "cell_type": "code",
      "source": [
        "#Sends Request to URL Using Scraper API, and returns html parsed soup\n",
        "def get_soup(url):\n",
        "  payload = {'api_key': APIKEY, 'url': url}\n",
        "  r = requests.get('http://api.scraperapi.com', params=payload)\n",
        "  soup = BeautifulSoup(r.text, 'html.parser')\n",
        "  return soup"
      ],
      "metadata": {
        "id": "gv5U2a1F9H27"
      },
      "execution_count": null,
      "outputs": []
    },
    {
      "cell_type": "code",
      "source": [
        "def get_reviews(soup):\n",
        "  reviews = soup.find_all('div', {'data-hook': 'review'})\n",
        "  \n",
        "  #Better way to handle errors???\n",
        "  try:\n",
        "    for item in reviews:\n",
        "      review = {\n",
        "        'product' : soup.title.text.replace('Amazon.com: Customer reviews:', '').strip(),\n",
        "        'title' : item.find('a', {'data-hook': 'review-title'}).text.strip(),\n",
        "        #Retreive Rating from i data hook: remove additional text and convert to float\n",
        "        'rating' : float(item.find('i', {'data-hook': 'review-star-rating'}).text.replace('out of 5 stars', '').strip()),\n",
        "        'body' : item.find('span', {'data-hook': 'review-body'}).text.strip()\n",
        "      }\n",
        "      #Remember to create list called reviewlist, or add function to create list\n",
        "      reviewlist.append(review)\n",
        "  except:\n",
        "      pass\n",
        "  "
      ],
      "metadata": {
        "id": "SVPpV9zO9U_k"
      },
      "execution_count": null,
      "outputs": []
    },
    {
      "cell_type": "code",
      "source": [
        "#Example, Pull pages 1-5 from amazon url\n",
        "reviewlist = []\n",
        "for x in range(1,5):\n",
        "  soup = get_soup(f'https://www.amazon.com/Stardrops-Ultimate-Cleaning-Multi-Purpose-Bathroom/product-reviews/B08V7G5GYH/ref=cm_cr_getr_d_paging_btm_next_3?ie=UTF8&reviewerType=all_reviews&pageNumber={x}')\n",
        "  print(f'Getting page: {x}')\n",
        "  get_reviews(soup)\n",
        "  #print(len(reviewlist))\n",
        "  if not soup.find('li', {'class': 'a-disabled a-last'}):\n",
        "    pass\n",
        "  else:\n",
        "    break"
      ],
      "metadata": {
        "colab": {
          "base_uri": "https://localhost:8080/"
        },
        "id": "Om7opJdt-QtZ",
        "outputId": "2e75f5cd-9f48-40a5-d3e3-d2d5705fd822"
      },
      "execution_count": null,
      "outputs": [
        {
          "output_type": "stream",
          "name": "stdout",
          "text": [
            "Getting page: 1\n",
            "Getting page: 2\n",
            "Getting page: 3\n",
            "Getting page: 4\n"
          ]
        }
      ]
    },
    {
      "cell_type": "code",
      "source": [
        "df = pd.DataFrame(reviewlist)"
      ],
      "metadata": {
        "id": "bqpooxuSXAnu"
      },
      "execution_count": null,
      "outputs": []
    },
    {
      "cell_type": "code",
      "source": [
        "df"
      ],
      "metadata": {
        "colab": {
          "base_uri": "https://localhost:8080/",
          "height": 1000
        },
        "id": "6Eeh6JWHZFvV",
        "outputId": "d1e0ec53-1bbb-4bc8-d4ae-591c9c972d06"
      },
      "execution_count": null,
      "outputs": [
        {
          "output_type": "execute_result",
          "data": {
            "text/plain": [
              "                                              product  \\\n",
              "0   Stardrops - The Pink Stuff - Ultimate Bundle -...   \n",
              "1   Stardrops - The Pink Stuff - Ultimate Bundle -...   \n",
              "2   Stardrops - The Pink Stuff - Ultimate Bundle -...   \n",
              "3   Stardrops - The Pink Stuff - Ultimate Bundle -...   \n",
              "4   Stardrops - The Pink Stuff - Ultimate Bundle -...   \n",
              "5   Stardrops - The Pink Stuff - Ultimate Bundle -...   \n",
              "6   Stardrops - The Pink Stuff - Ultimate Bundle -...   \n",
              "7   Stardrops - The Pink Stuff - Ultimate Bundle -...   \n",
              "8   Stardrops - The Pink Stuff - Ultimate Bundle -...   \n",
              "9   Stardrops - The Pink Stuff - Ultimate Bundle -...   \n",
              "10  Stardrops - The Pink Stuff - Ultimate Bundle -...   \n",
              "11  Stardrops - The Pink Stuff - Ultimate Bundle -...   \n",
              "12  Stardrops - The Pink Stuff - Ultimate Bundle -...   \n",
              "13  Stardrops - The Pink Stuff - Ultimate Bundle -...   \n",
              "14  Stardrops - The Pink Stuff - Ultimate Bundle -...   \n",
              "15  Stardrops - The Pink Stuff - Ultimate Bundle -...   \n",
              "16  Stardrops - The Pink Stuff - Ultimate Bundle -...   \n",
              "17  Stardrops - The Pink Stuff - Ultimate Bundle -...   \n",
              "18  Stardrops - The Pink Stuff - Ultimate Bundle -...   \n",
              "19  Stardrops - The Pink Stuff - Ultimate Bundle -...   \n",
              "20  Stardrops - The Pink Stuff - Ultimate Bundle -...   \n",
              "21  Stardrops - The Pink Stuff - Ultimate Bundle -...   \n",
              "22  Stardrops - The Pink Stuff - Ultimate Bundle -...   \n",
              "23  Stardrops - The Pink Stuff - Ultimate Bundle -...   \n",
              "24  Stardrops - The Pink Stuff - Ultimate Bundle -...   \n",
              "25  Stardrops - The Pink Stuff - Ultimate Bundle -...   \n",
              "26  Stardrops - The Pink Stuff - Ultimate Bundle -...   \n",
              "27  Stardrops - The Pink Stuff - Ultimate Bundle -...   \n",
              "28  Stardrops - The Pink Stuff - Ultimate Bundle -...   \n",
              "29  Stardrops - The Pink Stuff - Ultimate Bundle -...   \n",
              "30  Stardrops - The Pink Stuff - Ultimate Bundle -...   \n",
              "31  Stardrops - The Pink Stuff - Ultimate Bundle -...   \n",
              "32  Stardrops - The Pink Stuff - Ultimate Bundle -...   \n",
              "33  Stardrops - The Pink Stuff - Ultimate Bundle -...   \n",
              "34  Stardrops - The Pink Stuff - Ultimate Bundle -...   \n",
              "35  Stardrops - The Pink Stuff - Ultimate Bundle -...   \n",
              "36  Stardrops - The Pink Stuff - Ultimate Bundle -...   \n",
              "37  Stardrops - The Pink Stuff - Ultimate Bundle -...   \n",
              "38  Stardrops - The Pink Stuff - Ultimate Bundle -...   \n",
              "39  Stardrops - The Pink Stuff - Ultimate Bundle -...   \n",
              "\n",
              "                                                title  rating  \\\n",
              "0   Highly recommend this powerhouse cleaner. Plea...     5.0   \n",
              "1                Amazing, cuts cleaning time in half!     5.0   \n",
              "2                                     Miracle Cleaner     5.0   \n",
              "3                                   I love these but…     3.0   \n",
              "4                                     So Far So Good!     5.0   \n",
              "5                                         Good Stuff!     4.0   \n",
              "6   It isn't all that the hype makes you think it is.     1.0   \n",
              "7             Fantastic products, don't pass them by!     5.0   \n",
              "8                                  I can't believe it     5.0   \n",
              "9                          Not worth the hype at all.     3.0   \n",
              "10      Don't believe the hype, well maybe some of it     3.0   \n",
              "11                                        FABULOUS!!!     5.0   \n",
              "12      What happened to the Miracle in this cleaner?     2.0   \n",
              "13                    Holy grail of cleaning products     5.0   \n",
              "14                         I finally found my cleaner     5.0   \n",
              "15                                   Best STUFF EVER!     5.0   \n",
              "16                                Not worth the money     1.0   \n",
              "17           The BEST cleaning product I've ever used     5.0   \n",
              "18                                  Got the job done!     5.0   \n",
              "19              Mehh product, Too hyped up for price.     3.0   \n",
              "20                        Mean clean in a pink bottle     5.0   \n",
              "21                   I hardly ever leave reviews but…     5.0   \n",
              "22                                         It Leaked!     1.0   \n",
              "23                            Careful with the paste!     4.0   \n",
              "24  Will never buy another type of cleaning produc...     5.0   \n",
              "25  Better than average but no miracle leaked in s...     4.0   \n",
              "26                          Items busted upon arrival     3.0   \n",
              "27                    The paste is the key to success     5.0   \n",
              "28                   The Pink Stuff- Miracle Cleaning     2.0   \n",
              "29                      Not worth the hype and money!     2.0   \n",
              "30  Tik Tok Wasn’t Lying to You- but its not that ...     5.0   \n",
              "31                Did what no other cleaner would do!     5.0   \n",
              "32                         Pending change after using     1.0   \n",
              "33                                   What's the Hype?     3.0   \n",
              "34                                       Wow just wow     5.0   \n",
              "35                                            No Good     1.0   \n",
              "36                  Its ok, don't understand the hype     3.0   \n",
              "37                    I’m going to stick with my Ajax     1.0   \n",
              "38                        Work great, worth the price     5.0   \n",
              "39                                      So impressed!     5.0   \n",
              "\n",
              "                                                 body  \n",
              "0   Received the tub of paste damaged. I emailed t...  \n",
              "1   I'm quite impressed with this stuff. I clean h...  \n",
              "2   This stuff is a miracle cleaner. Seriously. I ...  \n",
              "3   I love these cleaning products. They are expen...  \n",
              "4   I have ceramic tile in my shower from the 1960...  \n",
              "5   Arrived in great condition individually plasti...  \n",
              "6   Honest review here. Tried one of the products ...  \n",
              "7   I had already used the paste in the jar and wa...  \n",
              "8   I bought this because it was recommended for t...  \n",
              "9   I don’t know who is lying in these reviews or ...  \n",
              "10  And this is what I get for looking at social p...  \n",
              "11  OMG!! I love this stuff!!! My husband’s bathro...  \n",
              "12  It STINKS!  IT makes me FEEL really UNWELL. [S...  \n",
              "13  This takes a little bit of elbow grease, but I...  \n",
              "14  I have been looking for a cleaner that I actua...  \n",
              "15  Hands down the best cleaner ever made! I wish ...  \n",
              "16  After watching multiple before and after video...  \n",
              "17  I originally saw the pink stuff paste on tik t...  \n",
              "18  Use the Pink Stuff to clean my oven that had y...  \n",
              "19  So this is an honest review to maybe help peop...  \n",
              "20  I really love this line of products. When I sa...  \n",
              "21  Holy literal miracle cleaner. My stove was so ...  \n",
              "22  When my package came, one of the products had ...  \n",
              "23  The smell is what makes me the happiest! I lov...  \n",
              "24  This cleaner is absolutely amazing. I saw some...  \n",
              "25  So as you can see by the box I lost a signific...  \n",
              "26  Bottles busted/ cracked and leaking upon arriv...  \n",
              "27  We have a white ceramic farm style sink that g...  \n",
              "28  Saw several TikToks about this product, people...  \n",
              "29  The Pink Stuff prides it's self on deep cleani...  \n",
              "30  I am very much a person who hyperfocuses on cl...  \n",
              "31  My BF works with metal and comes home covered ...  \n",
              "32  So I am a little bummed out because I was real...  \n",
              "33  Not impressed.AND the PINK gunk that remains o...  \n",
              "34  So far I used the foam bathroom cleaner and th...  \n",
              "35  This product promised the world, and delivered...  \n",
              "36  For starters when it arrived it had spilled ou...  \n",
              "37  This Pink just didn’t do it for me, sorry….  I...  \n",
              "38  The media could not be loaded.\\n              ...  \n",
              "39  I moved into a house that had ALOT of lime sca...  "
            ],
            "text/html": [
              "\n",
              "  <div id=\"df-562278da-ce34-4f62-9c23-0bc62705af97\">\n",
              "    <div class=\"colab-df-container\">\n",
              "      <div>\n",
              "<style scoped>\n",
              "    .dataframe tbody tr th:only-of-type {\n",
              "        vertical-align: middle;\n",
              "    }\n",
              "\n",
              "    .dataframe tbody tr th {\n",
              "        vertical-align: top;\n",
              "    }\n",
              "\n",
              "    .dataframe thead th {\n",
              "        text-align: right;\n",
              "    }\n",
              "</style>\n",
              "<table border=\"1\" class=\"dataframe\">\n",
              "  <thead>\n",
              "    <tr style=\"text-align: right;\">\n",
              "      <th></th>\n",
              "      <th>product</th>\n",
              "      <th>title</th>\n",
              "      <th>rating</th>\n",
              "      <th>body</th>\n",
              "    </tr>\n",
              "  </thead>\n",
              "  <tbody>\n",
              "    <tr>\n",
              "      <th>0</th>\n",
              "      <td>Stardrops - The Pink Stuff - Ultimate Bundle -...</td>\n",
              "      <td>Highly recommend this powerhouse cleaner. Plea...</td>\n",
              "      <td>5.0</td>\n",
              "      <td>Received the tub of paste damaged. I emailed t...</td>\n",
              "    </tr>\n",
              "    <tr>\n",
              "      <th>1</th>\n",
              "      <td>Stardrops - The Pink Stuff - Ultimate Bundle -...</td>\n",
              "      <td>Amazing, cuts cleaning time in half!</td>\n",
              "      <td>5.0</td>\n",
              "      <td>I'm quite impressed with this stuff. I clean h...</td>\n",
              "    </tr>\n",
              "    <tr>\n",
              "      <th>2</th>\n",
              "      <td>Stardrops - The Pink Stuff - Ultimate Bundle -...</td>\n",
              "      <td>Miracle Cleaner</td>\n",
              "      <td>5.0</td>\n",
              "      <td>This stuff is a miracle cleaner. Seriously. I ...</td>\n",
              "    </tr>\n",
              "    <tr>\n",
              "      <th>3</th>\n",
              "      <td>Stardrops - The Pink Stuff - Ultimate Bundle -...</td>\n",
              "      <td>I love these but…</td>\n",
              "      <td>3.0</td>\n",
              "      <td>I love these cleaning products. They are expen...</td>\n",
              "    </tr>\n",
              "    <tr>\n",
              "      <th>4</th>\n",
              "      <td>Stardrops - The Pink Stuff - Ultimate Bundle -...</td>\n",
              "      <td>So Far So Good!</td>\n",
              "      <td>5.0</td>\n",
              "      <td>I have ceramic tile in my shower from the 1960...</td>\n",
              "    </tr>\n",
              "    <tr>\n",
              "      <th>5</th>\n",
              "      <td>Stardrops - The Pink Stuff - Ultimate Bundle -...</td>\n",
              "      <td>Good Stuff!</td>\n",
              "      <td>4.0</td>\n",
              "      <td>Arrived in great condition individually plasti...</td>\n",
              "    </tr>\n",
              "    <tr>\n",
              "      <th>6</th>\n",
              "      <td>Stardrops - The Pink Stuff - Ultimate Bundle -...</td>\n",
              "      <td>It isn't all that the hype makes you think it is.</td>\n",
              "      <td>1.0</td>\n",
              "      <td>Honest review here. Tried one of the products ...</td>\n",
              "    </tr>\n",
              "    <tr>\n",
              "      <th>7</th>\n",
              "      <td>Stardrops - The Pink Stuff - Ultimate Bundle -...</td>\n",
              "      <td>Fantastic products, don't pass them by!</td>\n",
              "      <td>5.0</td>\n",
              "      <td>I had already used the paste in the jar and wa...</td>\n",
              "    </tr>\n",
              "    <tr>\n",
              "      <th>8</th>\n",
              "      <td>Stardrops - The Pink Stuff - Ultimate Bundle -...</td>\n",
              "      <td>I can't believe it</td>\n",
              "      <td>5.0</td>\n",
              "      <td>I bought this because it was recommended for t...</td>\n",
              "    </tr>\n",
              "    <tr>\n",
              "      <th>9</th>\n",
              "      <td>Stardrops - The Pink Stuff - Ultimate Bundle -...</td>\n",
              "      <td>Not worth the hype at all.</td>\n",
              "      <td>3.0</td>\n",
              "      <td>I don’t know who is lying in these reviews or ...</td>\n",
              "    </tr>\n",
              "    <tr>\n",
              "      <th>10</th>\n",
              "      <td>Stardrops - The Pink Stuff - Ultimate Bundle -...</td>\n",
              "      <td>Don't believe the hype, well maybe some of it</td>\n",
              "      <td>3.0</td>\n",
              "      <td>And this is what I get for looking at social p...</td>\n",
              "    </tr>\n",
              "    <tr>\n",
              "      <th>11</th>\n",
              "      <td>Stardrops - The Pink Stuff - Ultimate Bundle -...</td>\n",
              "      <td>FABULOUS!!!</td>\n",
              "      <td>5.0</td>\n",
              "      <td>OMG!! I love this stuff!!! My husband’s bathro...</td>\n",
              "    </tr>\n",
              "    <tr>\n",
              "      <th>12</th>\n",
              "      <td>Stardrops - The Pink Stuff - Ultimate Bundle -...</td>\n",
              "      <td>What happened to the Miracle in this cleaner?</td>\n",
              "      <td>2.0</td>\n",
              "      <td>It STINKS!  IT makes me FEEL really UNWELL. [S...</td>\n",
              "    </tr>\n",
              "    <tr>\n",
              "      <th>13</th>\n",
              "      <td>Stardrops - The Pink Stuff - Ultimate Bundle -...</td>\n",
              "      <td>Holy grail of cleaning products</td>\n",
              "      <td>5.0</td>\n",
              "      <td>This takes a little bit of elbow grease, but I...</td>\n",
              "    </tr>\n",
              "    <tr>\n",
              "      <th>14</th>\n",
              "      <td>Stardrops - The Pink Stuff - Ultimate Bundle -...</td>\n",
              "      <td>I finally found my cleaner</td>\n",
              "      <td>5.0</td>\n",
              "      <td>I have been looking for a cleaner that I actua...</td>\n",
              "    </tr>\n",
              "    <tr>\n",
              "      <th>15</th>\n",
              "      <td>Stardrops - The Pink Stuff - Ultimate Bundle -...</td>\n",
              "      <td>Best STUFF EVER!</td>\n",
              "      <td>5.0</td>\n",
              "      <td>Hands down the best cleaner ever made! I wish ...</td>\n",
              "    </tr>\n",
              "    <tr>\n",
              "      <th>16</th>\n",
              "      <td>Stardrops - The Pink Stuff - Ultimate Bundle -...</td>\n",
              "      <td>Not worth the money</td>\n",
              "      <td>1.0</td>\n",
              "      <td>After watching multiple before and after video...</td>\n",
              "    </tr>\n",
              "    <tr>\n",
              "      <th>17</th>\n",
              "      <td>Stardrops - The Pink Stuff - Ultimate Bundle -...</td>\n",
              "      <td>The BEST cleaning product I've ever used</td>\n",
              "      <td>5.0</td>\n",
              "      <td>I originally saw the pink stuff paste on tik t...</td>\n",
              "    </tr>\n",
              "    <tr>\n",
              "      <th>18</th>\n",
              "      <td>Stardrops - The Pink Stuff - Ultimate Bundle -...</td>\n",
              "      <td>Got the job done!</td>\n",
              "      <td>5.0</td>\n",
              "      <td>Use the Pink Stuff to clean my oven that had y...</td>\n",
              "    </tr>\n",
              "    <tr>\n",
              "      <th>19</th>\n",
              "      <td>Stardrops - The Pink Stuff - Ultimate Bundle -...</td>\n",
              "      <td>Mehh product, Too hyped up for price.</td>\n",
              "      <td>3.0</td>\n",
              "      <td>So this is an honest review to maybe help peop...</td>\n",
              "    </tr>\n",
              "    <tr>\n",
              "      <th>20</th>\n",
              "      <td>Stardrops - The Pink Stuff - Ultimate Bundle -...</td>\n",
              "      <td>Mean clean in a pink bottle</td>\n",
              "      <td>5.0</td>\n",
              "      <td>I really love this line of products. When I sa...</td>\n",
              "    </tr>\n",
              "    <tr>\n",
              "      <th>21</th>\n",
              "      <td>Stardrops - The Pink Stuff - Ultimate Bundle -...</td>\n",
              "      <td>I hardly ever leave reviews but…</td>\n",
              "      <td>5.0</td>\n",
              "      <td>Holy literal miracle cleaner. My stove was so ...</td>\n",
              "    </tr>\n",
              "    <tr>\n",
              "      <th>22</th>\n",
              "      <td>Stardrops - The Pink Stuff - Ultimate Bundle -...</td>\n",
              "      <td>It Leaked!</td>\n",
              "      <td>1.0</td>\n",
              "      <td>When my package came, one of the products had ...</td>\n",
              "    </tr>\n",
              "    <tr>\n",
              "      <th>23</th>\n",
              "      <td>Stardrops - The Pink Stuff - Ultimate Bundle -...</td>\n",
              "      <td>Careful with the paste!</td>\n",
              "      <td>4.0</td>\n",
              "      <td>The smell is what makes me the happiest! I lov...</td>\n",
              "    </tr>\n",
              "    <tr>\n",
              "      <th>24</th>\n",
              "      <td>Stardrops - The Pink Stuff - Ultimate Bundle -...</td>\n",
              "      <td>Will never buy another type of cleaning produc...</td>\n",
              "      <td>5.0</td>\n",
              "      <td>This cleaner is absolutely amazing. I saw some...</td>\n",
              "    </tr>\n",
              "    <tr>\n",
              "      <th>25</th>\n",
              "      <td>Stardrops - The Pink Stuff - Ultimate Bundle -...</td>\n",
              "      <td>Better than average but no miracle leaked in s...</td>\n",
              "      <td>4.0</td>\n",
              "      <td>So as you can see by the box I lost a signific...</td>\n",
              "    </tr>\n",
              "    <tr>\n",
              "      <th>26</th>\n",
              "      <td>Stardrops - The Pink Stuff - Ultimate Bundle -...</td>\n",
              "      <td>Items busted upon arrival</td>\n",
              "      <td>3.0</td>\n",
              "      <td>Bottles busted/ cracked and leaking upon arriv...</td>\n",
              "    </tr>\n",
              "    <tr>\n",
              "      <th>27</th>\n",
              "      <td>Stardrops - The Pink Stuff - Ultimate Bundle -...</td>\n",
              "      <td>The paste is the key to success</td>\n",
              "      <td>5.0</td>\n",
              "      <td>We have a white ceramic farm style sink that g...</td>\n",
              "    </tr>\n",
              "    <tr>\n",
              "      <th>28</th>\n",
              "      <td>Stardrops - The Pink Stuff - Ultimate Bundle -...</td>\n",
              "      <td>The Pink Stuff- Miracle Cleaning</td>\n",
              "      <td>2.0</td>\n",
              "      <td>Saw several TikToks about this product, people...</td>\n",
              "    </tr>\n",
              "    <tr>\n",
              "      <th>29</th>\n",
              "      <td>Stardrops - The Pink Stuff - Ultimate Bundle -...</td>\n",
              "      <td>Not worth the hype and money!</td>\n",
              "      <td>2.0</td>\n",
              "      <td>The Pink Stuff prides it's self on deep cleani...</td>\n",
              "    </tr>\n",
              "    <tr>\n",
              "      <th>30</th>\n",
              "      <td>Stardrops - The Pink Stuff - Ultimate Bundle -...</td>\n",
              "      <td>Tik Tok Wasn’t Lying to You- but its not that ...</td>\n",
              "      <td>5.0</td>\n",
              "      <td>I am very much a person who hyperfocuses on cl...</td>\n",
              "    </tr>\n",
              "    <tr>\n",
              "      <th>31</th>\n",
              "      <td>Stardrops - The Pink Stuff - Ultimate Bundle -...</td>\n",
              "      <td>Did what no other cleaner would do!</td>\n",
              "      <td>5.0</td>\n",
              "      <td>My BF works with metal and comes home covered ...</td>\n",
              "    </tr>\n",
              "    <tr>\n",
              "      <th>32</th>\n",
              "      <td>Stardrops - The Pink Stuff - Ultimate Bundle -...</td>\n",
              "      <td>Pending change after using</td>\n",
              "      <td>1.0</td>\n",
              "      <td>So I am a little bummed out because I was real...</td>\n",
              "    </tr>\n",
              "    <tr>\n",
              "      <th>33</th>\n",
              "      <td>Stardrops - The Pink Stuff - Ultimate Bundle -...</td>\n",
              "      <td>What's the Hype?</td>\n",
              "      <td>3.0</td>\n",
              "      <td>Not impressed.AND the PINK gunk that remains o...</td>\n",
              "    </tr>\n",
              "    <tr>\n",
              "      <th>34</th>\n",
              "      <td>Stardrops - The Pink Stuff - Ultimate Bundle -...</td>\n",
              "      <td>Wow just wow</td>\n",
              "      <td>5.0</td>\n",
              "      <td>So far I used the foam bathroom cleaner and th...</td>\n",
              "    </tr>\n",
              "    <tr>\n",
              "      <th>35</th>\n",
              "      <td>Stardrops - The Pink Stuff - Ultimate Bundle -...</td>\n",
              "      <td>No Good</td>\n",
              "      <td>1.0</td>\n",
              "      <td>This product promised the world, and delivered...</td>\n",
              "    </tr>\n",
              "    <tr>\n",
              "      <th>36</th>\n",
              "      <td>Stardrops - The Pink Stuff - Ultimate Bundle -...</td>\n",
              "      <td>Its ok, don't understand the hype</td>\n",
              "      <td>3.0</td>\n",
              "      <td>For starters when it arrived it had spilled ou...</td>\n",
              "    </tr>\n",
              "    <tr>\n",
              "      <th>37</th>\n",
              "      <td>Stardrops - The Pink Stuff - Ultimate Bundle -...</td>\n",
              "      <td>I’m going to stick with my Ajax</td>\n",
              "      <td>1.0</td>\n",
              "      <td>This Pink just didn’t do it for me, sorry….  I...</td>\n",
              "    </tr>\n",
              "    <tr>\n",
              "      <th>38</th>\n",
              "      <td>Stardrops - The Pink Stuff - Ultimate Bundle -...</td>\n",
              "      <td>Work great, worth the price</td>\n",
              "      <td>5.0</td>\n",
              "      <td>The media could not be loaded.\\n              ...</td>\n",
              "    </tr>\n",
              "    <tr>\n",
              "      <th>39</th>\n",
              "      <td>Stardrops - The Pink Stuff - Ultimate Bundle -...</td>\n",
              "      <td>So impressed!</td>\n",
              "      <td>5.0</td>\n",
              "      <td>I moved into a house that had ALOT of lime sca...</td>\n",
              "    </tr>\n",
              "  </tbody>\n",
              "</table>\n",
              "</div>\n",
              "      <button class=\"colab-df-convert\" onclick=\"convertToInteractive('df-562278da-ce34-4f62-9c23-0bc62705af97')\"\n",
              "              title=\"Convert this dataframe to an interactive table.\"\n",
              "              style=\"display:none;\">\n",
              "        \n",
              "  <svg xmlns=\"http://www.w3.org/2000/svg\" height=\"24px\"viewBox=\"0 0 24 24\"\n",
              "       width=\"24px\">\n",
              "    <path d=\"M0 0h24v24H0V0z\" fill=\"none\"/>\n",
              "    <path d=\"M18.56 5.44l.94 2.06.94-2.06 2.06-.94-2.06-.94-.94-2.06-.94 2.06-2.06.94zm-11 1L8.5 8.5l.94-2.06 2.06-.94-2.06-.94L8.5 2.5l-.94 2.06-2.06.94zm10 10l.94 2.06.94-2.06 2.06-.94-2.06-.94-.94-2.06-.94 2.06-2.06.94z\"/><path d=\"M17.41 7.96l-1.37-1.37c-.4-.4-.92-.59-1.43-.59-.52 0-1.04.2-1.43.59L10.3 9.45l-7.72 7.72c-.78.78-.78 2.05 0 2.83L4 21.41c.39.39.9.59 1.41.59.51 0 1.02-.2 1.41-.59l7.78-7.78 2.81-2.81c.8-.78.8-2.07 0-2.86zM5.41 20L4 18.59l7.72-7.72 1.47 1.35L5.41 20z\"/>\n",
              "  </svg>\n",
              "      </button>\n",
              "      \n",
              "  <style>\n",
              "    .colab-df-container {\n",
              "      display:flex;\n",
              "      flex-wrap:wrap;\n",
              "      gap: 12px;\n",
              "    }\n",
              "\n",
              "    .colab-df-convert {\n",
              "      background-color: #E8F0FE;\n",
              "      border: none;\n",
              "      border-radius: 50%;\n",
              "      cursor: pointer;\n",
              "      display: none;\n",
              "      fill: #1967D2;\n",
              "      height: 32px;\n",
              "      padding: 0 0 0 0;\n",
              "      width: 32px;\n",
              "    }\n",
              "\n",
              "    .colab-df-convert:hover {\n",
              "      background-color: #E2EBFA;\n",
              "      box-shadow: 0px 1px 2px rgba(60, 64, 67, 0.3), 0px 1px 3px 1px rgba(60, 64, 67, 0.15);\n",
              "      fill: #174EA6;\n",
              "    }\n",
              "\n",
              "    [theme=dark] .colab-df-convert {\n",
              "      background-color: #3B4455;\n",
              "      fill: #D2E3FC;\n",
              "    }\n",
              "\n",
              "    [theme=dark] .colab-df-convert:hover {\n",
              "      background-color: #434B5C;\n",
              "      box-shadow: 0px 1px 3px 1px rgba(0, 0, 0, 0.15);\n",
              "      filter: drop-shadow(0px 1px 2px rgba(0, 0, 0, 0.3));\n",
              "      fill: #FFFFFF;\n",
              "    }\n",
              "  </style>\n",
              "\n",
              "      <script>\n",
              "        const buttonEl =\n",
              "          document.querySelector('#df-562278da-ce34-4f62-9c23-0bc62705af97 button.colab-df-convert');\n",
              "        buttonEl.style.display =\n",
              "          google.colab.kernel.accessAllowed ? 'block' : 'none';\n",
              "\n",
              "        async function convertToInteractive(key) {\n",
              "          const element = document.querySelector('#df-562278da-ce34-4f62-9c23-0bc62705af97');\n",
              "          const dataTable =\n",
              "            await google.colab.kernel.invokeFunction('convertToInteractive',\n",
              "                                                     [key], {});\n",
              "          if (!dataTable) return;\n",
              "\n",
              "          const docLinkHtml = 'Like what you see? Visit the ' +\n",
              "            '<a target=\"_blank\" href=https://colab.research.google.com/notebooks/data_table.ipynb>data table notebook</a>'\n",
              "            + ' to learn more about interactive tables.';\n",
              "          element.innerHTML = '';\n",
              "          dataTable['output_type'] = 'display_data';\n",
              "          await google.colab.output.renderOutput(dataTable, element);\n",
              "          const docLink = document.createElement('div');\n",
              "          docLink.innerHTML = docLinkHtml;\n",
              "          element.appendChild(docLink);\n",
              "        }\n",
              "      </script>\n",
              "    </div>\n",
              "  </div>\n",
              "  "
            ]
          },
          "metadata": {},
          "execution_count": 22
        }
      ]
    },
    {
      "cell_type": "markdown",
      "source": [
        "# Sentiment Analysis\n"
      ],
      "metadata": {
        "id": "MUTh_tRfgYJd"
      }
    },
    {
      "cell_type": "code",
      "source": [
        "!pip install -q transformers\n",
        "!pip install tensorflow_hub\n",
        "!pip install tensorflow_text\n"
      ],
      "metadata": {
        "id": "7_2J8v5V8e6n"
      },
      "execution_count": null,
      "outputs": []
    },
    {
      "cell_type": "code",
      "source": [
        "import numpy as np\n",
        "import pandas as pd\n",
        "import matplotlib.pyplot as plt\n",
        "import seaborn as sns\n",
        "import tensorflow as tf\n",
        "import tensorflow_hub as hub\n",
        "import tensorflow_text as text"
      ],
      "metadata": {
        "id": "scwyVIek8g8m"
      },
      "execution_count": null,
      "outputs": []
    },
    {
      "cell_type": "code",
      "source": [
        "train = df.copy()"
      ],
      "metadata": {
        "id": "8gtgtugLZGkZ"
      },
      "execution_count": null,
      "outputs": []
    },
    {
      "cell_type": "code",
      "source": [
        "conditions = [\n",
        "    (df['rating'] >= 4),\n",
        "     (df['rating'] < 4)\n",
        "]\n",
        "values = ['positive','negative']\n",
        "train['Sentiment'] = np.select(conditions, values)"
      ],
      "metadata": {
        "id": "0s7W6hKilpxw"
      },
      "execution_count": null,
      "outputs": []
    },
    {
      "cell_type": "code",
      "source": [
        "train['rating'].value_counts()"
      ],
      "metadata": {
        "colab": {
          "base_uri": "https://localhost:8080/"
        },
        "id": "S82UJjkwk1i3",
        "outputId": "0ba4b769-da38-4b38-ed4d-9823f97efaab"
      },
      "execution_count": null,
      "outputs": [
        {
          "output_type": "execute_result",
          "data": {
            "text/plain": [
              "1.0    13\n",
              "5.0     9\n",
              "2.0     8\n",
              "3.0     6\n",
              "4.0     4\n",
              "Name: rating, dtype: int64"
            ]
          },
          "metadata": {},
          "execution_count": 85
        }
      ]
    },
    {
      "cell_type": "markdown",
      "source": [
        "Example of Sentiment Analysis Using BERT. BERT is a powerful NLP model developed by Google. A review of 4 and above is generally considered positive, while anything less than that is negative. While some reviewers that give 3-4 stars may be neutral at the end of the day the review will hurt the prodcut. "
      ],
      "metadata": {
        "id": "qI3-_mdTgbeK"
      }
    },
    {
      "cell_type": "code",
      "source": [
        "#Rhttps://www.kaggle.com/datasets/bittlingmayer/amazonreviews?datasetId=1305&sortBy=voteCount\n",
        "#Kaggle Dataset of Amazon Reviews\n",
        "\n",
        "import bz2\n",
        "data = bz2.BZ2File('/content/drive/MyDrive/Data Analytics Projects/Data/Amazon Review Kaggle/test.ft.txt.bz2')\n",
        "\n",
        "test_df = bz2.BZ2File('/content/drive/MyDrive/Data Analytics Projects/Data/Amazon Review Kaggle/train.ft.txt.bz2')\n",
        "\n",
        "\n",
        "data = data.readlines()\n",
        "data = [x.decode('utf-8') for x in data]\n",
        "data = pd.DataFrame(data)"
      ],
      "metadata": {
        "id": "p-DIw520nEOz"
      },
      "execution_count": null,
      "outputs": []
    },
    {
      "cell_type": "code",
      "source": [
        "len(data)"
      ],
      "metadata": {
        "colab": {
          "base_uri": "https://localhost:8080/"
        },
        "id": "mf3k1MHaVfqh",
        "outputId": "18619d79-89e8-4560-e8d1-00400def014d"
      },
      "execution_count": null,
      "outputs": [
        {
          "output_type": "execute_result",
          "data": {
            "text/plain": [
              "400000"
            ]
          },
          "metadata": {},
          "execution_count": 3
        }
      ]
    },
    {
      "cell_type": "code",
      "source": [
        "test = data[0:10]\n",
        "test"
      ],
      "metadata": {
        "colab": {
          "base_uri": "https://localhost:8080/",
          "height": 363
        },
        "id": "CPYVW7rQp_0X",
        "outputId": "bc5ffa74-6a29-4220-c176-d8c386b24e25"
      },
      "execution_count": null,
      "outputs": [
        {
          "output_type": "execute_result",
          "data": {
            "text/plain": [
              "                                                   0\n",
              "0  __label__2 Great CD: My lovely Pat has one of ...\n",
              "1  __label__2 One of the best game music soundtra...\n",
              "2  __label__1 Batteries died within a year ...: I...\n",
              "3  __label__2 works fine, but Maha Energy is bett...\n",
              "4  __label__2 Great for the non-audiophile: Revie...\n",
              "5  __label__1 DVD Player crapped out after one ye...\n",
              "6  __label__1 Incorrect Disc: I love the style of...\n",
              "7  __label__1 DVD menu select problems: I cannot ...\n",
              "8  __label__2 Unique Weird Orientalia from the 19...\n",
              "9  __label__1 Not an \"ultimate guide\": Firstly,I ..."
            ],
            "text/html": [
              "\n",
              "  <div id=\"df-1bba6f1a-100f-46a6-84a4-fba01fa37cff\">\n",
              "    <div class=\"colab-df-container\">\n",
              "      <div>\n",
              "<style scoped>\n",
              "    .dataframe tbody tr th:only-of-type {\n",
              "        vertical-align: middle;\n",
              "    }\n",
              "\n",
              "    .dataframe tbody tr th {\n",
              "        vertical-align: top;\n",
              "    }\n",
              "\n",
              "    .dataframe thead th {\n",
              "        text-align: right;\n",
              "    }\n",
              "</style>\n",
              "<table border=\"1\" class=\"dataframe\">\n",
              "  <thead>\n",
              "    <tr style=\"text-align: right;\">\n",
              "      <th></th>\n",
              "      <th>0</th>\n",
              "    </tr>\n",
              "  </thead>\n",
              "  <tbody>\n",
              "    <tr>\n",
              "      <th>0</th>\n",
              "      <td>__label__2 Great CD: My lovely Pat has one of ...</td>\n",
              "    </tr>\n",
              "    <tr>\n",
              "      <th>1</th>\n",
              "      <td>__label__2 One of the best game music soundtra...</td>\n",
              "    </tr>\n",
              "    <tr>\n",
              "      <th>2</th>\n",
              "      <td>__label__1 Batteries died within a year ...: I...</td>\n",
              "    </tr>\n",
              "    <tr>\n",
              "      <th>3</th>\n",
              "      <td>__label__2 works fine, but Maha Energy is bett...</td>\n",
              "    </tr>\n",
              "    <tr>\n",
              "      <th>4</th>\n",
              "      <td>__label__2 Great for the non-audiophile: Revie...</td>\n",
              "    </tr>\n",
              "    <tr>\n",
              "      <th>5</th>\n",
              "      <td>__label__1 DVD Player crapped out after one ye...</td>\n",
              "    </tr>\n",
              "    <tr>\n",
              "      <th>6</th>\n",
              "      <td>__label__1 Incorrect Disc: I love the style of...</td>\n",
              "    </tr>\n",
              "    <tr>\n",
              "      <th>7</th>\n",
              "      <td>__label__1 DVD menu select problems: I cannot ...</td>\n",
              "    </tr>\n",
              "    <tr>\n",
              "      <th>8</th>\n",
              "      <td>__label__2 Unique Weird Orientalia from the 19...</td>\n",
              "    </tr>\n",
              "    <tr>\n",
              "      <th>9</th>\n",
              "      <td>__label__1 Not an \"ultimate guide\": Firstly,I ...</td>\n",
              "    </tr>\n",
              "  </tbody>\n",
              "</table>\n",
              "</div>\n",
              "      <button class=\"colab-df-convert\" onclick=\"convertToInteractive('df-1bba6f1a-100f-46a6-84a4-fba01fa37cff')\"\n",
              "              title=\"Convert this dataframe to an interactive table.\"\n",
              "              style=\"display:none;\">\n",
              "        \n",
              "  <svg xmlns=\"http://www.w3.org/2000/svg\" height=\"24px\"viewBox=\"0 0 24 24\"\n",
              "       width=\"24px\">\n",
              "    <path d=\"M0 0h24v24H0V0z\" fill=\"none\"/>\n",
              "    <path d=\"M18.56 5.44l.94 2.06.94-2.06 2.06-.94-2.06-.94-.94-2.06-.94 2.06-2.06.94zm-11 1L8.5 8.5l.94-2.06 2.06-.94-2.06-.94L8.5 2.5l-.94 2.06-2.06.94zm10 10l.94 2.06.94-2.06 2.06-.94-2.06-.94-.94-2.06-.94 2.06-2.06.94z\"/><path d=\"M17.41 7.96l-1.37-1.37c-.4-.4-.92-.59-1.43-.59-.52 0-1.04.2-1.43.59L10.3 9.45l-7.72 7.72c-.78.78-.78 2.05 0 2.83L4 21.41c.39.39.9.59 1.41.59.51 0 1.02-.2 1.41-.59l7.78-7.78 2.81-2.81c.8-.78.8-2.07 0-2.86zM5.41 20L4 18.59l7.72-7.72 1.47 1.35L5.41 20z\"/>\n",
              "  </svg>\n",
              "      </button>\n",
              "      \n",
              "  <style>\n",
              "    .colab-df-container {\n",
              "      display:flex;\n",
              "      flex-wrap:wrap;\n",
              "      gap: 12px;\n",
              "    }\n",
              "\n",
              "    .colab-df-convert {\n",
              "      background-color: #E8F0FE;\n",
              "      border: none;\n",
              "      border-radius: 50%;\n",
              "      cursor: pointer;\n",
              "      display: none;\n",
              "      fill: #1967D2;\n",
              "      height: 32px;\n",
              "      padding: 0 0 0 0;\n",
              "      width: 32px;\n",
              "    }\n",
              "\n",
              "    .colab-df-convert:hover {\n",
              "      background-color: #E2EBFA;\n",
              "      box-shadow: 0px 1px 2px rgba(60, 64, 67, 0.3), 0px 1px 3px 1px rgba(60, 64, 67, 0.15);\n",
              "      fill: #174EA6;\n",
              "    }\n",
              "\n",
              "    [theme=dark] .colab-df-convert {\n",
              "      background-color: #3B4455;\n",
              "      fill: #D2E3FC;\n",
              "    }\n",
              "\n",
              "    [theme=dark] .colab-df-convert:hover {\n",
              "      background-color: #434B5C;\n",
              "      box-shadow: 0px 1px 3px 1px rgba(0, 0, 0, 0.15);\n",
              "      filter: drop-shadow(0px 1px 2px rgba(0, 0, 0, 0.3));\n",
              "      fill: #FFFFFF;\n",
              "    }\n",
              "  </style>\n",
              "\n",
              "      <script>\n",
              "        const buttonEl =\n",
              "          document.querySelector('#df-1bba6f1a-100f-46a6-84a4-fba01fa37cff button.colab-df-convert');\n",
              "        buttonEl.style.display =\n",
              "          google.colab.kernel.accessAllowed ? 'block' : 'none';\n",
              "\n",
              "        async function convertToInteractive(key) {\n",
              "          const element = document.querySelector('#df-1bba6f1a-100f-46a6-84a4-fba01fa37cff');\n",
              "          const dataTable =\n",
              "            await google.colab.kernel.invokeFunction('convertToInteractive',\n",
              "                                                     [key], {});\n",
              "          if (!dataTable) return;\n",
              "\n",
              "          const docLinkHtml = 'Like what you see? Visit the ' +\n",
              "            '<a target=\"_blank\" href=https://colab.research.google.com/notebooks/data_table.ipynb>data table notebook</a>'\n",
              "            + ' to learn more about interactive tables.';\n",
              "          element.innerHTML = '';\n",
              "          dataTable['output_type'] = 'display_data';\n",
              "          await google.colab.output.renderOutput(dataTable, element);\n",
              "          const docLink = document.createElement('div');\n",
              "          docLink.innerHTML = docLinkHtml;\n",
              "          element.appendChild(docLink);\n",
              "        }\n",
              "      </script>\n",
              "    </div>\n",
              "  </div>\n",
              "  "
            ]
          },
          "metadata": {},
          "execution_count": 4
        }
      ]
    },
    {
      "cell_type": "code",
      "source": [
        "data.columns = ['Text']\n",
        "data['Label'] = data['Text'].str.slice(9,10).astype(int) - 1\n",
        "data['Text'] = data['Text'].str[10:]\n",
        "data['Text'] = data['Text'].str.strip()"
      ],
      "metadata": {
        "id": "Wp6IlyrSTxje"
      },
      "execution_count": null,
      "outputs": []
    },
    {
      "cell_type": "code",
      "source": [
        "data"
      ],
      "metadata": {
        "colab": {
          "base_uri": "https://localhost:8080/",
          "height": 423
        },
        "id": "r0WVs-cPF7I5",
        "outputId": "96d95bdf-c4c4-4e70-a77c-9a42de5594ee"
      },
      "execution_count": null,
      "outputs": [
        {
          "output_type": "execute_result",
          "data": {
            "text/plain": [
              "                                                     Text  Label\n",
              "0       Great CD: My lovely Pat has one of the GREAT v...      1\n",
              "1       One of the best game music soundtracks - for a...      1\n",
              "2       Batteries died within a year ...: I bought thi...      0\n",
              "3       works fine, but Maha Energy is better: Check o...      1\n",
              "4       Great for the non-audiophile: Reviewed quite a...      1\n",
              "...                                                   ...    ...\n",
              "399995  Unbelievable- In a Bad Way: We bought this Tho...      0\n",
              "399996  Almost Great, Until it Broke...: My son reciev...      0\n",
              "399997  Disappointed !!!: I bought this toy for my son...      0\n",
              "399998  Classic Jessica Mitford: This is a compilation...      1\n",
              "399999  Comedy Scene, and Not Heard: This DVD will be ...      0\n",
              "\n",
              "[400000 rows x 2 columns]"
            ],
            "text/html": [
              "\n",
              "  <div id=\"df-7135866f-caf9-4583-93fb-a21b8628cf54\">\n",
              "    <div class=\"colab-df-container\">\n",
              "      <div>\n",
              "<style scoped>\n",
              "    .dataframe tbody tr th:only-of-type {\n",
              "        vertical-align: middle;\n",
              "    }\n",
              "\n",
              "    .dataframe tbody tr th {\n",
              "        vertical-align: top;\n",
              "    }\n",
              "\n",
              "    .dataframe thead th {\n",
              "        text-align: right;\n",
              "    }\n",
              "</style>\n",
              "<table border=\"1\" class=\"dataframe\">\n",
              "  <thead>\n",
              "    <tr style=\"text-align: right;\">\n",
              "      <th></th>\n",
              "      <th>Text</th>\n",
              "      <th>Label</th>\n",
              "    </tr>\n",
              "  </thead>\n",
              "  <tbody>\n",
              "    <tr>\n",
              "      <th>0</th>\n",
              "      <td>Great CD: My lovely Pat has one of the GREAT v...</td>\n",
              "      <td>1</td>\n",
              "    </tr>\n",
              "    <tr>\n",
              "      <th>1</th>\n",
              "      <td>One of the best game music soundtracks - for a...</td>\n",
              "      <td>1</td>\n",
              "    </tr>\n",
              "    <tr>\n",
              "      <th>2</th>\n",
              "      <td>Batteries died within a year ...: I bought thi...</td>\n",
              "      <td>0</td>\n",
              "    </tr>\n",
              "    <tr>\n",
              "      <th>3</th>\n",
              "      <td>works fine, but Maha Energy is better: Check o...</td>\n",
              "      <td>1</td>\n",
              "    </tr>\n",
              "    <tr>\n",
              "      <th>4</th>\n",
              "      <td>Great for the non-audiophile: Reviewed quite a...</td>\n",
              "      <td>1</td>\n",
              "    </tr>\n",
              "    <tr>\n",
              "      <th>...</th>\n",
              "      <td>...</td>\n",
              "      <td>...</td>\n",
              "    </tr>\n",
              "    <tr>\n",
              "      <th>399995</th>\n",
              "      <td>Unbelievable- In a Bad Way: We bought this Tho...</td>\n",
              "      <td>0</td>\n",
              "    </tr>\n",
              "    <tr>\n",
              "      <th>399996</th>\n",
              "      <td>Almost Great, Until it Broke...: My son reciev...</td>\n",
              "      <td>0</td>\n",
              "    </tr>\n",
              "    <tr>\n",
              "      <th>399997</th>\n",
              "      <td>Disappointed !!!: I bought this toy for my son...</td>\n",
              "      <td>0</td>\n",
              "    </tr>\n",
              "    <tr>\n",
              "      <th>399998</th>\n",
              "      <td>Classic Jessica Mitford: This is a compilation...</td>\n",
              "      <td>1</td>\n",
              "    </tr>\n",
              "    <tr>\n",
              "      <th>399999</th>\n",
              "      <td>Comedy Scene, and Not Heard: This DVD will be ...</td>\n",
              "      <td>0</td>\n",
              "    </tr>\n",
              "  </tbody>\n",
              "</table>\n",
              "<p>400000 rows × 2 columns</p>\n",
              "</div>\n",
              "      <button class=\"colab-df-convert\" onclick=\"convertToInteractive('df-7135866f-caf9-4583-93fb-a21b8628cf54')\"\n",
              "              title=\"Convert this dataframe to an interactive table.\"\n",
              "              style=\"display:none;\">\n",
              "        \n",
              "  <svg xmlns=\"http://www.w3.org/2000/svg\" height=\"24px\"viewBox=\"0 0 24 24\"\n",
              "       width=\"24px\">\n",
              "    <path d=\"M0 0h24v24H0V0z\" fill=\"none\"/>\n",
              "    <path d=\"M18.56 5.44l.94 2.06.94-2.06 2.06-.94-2.06-.94-.94-2.06-.94 2.06-2.06.94zm-11 1L8.5 8.5l.94-2.06 2.06-.94-2.06-.94L8.5 2.5l-.94 2.06-2.06.94zm10 10l.94 2.06.94-2.06 2.06-.94-2.06-.94-.94-2.06-.94 2.06-2.06.94z\"/><path d=\"M17.41 7.96l-1.37-1.37c-.4-.4-.92-.59-1.43-.59-.52 0-1.04.2-1.43.59L10.3 9.45l-7.72 7.72c-.78.78-.78 2.05 0 2.83L4 21.41c.39.39.9.59 1.41.59.51 0 1.02-.2 1.41-.59l7.78-7.78 2.81-2.81c.8-.78.8-2.07 0-2.86zM5.41 20L4 18.59l7.72-7.72 1.47 1.35L5.41 20z\"/>\n",
              "  </svg>\n",
              "      </button>\n",
              "      \n",
              "  <style>\n",
              "    .colab-df-container {\n",
              "      display:flex;\n",
              "      flex-wrap:wrap;\n",
              "      gap: 12px;\n",
              "    }\n",
              "\n",
              "    .colab-df-convert {\n",
              "      background-color: #E8F0FE;\n",
              "      border: none;\n",
              "      border-radius: 50%;\n",
              "      cursor: pointer;\n",
              "      display: none;\n",
              "      fill: #1967D2;\n",
              "      height: 32px;\n",
              "      padding: 0 0 0 0;\n",
              "      width: 32px;\n",
              "    }\n",
              "\n",
              "    .colab-df-convert:hover {\n",
              "      background-color: #E2EBFA;\n",
              "      box-shadow: 0px 1px 2px rgba(60, 64, 67, 0.3), 0px 1px 3px 1px rgba(60, 64, 67, 0.15);\n",
              "      fill: #174EA6;\n",
              "    }\n",
              "\n",
              "    [theme=dark] .colab-df-convert {\n",
              "      background-color: #3B4455;\n",
              "      fill: #D2E3FC;\n",
              "    }\n",
              "\n",
              "    [theme=dark] .colab-df-convert:hover {\n",
              "      background-color: #434B5C;\n",
              "      box-shadow: 0px 1px 3px 1px rgba(0, 0, 0, 0.15);\n",
              "      filter: drop-shadow(0px 1px 2px rgba(0, 0, 0, 0.3));\n",
              "      fill: #FFFFFF;\n",
              "    }\n",
              "  </style>\n",
              "\n",
              "      <script>\n",
              "        const buttonEl =\n",
              "          document.querySelector('#df-7135866f-caf9-4583-93fb-a21b8628cf54 button.colab-df-convert');\n",
              "        buttonEl.style.display =\n",
              "          google.colab.kernel.accessAllowed ? 'block' : 'none';\n",
              "\n",
              "        async function convertToInteractive(key) {\n",
              "          const element = document.querySelector('#df-7135866f-caf9-4583-93fb-a21b8628cf54');\n",
              "          const dataTable =\n",
              "            await google.colab.kernel.invokeFunction('convertToInteractive',\n",
              "                                                     [key], {});\n",
              "          if (!dataTable) return;\n",
              "\n",
              "          const docLinkHtml = 'Like what you see? Visit the ' +\n",
              "            '<a target=\"_blank\" href=https://colab.research.google.com/notebooks/data_table.ipynb>data table notebook</a>'\n",
              "            + ' to learn more about interactive tables.';\n",
              "          element.innerHTML = '';\n",
              "          dataTable['output_type'] = 'display_data';\n",
              "          await google.colab.output.renderOutput(dataTable, element);\n",
              "          const docLink = document.createElement('div');\n",
              "          docLink.innerHTML = docLinkHtml;\n",
              "          element.appendChild(docLink);\n",
              "        }\n",
              "      </script>\n",
              "    </div>\n",
              "  </div>\n",
              "  "
            ]
          },
          "metadata": {},
          "execution_count": 6
        }
      ]
    },
    {
      "cell_type": "code",
      "source": [
        "data = data[0:50000]"
      ],
      "metadata": {
        "id": "5Jwgjc5D44aD"
      },
      "execution_count": null,
      "outputs": []
    },
    {
      "cell_type": "code",
      "source": [
        "X = data['Text']\n",
        "y = data['Label']"
      ],
      "metadata": {
        "id": "isCAOn_L0MNH"
      },
      "execution_count": null,
      "outputs": []
    },
    {
      "cell_type": "code",
      "source": [
        "from sklearn.model_selection import train_test_split"
      ],
      "metadata": {
        "id": "AhOgw782z6PT"
      },
      "execution_count": null,
      "outputs": []
    },
    {
      "cell_type": "code",
      "source": [
        "X_train, X_test, y_train, y_test = train_test_split(X, y, test_size=0.2, random_state=42)"
      ],
      "metadata": {
        "id": "wESnY21X0TMS"
      },
      "execution_count": null,
      "outputs": []
    },
    {
      "cell_type": "code",
      "source": [
        "X_train"
      ],
      "metadata": {
        "colab": {
          "base_uri": "https://localhost:8080/"
        },
        "id": "P62LjU2jFdBo",
        "outputId": "bd60888a-72a4-45f9-e55d-473259660c53"
      },
      "execution_count": null,
      "outputs": [
        {
          "output_type": "execute_result",
          "data": {
            "text/plain": [
              "242245    Very Mediocre: The fake velvet touch only enha...\n",
              "288918    Downton Abbey: I love it love it love it. I wo...\n",
              "105103    Roses Are Red: Disappointed in this one. They ...\n",
              "63504     Awful Experience: This Microsoft mouse stopped...\n",
              "239180    I must have seen a different movie: I have one...\n",
              "                                ...                        \n",
              "259178    You can fool all the people some of the time b...\n",
              "365838    It was good but not good: It was an 'okay' boo...\n",
              "131932    Unwatchable: The product arrived promptly and ...\n",
              "146867    Not worth the money or the time to read.: The ...\n",
              "121958    A nice shift into a gifted mind with multiple ...\n",
              "Name: Text, Length: 320000, dtype: object"
            ]
          },
          "metadata": {},
          "execution_count": 16
        }
      ]
    },
    {
      "cell_type": "code",
      "source": [
        "max_features = 10000\n",
        "sequence_length = 250"
      ],
      "metadata": {
        "id": "ohR8nJif7yMW"
      },
      "execution_count": null,
      "outputs": []
    },
    {
      "cell_type": "code",
      "source": [
        "from sklearn.feature_extraction.text import CountVectorizer\n",
        "\n",
        "\n",
        "vectorizer = CountVectorizer(max_features = max_features)\n",
        "vectorizer.fit(X_train)\n",
        "\n",
        "X_train = vectorizer.transform(X_train)\n",
        "X_test  = vectorizer.transform(X_test)"
      ],
      "metadata": {
        "id": "V0Lr-LQNfYxT"
      },
      "execution_count": null,
      "outputs": []
    },
    {
      "cell_type": "code",
      "source": [
        "X_train"
      ],
      "metadata": {
        "colab": {
          "base_uri": "https://localhost:8080/"
        },
        "id": "9CdTEcMN568E",
        "outputId": "aa5590a5-1478-4ce0-efa1-2fb953a958ad"
      },
      "execution_count": null,
      "outputs": [
        {
          "output_type": "execute_result",
          "data": {
            "text/plain": [
              "<8000x10000 sparse matrix of type '<class 'numpy.int64'>'\n",
              "\twith 420422 stored elements in Compressed Sparse Row format>"
            ]
          },
          "metadata": {},
          "execution_count": 49
        }
      ]
    },
    {
      "cell_type": "code",
      "source": [
        "X_train = X_train.toarray()"
      ],
      "metadata": {
        "id": "UV37p5K6-I_E"
      },
      "execution_count": null,
      "outputs": []
    },
    {
      "cell_type": "code",
      "source": [
        "X_test = X_test.toarray()"
      ],
      "metadata": {
        "id": "4fy3OCiC_eQM"
      },
      "execution_count": null,
      "outputs": []
    },
    {
      "cell_type": "code",
      "source": [
        "from tensorflow.keras import layers\n",
        "from tensorflow.keras import losses\n",
        "from tensorflow.keras.models import Sequential"
      ],
      "metadata": {
        "id": "RLssIP327t61"
      },
      "execution_count": null,
      "outputs": []
    },
    {
      "cell_type": "code",
      "source": [
        "model = Sequential()\n",
        "model.add(layers.Dense(16, input_dim=max_features, activation='relu'))\n",
        "model.add(layers.Dense(1, activation='sigmoid'))\n",
        "\n",
        "model.summary()\n",
        "model.compile(loss='binary_crossentropy', \n",
        "              optimizer='adam', \n",
        "              metrics=['accuracy'])\n",
        "model.summary()\n"
      ],
      "metadata": {
        "colab": {
          "base_uri": "https://localhost:8080/"
        },
        "id": "5YaTWJJP56Hr",
        "outputId": "e5455edf-1574-46f6-b235-027bbdaed05d"
      },
      "execution_count": null,
      "outputs": [
        {
          "output_type": "stream",
          "name": "stdout",
          "text": [
            "Model: \"sequential_7\"\n",
            "_________________________________________________________________\n",
            " Layer (type)                Output Shape              Param #   \n",
            "=================================================================\n",
            " dense_11 (Dense)            (None, 16)                160016    \n",
            "                                                                 \n",
            " dense_12 (Dense)            (None, 1)                 17        \n",
            "                                                                 \n",
            "=================================================================\n",
            "Total params: 160,033\n",
            "Trainable params: 160,033\n",
            "Non-trainable params: 0\n",
            "_________________________________________________________________\n",
            "Model: \"sequential_7\"\n",
            "_________________________________________________________________\n",
            " Layer (type)                Output Shape              Param #   \n",
            "=================================================================\n",
            " dense_11 (Dense)            (None, 16)                160016    \n",
            "                                                                 \n",
            " dense_12 (Dense)            (None, 1)                 17        \n",
            "                                                                 \n",
            "=================================================================\n",
            "Total params: 160,033\n",
            "Trainable params: 160,033\n",
            "Non-trainable params: 0\n",
            "_________________________________________________________________\n"
          ]
        }
      ]
    },
    {
      "cell_type": "code",
      "source": [
        "X_test.shape"
      ],
      "metadata": {
        "colab": {
          "base_uri": "https://localhost:8080/"
        },
        "id": "bRaSl5879TDZ",
        "outputId": "cd39e5f3-ac49-4a52-c095-0d3d8cee1821"
      },
      "execution_count": null,
      "outputs": [
        {
          "output_type": "execute_result",
          "data": {
            "text/plain": [
              "(2000, 5000)"
            ]
          },
          "metadata": {},
          "execution_count": 34
        }
      ]
    },
    {
      "cell_type": "code",
      "source": [
        "epochs = 10\n",
        "history = model.fit(X_train, y_train,\n",
        "                    validation_data = (X_test, y_test),\n",
        "                    epochs = epochs)\n"
      ],
      "metadata": {
        "colab": {
          "base_uri": "https://localhost:8080/"
        },
        "id": "vIhKk9ZX7X_T",
        "outputId": "6ba630ad-3365-41e4-f94a-31bd5b5f091c"
      },
      "execution_count": null,
      "outputs": [
        {
          "output_type": "stream",
          "name": "stdout",
          "text": [
            "Epoch 1/10\n",
            "1250/1250 [==============================] - 15s 11ms/step - loss: 0.3402 - accuracy: 0.8619 - val_loss: 0.2950 - val_accuracy: 0.8820\n",
            "Epoch 2/10\n",
            "1250/1250 [==============================] - 11s 9ms/step - loss: 0.2323 - accuracy: 0.9111 - val_loss: 0.3077 - val_accuracy: 0.8767\n",
            "Epoch 3/10\n",
            "1250/1250 [==============================] - 9s 7ms/step - loss: 0.1972 - accuracy: 0.9247 - val_loss: 0.3333 - val_accuracy: 0.8742\n",
            "Epoch 4/10\n",
            "1250/1250 [==============================] - 9s 7ms/step - loss: 0.1700 - accuracy: 0.9349 - val_loss: 0.3528 - val_accuracy: 0.8713\n",
            "Epoch 5/10\n",
            "1250/1250 [==============================] - 9s 7ms/step - loss: 0.1420 - accuracy: 0.9456 - val_loss: 0.3868 - val_accuracy: 0.8661\n",
            "Epoch 6/10\n",
            "1250/1250 [==============================] - 9s 7ms/step - loss: 0.1152 - accuracy: 0.9571 - val_loss: 0.4242 - val_accuracy: 0.8652\n",
            "Epoch 7/10\n",
            "1250/1250 [==============================] - 9s 7ms/step - loss: 0.0920 - accuracy: 0.9677 - val_loss: 0.4726 - val_accuracy: 0.8645\n",
            "Epoch 8/10\n",
            "1250/1250 [==============================] - 9s 7ms/step - loss: 0.0718 - accuracy: 0.9761 - val_loss: 0.5231 - val_accuracy: 0.8658\n",
            "Epoch 9/10\n",
            "1250/1250 [==============================] - 9s 7ms/step - loss: 0.0554 - accuracy: 0.9828 - val_loss: 0.5714 - val_accuracy: 0.8611\n",
            "Epoch 10/10\n",
            "1250/1250 [==============================] - 9s 7ms/step - loss: 0.0408 - accuracy: 0.9882 - val_loss: 0.6448 - val_accuracy: 0.8605\n"
          ]
        }
      ]
    },
    {
      "cell_type": "code",
      "source": [
        "history_dict = history.history\n",
        "history_dict.keys()\n",
        "\n",
        "acc = history_dict['accuracy']\n",
        "val_acc = history_dict['val_accuracy']\n",
        "loss = history_dict['loss']\n",
        "val_loss = history_dict['val_loss']\n"
      ],
      "metadata": {
        "id": "DQ6hksTVBVHS"
      },
      "execution_count": null,
      "outputs": []
    },
    {
      "cell_type": "code",
      "source": [
        "epochs"
      ],
      "metadata": {
        "colab": {
          "base_uri": "https://localhost:8080/"
        },
        "id": "gJMoepXfFLeb",
        "outputId": "1719f7cf-54be-49dc-ad5f-e821dfcfdb02"
      },
      "execution_count": null,
      "outputs": [
        {
          "output_type": "execute_result",
          "data": {
            "text/plain": [
              "10"
            ]
          },
          "metadata": {},
          "execution_count": 75
        }
      ]
    },
    {
      "cell_type": "code",
      "source": [
        "def plot_graphs(history, metric):\n",
        "  plt.plot(history.history[metric])\n",
        "  plt.plot(history.history['val_'+metric], '')\n",
        "  plt.xlabel(\"Epochs\")\n",
        "  plt.ylabel(metric)\n",
        "  plt.legend([metric, 'val_'+metric])\n",
        "\n",
        "plt.figure(figsize=(16, 8))\n",
        "plt.subplot(1, 2, 1)\n",
        "plot_graphs(history, 'accuracy')\n",
        "plt.ylim(None, 1)\n",
        "plt.subplot(1, 2, 2)\n",
        "plot_graphs(history, 'loss')\n",
        "plt.ylim(0, None)\n"
      ],
      "metadata": {
        "colab": {
          "base_uri": "https://localhost:8080/",
          "height": 518
        },
        "id": "rygOkC0gFWOE",
        "outputId": "9cdeaba3-7b56-401b-b268-d098e250f16e"
      },
      "execution_count": null,
      "outputs": [
        {
          "output_type": "execute_result",
          "data": {
            "text/plain": [
              "(0.0, 0.6750402873381972)"
            ]
          },
          "metadata": {},
          "execution_count": 76
        },
        {
          "output_type": "display_data",
          "data": {
            "text/plain": [
              "<Figure size 1152x576 with 2 Axes>"
            ],
            "image/png": "[encoded data removed]"
          },
          "metadata": {
            "needs_background": "light"
          }
        }
      ]
    },
    {
      "cell_type": "code",
      "source": [
        "import os\n",
        "root_logdir = os.path.join(os.curdir, \"my_logs\")\n",
        "def get_run_logdir():\n",
        "  import time\n",
        "  run_id = time.strftime(\"run_%Y_%m_%d-%H_%M_%S\")\n",
        "  return os.path.join(root_logdir, run_id)\n",
        "tensorboard_cb = keras.callbacks.TensorBoard(run_logdir)"
      ],
      "metadata": {
        "id": "arF_BHUWfPMj"
      },
      "execution_count": null,
      "outputs": []
    },
    {
      "cell_type": "code",
      "source": [
        "%load_ext tensorboard\n",
        "%tensorboard --logdir=./my_logs --port = 6006"
      ],
      "metadata": {
        "id": "oNqcoSuafxjg"
      },
      "execution_count": null,
      "outputs": []
    },
    {
      "cell_type": "code",
      "source": [
        "'''\n",
        "import tensorflow_datasets as tfds\n",
        "datasets, info = tfds.load('imdb_reviews', as_supervised=True, with_info=True)\n",
        "train_size = info.splits['train'].num_examples\n",
        "\n",
        "BUFFER_SIZE = 10000\n",
        "BATCH_SIZE = 64\n",
        "train_dataset = train_dataset.shuffle(BUFFER_SIZE).batch(BATCH_SIZE).prefetch(tf.data.AUTOTUNE)\n",
        "test_dataset = test_dataset.batch(BATCH_SIZE).prefetch(tf.data.AUTOTUNE)\n",
        "\n",
        "\n",
        "VOCAB_SIZE = 1000\n",
        "encoder = tf.keras.layers.TextVectorization(\n",
        "    max_tokens=VOCAB_SIZE)\n",
        "encoder.adapt(train_dataset.map(lambda text, label: text))\n",
        "\n",
        "vocab = np.array(encoder.get_vocabulary())\n",
        "vocab[:20]\n",
        "\n",
        "encoded_example = encoder(example)[:3].numpy()\n",
        "encoded_example\n",
        "\n",
        "for n in range(3):\n",
        "  print(\"Original: \", example[n].numpy())\n",
        "  print(\"Round-trip: \", \" \".join(vocab[encoded_example[n]]))\n",
        "  print()\n",
        "\n",
        "model = tf.keras.Sequential([\n",
        "    encoder,\n",
        "    tf.keras.layers.Embedding(\n",
        "        input_dim=len(encoder.get_vocabulary()),\n",
        "        output_dim=64,\n",
        "        # Use masking to handle the variable sequence lengths\n",
        "        mask_zero=True),\n",
        "    tf.keras.layers.Bidirectional(tf.keras.layers.LSTM(64)),\n",
        "    tf.keras.layers.Dense(64, activation='relu'),\n",
        "    tf.keras.layers.Dense(1)\n",
        "])\n",
        "\n",
        "model.compile(loss=tf.keras.losses.BinaryCrossentropy(from_logits=True),\n",
        "              optimizer=tf.keras.optimizers.Adam(1e-4),\n",
        "              metrics=['accuracy'])\n",
        "\n",
        "history = model.fit(train_dataset, epochs=10,\n",
        "                    validation_data=test_dataset,\n",
        "                    validation_steps=30)\n",
        "'''"
      ],
      "metadata": {
        "colab": {
          "base_uri": "https://localhost:8080/",
          "height": 336,
          "referenced_widgets": [
            "7cfb450774174a029045552d45ba0263",
            "53f21fc405594db09f50e967e29a0f71",
            "efd65cef99234017858e310b3e0aeff0",
            "ce19694c21184fcead595828ac1dc870",
            "a2c6e1b8c7dc4f10b2d566827afe7bb6",
            "69217aa6ae554f658b31bc8cd21b338e",
            "2f10f6b9cb074c3da78b810939174541",
            "0b49faa4f16a4168bd616ac4e5d05d91",
            "b1a2d9f73b2149ca969331ef7a1a4913",
            "cecf744aa0a146cda202298e488c2c31",
            "d04fa076ef3a491e880496e332faa54d",
            "106027379f92454c8940c49ffe5a26c5",
            "4cc691b839c846aba997b627026958d7",
            "3872f0241f9749ec862f9623f5df4522",
            "3d1cb2e2abd3490a80fd29ea87ad1aab",
            "9dbe22b7b7874f2184607d6908ce92bd",
            "5e5a7e124fa8452da3bc38f3afa8fc61",
            "b714873d9582473dba9904fc3884adfe",
            "f10606b68ddf4775ae166d8f6b69d870",
            "a7a484cf048143dd8333cdbb05154444",
            "391018ebfc9f432eacf793db357b3f4e",
            "683fd6e666cb4f4584e8bdec15a43627",
            "a3485998edf34562830008d9aa6436c0",
            "c7613a530acb489092f1a0efd17b6e44",
            "b6a028742d9f40d39a0d1aa88de6a930",
            "95794203304a43959179b199385fc643",
            "a76514714ace4168a302c9ad34baccce",
            "3daf118fef7445a88957ed4015112c97",
            "22dcb72cd94e426898565f0232780ce6",
            "c325ef7d39fc4080ada1db1b1de123a3",
            "48f7e014ff88444fb4e2a21596aa1419",
            "4f3fdfae3f6d4b55a60e61e4ea5ec944",
            "5ddc8194379e479baf7d855978cc8632",
            "e01110528e6245b3be4107ff0617157e",
            "e0a700fc876d410db18a16b762b6844c",
            "3680f09ac7ff4c5ba1ba2f1e3796fd7f",
            "32827a205df7409b998cbc86e74596cf",
            "aed2ae5b24aa4ad797b22a3c28ecdcf2",
            "02c83e6313314270b495cf84cff3001f",
            "dc2397c47a6a44e18b1e175022457d0e",
            "bc7b8b8dd6024a6fb008b267e46cf0f1",
            "e1f866ea7dc04ecd9c6cc958f4ba04ae",
            "8f6c1b50e9594e2094be5c57637282b8",
            "4d6de09f6b7649149a044f6f36edf7f3",
            "6f23db35b8f34a1d89e1e6ee56fb00ff",
            "b761a05107b74fc995f8648ff1539ca2",
            "233761904ce14596992b18e5c003073a",
            "5893b519f0ac405ebc643a7ac4bb07c8",
            "c1433aca377b4996beeca2a95c01a8d9",
            "38a1e8dabd5a42c48f4185e77477c9ad",
            "25d0071b102e4665b5af2e4162ba287e",
            "1e9980916c3a4d6c97e64cfa786e5132",
            "8aca6a51bac9440aa0c137b0c031554d",
            "75e532c1cd084abbb5ed9992703663a6",
            "969dac4efa254cc285119868914dc82b",
            "c2df69ba5ee6412bbc49d37685f669c4",
            "1fb06dc87d3942ba91c1bccaffff1aac",
            "f2541633851a425082f3ef9aee5b0071",
            "e849153d01eb430896aa8ae1a10e1017",
            "d6bd1d41bb8e414e8b32282da8e9d1d4",
            "1c9ad384796f44dd88729590b17081cb",
            "8b5d88d178794f019a52fa8bc4398b59",
            "ae5795b5238e4c4ab06bdb3b8a0c2b69",
            "988d25a8e869415fa1befaa1b5e34149",
            "51f28a456e9f42ba84562f0f3db1c783",
            "0a3c7447c7464bad9c4c3a7d5e00d4d0",
            "ca5cc996ec5340c0b3fa2f0ef955ebec",
            "721705c63009463eaf6c36c053fd558b",
            "65e7e10448e840b68e42e674d2321b3e",
            "ffd74d1c8da542d58792ed6519b24249",
            "fdc7faf2990b458faf2a96ecc522547a",
            "b24f4a4b324046009b2acae390d8647a",
            "7e4319a3a6f34651a0d47f12e2b19ef6",
            "2258eca2cf9e4656a03b16eb2c03a9b8",
            "bc951cdfd0bd4bbe80b836a413a51ecb",
            "9cf6e1c87d2a4af0b00cdcea4f615988",
            "6932bf86f9f04d55a97c13c31d03c339",
            "4439693e5c9f43a189780a7a0b822377",
            "a7c18f71b91242248fe2943352a7d644",
            "8081c26c67a446df875d888cf6bbd065",
            "5e76254611de45c4835d7e23995766aa",
            "ca3a9160008b4b87b97a535fe3de1de3",
            "631e1a03d4294641ab4074c668b54878",
            "c0b7a16fc7824d038f2867aceb048097",
            "0e86160fb1c144b6b56b37a9cf324a78",
            "b0859d9419fa49c3a25de080de5c23f8",
            "9d35a77382674a6c8d9b7c495caa8475",
            "6355bf93890a4600b1049deffe3a6b8e"
          ]
        },
        "id": "4gH4jEzJxVB3",
        "outputId": "3c4b8e9e-1347-43f5-e283-78ccf3c206ff"
      },
      "execution_count": null,
      "outputs": [
        {
          "output_type": "stream",
          "name": "stdout",
          "text": [
            "\u001b[1mDownloading and preparing dataset imdb_reviews/plain_text/1.0.0 (download: 80.23 MiB, generated: Unknown size, total: 80.23 MiB) to /root/tensorflow_datasets/imdb_reviews/plain_text/1.0.0...\u001b[0m\n"
          ]
        },
        {
          "output_type": "display_data",
          "data": {
            "text/plain": [
              "Dl Completed...: 0 url [00:00, ? url/s]"
            ],
            "application/vnd.jupyter.widget-view+json": {
              "version_major": 2,
              "version_minor": 0,
              "model_id": "7cfb450774174a029045552d45ba0263"
            }
          },
          "metadata": {}
        },
        {
          "output_type": "display_data",
          "data": {
            "text/plain": [
              "Dl Size...: 0 MiB [00:00, ? MiB/s]"
            ],
            "application/vnd.jupyter.widget-view+json": {
              "version_major": 2,
              "version_minor": 0,
              "model_id": "106027379f92454c8940c49ffe5a26c5"
            }
          },
          "metadata": {}
        },
        {
          "output_type": "stream",
          "name": "stdout",
          "text": [
            "\n",
            "\n"
          ]
        },
        {
          "output_type": "display_data",
          "data": {
            "text/plain": [
              "0 examples [00:00, ? examples/s]"
            ],
            "application/vnd.jupyter.widget-view+json": {
              "version_major": 2,
              "version_minor": 0,
              "model_id": "a3485998edf34562830008d9aa6436c0"
            }
          },
          "metadata": {}
        },
        {
          "output_type": "stream",
          "name": "stdout",
          "text": [
            "Shuffling and writing examples to /root/tensorflow_datasets/imdb_reviews/plain_text/1.0.0.incompleteP6S12T/imdb_reviews-train.tfrecord\n"
          ]
        },
        {
          "output_type": "display_data",
          "data": {
            "text/plain": [
              "  0%|          | 0/25000 [00:00<?, ? examples/s]"
            ],
            "application/vnd.jupyter.widget-view+json": {
              "version_major": 2,
              "version_minor": 0,
              "model_id": "e01110528e6245b3be4107ff0617157e"
            }
          },
          "metadata": {}
        },
        {
          "output_type": "display_data",
          "data": {
            "text/plain": [
              "0 examples [00:00, ? examples/s]"
            ],
            "application/vnd.jupyter.widget-view+json": {
              "version_major": 2,
              "version_minor": 0,
              "model_id": "6f23db35b8f34a1d89e1e6ee56fb00ff"
            }
          },
          "metadata": {}
        },
        {
          "output_type": "stream",
          "name": "stdout",
          "text": [
            "Shuffling and writing examples to /root/tensorflow_datasets/imdb_reviews/plain_text/1.0.0.incompleteP6S12T/imdb_reviews-test.tfrecord\n"
          ]
        },
        {
          "output_type": "display_data",
          "data": {
            "text/plain": [
              "  0%|          | 0/25000 [00:00<?, ? examples/s]"
            ],
            "application/vnd.jupyter.widget-view+json": {
              "version_major": 2,
              "version_minor": 0,
              "model_id": "c2df69ba5ee6412bbc49d37685f669c4"
            }
          },
          "metadata": {}
        },
        {
          "output_type": "display_data",
          "data": {
            "text/plain": [
              "0 examples [00:00, ? examples/s]"
            ],
            "application/vnd.jupyter.widget-view+json": {
              "version_major": 2,
              "version_minor": 0,
              "model_id": "ca5cc996ec5340c0b3fa2f0ef955ebec"
            }
          },
          "metadata": {}
        },
        {
          "output_type": "stream",
          "name": "stdout",
          "text": [
            "Shuffling and writing examples to /root/tensorflow_datasets/imdb_reviews/plain_text/1.0.0.incompleteP6S12T/imdb_reviews-unsupervised.tfrecord\n"
          ]
        },
        {
          "output_type": "display_data",
          "data": {
            "text/plain": [
              "  0%|          | 0/50000 [00:00<?, ? examples/s]"
            ],
            "application/vnd.jupyter.widget-view+json": {
              "version_major": 2,
              "version_minor": 0,
              "model_id": "4439693e5c9f43a189780a7a0b822377"
            }
          },
          "metadata": {}
        },
        {
          "output_type": "stream",
          "name": "stderr",
          "text": [
            "WARNING:absl:Dataset is using deprecated text encoder API which will be removed soon. Please use the plain_text version of the dataset and migrate to `tensorflow_text`.\n"
          ]
        },
        {
          "output_type": "stream",
          "name": "stdout",
          "text": [
            "\u001b[1mDataset imdb_reviews downloaded and prepared to /root/tensorflow_datasets/imdb_reviews/plain_text/1.0.0. Subsequent calls will reuse this data.\u001b[0m\n"
          ]
        }
      ]
    },
    {
      "cell_type": "code",
      "source": [
        "def text_preprocess(X_batch):\n",
        "  X_batch = tf.strings.substr(X_batch, 0, 300) #Uses only the first 300 characters of a reivew\n",
        "  #X_batch = tf.strings.regex_replace(X_batch, b\"<br\\\\s*/?>\", b\" \")\n",
        "  X_batch = tf.strings.regex_replace(X_batch, b\"[^a-zA-Z']\", b\" \") #Removes non space punctuation\n",
        "  X_btach = tf.strings.split(X_batch)                        #Splits to ragged Tensor (to be padded)\n",
        "  return X_batch.to_tensor(default_value=b\"<pads>\") #Pads Tensors so they have the same length"
      ],
      "metadata": {
        "id": "GA7KjEQwf5ao"
      },
      "execution_count": null,
      "outputs": []
    },
    {
      "cell_type": "code",
      "source": [
        "import nltk\n",
        "nltk.download('vader_lexicon')\n",
        "from nltk.sentiment.vader import SentimentIntensityAnalyzer\n",
        "\n",
        "sid = SentimentIntensityAnalyzer()"
      ],
      "metadata": {
        "id": "vK3VF7Oa0_vF"
      },
      "execution_count": null,
      "outputs": []
    },
    {
      "cell_type": "code",
      "source": [
        "#Generate Accuracy and Loss graphcs\n",
        "plt.figure(figsize=(16, 8))\n",
        "plt.subplot(1, 2, 1)\n",
        "plot_graphs(history, 'accuracy')\n",
        "plt.ylim(None, 1)\n",
        "plt.subplot(1, 2, 2)\n",
        "plot_graphs(history, 'loss')\n",
        "plt.ylim(0, None)\n"
      ],
      "metadata": {
        "id": "UbMbdyYGn4TI"
      },
      "execution_count": null,
      "outputs": []
    },
    {
      "cell_type": "code",
      "source": [
        "#Quick BERT model. Should add word padding and clean the text."
      ],
      "metadata": {
        "id": "qKeJsUwLn1-c"
      },
      "execution_count": null,
      "outputs": []
    },
    {
      "cell_type": "code",
      "source": [
        ""
      ],
      "metadata": {
        "id": "R23_f1iQX4v-"
      },
      "execution_count": null,
      "outputs": []
    },
    {
      "cell_type": "code",
      "source": [
        ""
      ],
      "metadata": {
        "id": "JEiq-LBBG6mT"
      },
      "execution_count": null,
      "outputs": []
    },
    {
      "cell_type": "code",
      "source": [
        "bert_preprocess = hub.KerasLayer(\"https://tfhub.dev/tensorflow/bert_en_uncased_preprocess/3\")\n",
        "bert_encoder = hub.KerasLayer(\"https://tfhub.dev/tensorflow/bert_en_uncased_L-12_H-768_A-12/4\")"
      ],
      "metadata": {
        "id": "9M3ugoyvFeL2"
      },
      "execution_count": null,
      "outputs": []
    },
    {
      "cell_type": "code",
      "source": [
        "text_input = tf.keras.layers.Input(shape=(), dtype=tf.string, name='text')\n",
        "preprocessed_text = bert_preprocess(text_input)\n",
        "outputs = bert_encoder(preprocessed_text)"
      ],
      "metadata": {
        "id": "pITEgqhpFwXG"
      },
      "execution_count": null,
      "outputs": []
    },
    {
      "cell_type": "code",
      "source": [
        "l = tf.keras.layers.Dropout(0.1, name=\"dropout\")(outputs['pooled_output'])\n",
        "l = tf.keras.layers.Dense(1, activation='sigmoid', name=\"output\")(l)"
      ],
      "metadata": {
        "id": "1PpqfPZuF9hv"
      },
      "execution_count": null,
      "outputs": []
    },
    {
      "cell_type": "code",
      "source": [
        "model = tf.keras.Model(inputs=[text_input], outputs = [l])"
      ],
      "metadata": {
        "id": "cA17rPsvGBOU"
      },
      "execution_count": null,
      "outputs": []
    },
    {
      "cell_type": "code",
      "source": [
        "METRICS = [\n",
        "      tf.keras.metrics.BinaryAccuracy(name='accuracy'),\n",
        "      tf.keras.metrics.Precision(name='precision'),\n",
        "      tf.keras.metrics.Recall(name='recall')\n",
        "]\n",
        "\n",
        "model.compile(optimizer='adam',\n",
        " loss='binary_crossentropy',\n",
        " metrics=METRICS)"
      ],
      "metadata": {
        "id": "Q2xXWFwSGDxp"
      },
      "execution_count": null,
      "outputs": []
    },
    {
      "cell_type": "code",
      "source": [
        "model.summary()"
      ],
      "metadata": {
        "colab": {
          "base_uri": "https://localhost:8080/"
        },
        "id": "m8WWfW6-H-rT",
        "outputId": "09eb5cb9-d1b6-44a4-8129-46f3c6e186bf"
      },
      "execution_count": null,
      "outputs": [
        {
          "output_type": "stream",
          "name": "stdout",
          "text": [
            "Model: \"model\"\n",
            "__________________________________________________________________________________________________\n",
            " Layer (type)                   Output Shape         Param #     Connected to                     \n",
            "==================================================================================================\n",
            " text (InputLayer)              [(None,)]            0           []                               \n",
            "                                                                                                  \n",
            " keras_layer (KerasLayer)       {'input_type_ids':   0           ['text[0][0]']                   \n",
            "                                (None, 128),                                                      \n",
            "                                 'input_word_ids':                                                \n",
            "                                (None, 128),                                                      \n",
            "                                 'input_mask': (Non                                               \n",
            "                                e, 128)}                                                          \n",
            "                                                                                                  \n",
            " keras_layer_1 (KerasLayer)     {'default': (None,   109482241   ['keras_layer[0][0]',            \n",
            "                                768),                             'keras_layer[0][1]',            \n",
            "                                 'pooled_output': (               'keras_layer[0][2]']            \n",
            "                                None, 768),                                                       \n",
            "                                 'sequence_output':                                               \n",
            "                                 (None, 128, 768),                                                \n",
            "                                 'encoder_outputs':                                               \n",
            "                                 [(None, 128, 768),                                               \n",
            "                                 (None, 128, 768),                                                \n",
            "                                 (None, 128, 768),                                                \n",
            "                                 (None, 128, 768),                                                \n",
            "                                 (None, 128, 768),                                                \n",
            "                                 (None, 128, 768),                                                \n",
            "                                 (None, 128, 768),                                                \n",
            "                                 (None, 128, 768),                                                \n",
            "                                 (None, 128, 768),                                                \n",
            "                                 (None, 128, 768),                                                \n",
            "                                 (None, 128, 768),                                                \n",
            "                                 (None, 128, 768)]}                                               \n",
            "                                                                                                  \n",
            " dropout (Dropout)              (None, 768)          0           ['keras_layer_1[0][13]']         \n",
            "                                                                                                  \n",
            " output (Dense)                 (None, 1)            769         ['dropout[0][0]']                \n",
            "                                                                                                  \n",
            "==================================================================================================\n",
            "Total params: 109,483,010\n",
            "Trainable params: 769\n",
            "Non-trainable params: 109,482,241\n",
            "__________________________________________________________________________________________________\n"
          ]
        }
      ]
    },
    {
      "cell_type": "code",
      "source": [
        "import keras\n",
        "from tensorflow.python.client import device_lib\n",
        "print(device_lib.list_local_devices())\n",
        "#from keras import backend as K\n",
        "#K.tensorflow_backend._get_available_gpus()"
      ],
      "metadata": {
        "colab": {
          "base_uri": "https://localhost:8080/"
        },
        "id": "uhw8I5wKJFQ5",
        "outputId": "a09ab214-61ca-4b54-af8b-97194527c2fa"
      },
      "execution_count": null,
      "outputs": [
        {
          "output_type": "stream",
          "name": "stdout",
          "text": [
            "[name: \"/device:CPU:0\"\n",
            "device_type: \"CPU\"\n",
            "memory_limit: 268435456\n",
            "locality {\n",
            "}\n",
            "incarnation: 3711705226862566217\n",
            "xla_global_id: -1\n",
            ", name: \"/device:GPU:0\"\n",
            "device_type: \"GPU\"\n",
            "memory_limit: 11320098816\n",
            "locality {\n",
            "  bus_id: 1\n",
            "  links {\n",
            "  }\n",
            "}\n",
            "incarnation: 14909314759690345526\n",
            "physical_device_desc: \"device: 0, name: Tesla K80, pci bus id: 0000:00:04.0, compute capability: 3.7\"\n",
            "xla_global_id: 416903419\n",
            "]\n"
          ]
        }
      ]
    },
    {
      "cell_type": "code",
      "source": [
        "miniX = X_train[0:2000]\n",
        "miniy = y_train[0:2000]"
      ],
      "metadata": {
        "id": "s1A_K3HlJWB9"
      },
      "execution_count": null,
      "outputs": []
    },
    {
      "cell_type": "code",
      "source": [
        "model.fit(miniX, miniy, epochs=10)"
      ],
      "metadata": {
        "colab": {
          "base_uri": "https://localhost:8080/"
        },
        "id": "uyMyZKQFGHkZ",
        "outputId": "9cec3edd-1f94-4ba3-dd0b-58f7aab3c4f1"
      },
      "execution_count": null,
      "outputs": [
        {
          "output_type": "stream",
          "name": "stdout",
          "text": [
            "Epoch 1/10\n",
            " 3/63 [>.............................] - ETA: 13:57 - loss: 0.6822 - accuracy: 0.5208 - precision: 0.5119 - recall: 0.8958"
          ]
        }
      ]
    },
    {
      "cell_type": "code",
      "source": [
        "testmini = X_test[0:2000]\n",
        "testminiy = y_test[0:2000]"
      ],
      "metadata": {
        "id": "vHusjrxmM_dV"
      },
      "execution_count": null,
      "outputs": []
    },
    {
      "cell_type": "code",
      "source": [
        "y_predicted = model.predict(testmini)\n",
        "y_predicted = y_predicted.flatten()"
      ],
      "metadata": {
        "id": "aFnH6XRiGJ_m"
      },
      "execution_count": null,
      "outputs": []
    },
    {
      "cell_type": "code",
      "source": [
        "y_predicted = np.where(y_predicted > 0.5, 1, 0)\n",
        "y_predicted"
      ],
      "metadata": {
        "colab": {
          "base_uri": "https://localhost:8080/"
        },
        "id": "eqX7gycvMlZT",
        "outputId": "5a42b9cb-9545-4e85-804c-48522d441bc0"
      },
      "execution_count": null,
      "outputs": [
        {
          "output_type": "execute_result",
          "data": {
            "text/plain": [
              "array([1, 0, 1, ..., 0, 0, 1])"
            ]
          },
          "metadata": {},
          "execution_count": 26
        }
      ]
    },
    {
      "cell_type": "code",
      "source": [
        "from sklearn.metrics import confusion_matrix\n",
        "confusion_matrix(testminiy, y_predicted)"
      ],
      "metadata": {
        "colab": {
          "base_uri": "https://localhost:8080/"
        },
        "id": "sQfCF4RkMwT-",
        "outputId": "900356c3-9820-4a17-d490-44b7f269a934"
      },
      "execution_count": null,
      "outputs": [
        {
          "output_type": "execute_result",
          "data": {
            "text/plain": [
              "array([[796, 180],\n",
              "       [261, 763]])"
            ]
          },
          "metadata": {},
          "execution_count": 27
        }
      ]
    },
    {
      "cell_type": "markdown",
      "source": [
        "# Indeed Job **Scraper**\n",
        "WIP"
      ],
      "metadata": {
        "id": "4SqFDzu0a9kM"
      }
    },
    {
      "cell_type": "markdown",
      "source": [
        "In my current job search I found it inefficient to manually sort through entry level positions due to greatly varying requirements. While an applicant does not need to have skills to the letter of the requirements, it would help to be able to filter by actual description rather than by entry/intermediate etc. "
      ],
      "metadata": {
        "id": "6NigHlgwbKCi"
      }
    },
    {
      "cell_type": "code",
      "source": [
        "import requests\n",
        "import csv\n",
        "from bs4 import BeautifulSoup\n",
        "import numpy as np\n",
        "import pandas as pd"
      ],
      "metadata": {
        "id": "xMjPA68r41Gl"
      },
      "execution_count": 1,
      "outputs": []
    },
    {
      "cell_type": "code",
      "source": [
        "df = pd.DataFrame(columns=['Title', 'Description', 'Link'])"
      ],
      "metadata": {
        "id": "_FwA1WDaV-8D"
      },
      "execution_count": 2,
      "outputs": []
    },
    {
      "cell_type": "code",
      "source": [
        "APIKEY = '1081312d4de6bfa2d256048cd767a530'\n",
        "\n",
        "HEADERS = ({'User-Agent':\n",
        "            'Mozilla/5.0 (Windows NT 10.0; Win64; x64) \\\n",
        "            AppleWebKit/537.36 (KHTML, like Gecko) \\\n",
        "            Chrome/90.0.4430.212 Safari/537.36',\n",
        "            'Accept-Language': 'en-US, en;q=0.5'})"
      ],
      "metadata": {
        "id": "IhJEriejZfww"
      },
      "execution_count": 3,
      "outputs": []
    },
    {
      "cell_type": "code",
      "source": [
        "url = 'https://www.indeed.com/jobs?q=Remote+Data+Analyst&start=10'\n",
        "payload = {'api_key': APIKEY, 'url': url}\n",
        "r = requests.get('http://api.scraperapi.com', params=payload, headers = HEADERS)\n",
        "soup = BeautifulSoup(r.text, 'html.parser')"
      ],
      "metadata": {
        "id": "8XDAvljCYTfp"
      },
      "execution_count": 4,
      "outputs": []
    },
    {
      "cell_type": "code",
      "source": [
        "r = requests.get('https://www.indeed.com/jobs?q=Remote+Data+Analyst&start=10', headers = HEADERS)\n",
        "soup = BeautifulSoup(r.text, 'html.parser')"
      ],
      "metadata": {
        "id": "JaQw0V-B_mif"
      },
      "execution_count": 5,
      "outputs": []
    },
    {
      "cell_type": "code",
      "source": [
        "entry = soup.find_all('td', class_='resultContent')\n",
        "entry"
      ],
      "metadata": {
        "colab": {
          "base_uri": "https://localhost:8080/"
        },
        "id": "HYlvFyH1AYGt",
        "outputId": "6d970aed-3c4a-45fa-8446-3d19bcb92927"
      },
      "execution_count": 6,
      "outputs": [
        {
          "output_type": "execute_result",
          "data": {
            "text/plain": [
              "[<td class=\"resultContent\"><div class=\"heading4 color-text-primary singleLineTitle tapItem-gutter\"><h2 class=\"jobTitle jobTitle-newJob\"><div class=\"new topLeft holisticNewBlue desktop\"><span class=\"label\">new</span></div><a aria-label=\"full details of Data Analyst\" class=\"jcs-JobTitle\" data-hide-spinner=\"true\" data-hiring-event=\"false\" data-jk=\"a5da143406f5db0e\" data-mobtk=\"1g2vm2jg22eon000\" href=\"/rc/clk?jk=a5da143406f5db0e&amp;fccid=5f7c8e9b696f11aa&amp;vjs=3\" id=\"job_a5da143406f5db0e\" role=\"button\" target=\"_blank\"><span title=\"Data Analyst\">Data Analyst</span></a></h2></div><div class=\"heading6 company_location tapItem-gutter companyInfo\"><span class=\"companyName\">BlocPower</span><div class=\"companyLocation\"><span>Remote</span></div></div><div class=\"heading6 tapItem-gutter metadataContainer noJEMChips salaryOnly\"><div class=\"metadata salary-snippet-container\"><div class=\"attribute_snippet\"><svg aria-hidden=\"true\" aria-label=\"Salary\" fill=\"none\" role=\"presentation\" viewbox=\"0 0 16 13\" xmlns=\"http://www.w3.org/2000/svg\"><defs></defs><path clip-rule=\"evenodd\" d=\"M2.45168 6.10292c-.30177-.125-.62509-.18964-.95168-.1903V4.08678c.32693-.00053.6506-.06518.95267-.1903.30331-.12564.57891-.30979.81105-.54193.23215-.23215.4163-.50775.54194-.81106.12524-.30237.18989-.62638.19029-.95365H9.0902c0 .3283.06466.65339.1903.9567.12564.30331.30978.57891.54193.81106.23217.23215.50777.41629.81107.54193.3032.12558.6281.19024.9562.1903v1.83556c-.3242.00155-.6451.06616-.9448.19028-.3033.12563-.5789.30978-.81102.54193-.23215.23214-.4163.50774-.54193.81106-.12332.2977-.18789.61638-.19024.93849H3.99496c-.00071-.32645-.06535-.64961-.19029-.95124-.12564-.30332-.30979-.57891-.54193-.81106-.23215-.23215-.50775-.4163-.81106-.54193zM0 .589843C0 .313701.223858.0898438.5.0898438h12.0897c.2762 0 .5.2238572.5.5000002V9.40715c0 .27614-.2238.5-.5.5H.5c-.276143 0-.5-.22386-.5-.5V.589843zM6.54427 6.99849c1.10457 0 2-.89543 2-2s-.89543-2-2-2-2 .89543-2 2 .89543 2 2 2zm8.05523-2.69917v7.10958H2.75977c-.27615 0-.5.2238-.5.5v.5c0 .2761.22385.5.5.5H15.422c.4419 0 .6775-.2211.6775-.6629V4.29932c0-.27615-.2239-.5-.5-.5h-.5c-.2761 0-.5.22385-.5.5z\" fill=\"#595959\" fill-rule=\"evenodd\"></path></svg>$75,000 - $85,000 a year</div></div><div class=\"metadata\"><div class=\"attribute_snippet\"><svg aria-hidden=\"true\" aria-label=\"Job type\" fill=\"none\" height=\"13\" role=\"presentation\" viewbox=\"0 0 14 13\" width=\"14\" xmlns=\"http://www.w3.org/2000/svg\"><path clip-rule=\"evenodd\" d=\"M4.50226.5c-.27614 0-.5.223858-.5.5v2.1H.5c-.276142 0-.5.22386-.5.5v1.9h14V3.6c0-.27614-.2239-.5-.5-.5h-3.4977V1c0-.276142-.22389-.5-.50004-.5h-5Zm4.19962 2.6H5.30344V1.8h3.39844v1.3Z\" fill=\"#595959\" fill-rule=\"evenodd\"></path><path d=\"M5.70117 6.80005H0v5.20005c0 .2761.223857.5.5.5h13c.2761 0 .5-.2239.5-.5V6.80005H8.30117v.80322c0 .27614-.22386.5-.5.5h-1.6c-.27614 0-.5-.22386-.5-.5v-.80322Z\" fill=\"#595959\"></path></svg>Full-time</div></div></div><div class=\"heading6 error-text tapItem-gutter\"></div></td>,\n",
              " <td class=\"resultContent\"><div class=\"heading4 color-text-primary singleLineTitle tapItem-gutter\"><h2 class=\"jobTitle jobTitle-newJob\"><div class=\"new topLeft holisticNewBlue desktop\"><span class=\"label\">new</span></div><a aria-label=\"full details of Immunization Data &amp; Equity Analyst (REMOTE WORK OPTION IN-ST...\" class=\"jcs-JobTitle\" data-hide-spinner=\"true\" data-hiring-event=\"false\" data-jk=\"2e5477ca5fd05676\" data-mobtk=\"1g2vm2jg22eon000\" href=\"/rc/clk?jk=2e5477ca5fd05676&amp;fccid=7cd7119315ca0934&amp;vjs=3\" id=\"job_2e5477ca5fd05676\" role=\"button\" target=\"_blank\"><span title=\"Immunization Data &amp; Equity Analyst (REMOTE WORK OPTION IN-STATE)\">Immunization Data &amp; Equity Analyst (REMOTE WORK OPTION IN-ST...</span></a></h2></div><div class=\"heading6 company_location tapItem-gutter companyInfo\"><span class=\"companyName\"><a class=\"turnstileLink companyOverviewLink\" data-tn-element=\"companyName\" href=\"/cmp/State-of-Colorado\" rel=\"noopener\" target=\"_blank\">State of Colorado Job Opportunities</a></span><span class=\"ratingsDisplay withRatingLink\"><a aria-label=\"Company rating 3.3 out of 5 stars\" class=\"ratingLink\" data-tn-variant=\"cmplinktst2\" href=\"/cmp/State-of-Colorado/reviews\" rel=\"noopener\" target=\"_blank\" title=\"State of Colorado Job Opportunities reviews\"><span aria-label=\"3.3 of stars rating\" class=\"ratingNumber\" role=\"img\"><span aria-hidden=\"true\">3.3</span><svg aria-hidden=\"true\" class=\"starIcon\" fill=\"none\" height=\"12\" role=\"presentation\" viewbox=\"0 0 16 16\" width=\"12\" xmlns=\"http://www.w3.org/2000/svg\"><path d=\"M8 12.8709L12.4542 15.5593C12.7807 15.7563 13.1835 15.4636 13.0968 15.0922L11.9148 10.0254L15.8505 6.61581C16.1388 6.36608 15.9847 5.89257 15.6047 5.86033L10.423 5.42072L8.39696 0.640342C8.24839 0.289808 7.7516 0.289808 7.60303 0.640341L5.57696 5.42072L0.395297 5.86033C0.015274 5.89257 -0.13882 6.36608 0.149443 6.61581L4.0852 10.0254L2.90318 15.0922C2.81653 15.4636 3.21932 15.7563 3.54584 15.5593L8 12.8709Z\" fill=\"#767676\"></path></svg></span></a></span><div class=\"companyLocation\">Remote in Colorado<span class=\"more_loc_container\"><a aria-label=\"Same Immunization Data &amp; Equity Analyst (REMOTE WORK OPTION IN-ST... job in 1 other location\" class=\"more_loc\" href=\"/addlLoc/redirect?tk=1g2vm2jg22eon000&amp;jk=2e5477ca5fd05676&amp;dest=%2Fjobs%3Fq%3DRemote%2BData%2BAnalyst%26grpKey%3D8gcGdG5mdGNsuA%252BLhg%252BqEBsKCW5vcm10aXRsZRoOZXF1aXR5IGFuYWx5c3Q%253D\" rel=\"nofollow\">+1 location</a></span></div></div><div class=\"heading6 tapItem-gutter metadataContainer noJEMChips salaryOnly\"><div class=\"metadata salary-snippet-container\"><div class=\"attribute_snippet\"><svg aria-hidden=\"true\" aria-label=\"Salary\" fill=\"none\" role=\"presentation\" viewbox=\"0 0 16 13\" xmlns=\"http://www.w3.org/2000/svg\"><defs></defs><path clip-rule=\"evenodd\" d=\"M2.45168 6.10292c-.30177-.125-.62509-.18964-.95168-.1903V4.08678c.32693-.00053.6506-.06518.95267-.1903.30331-.12564.57891-.30979.81105-.54193.23215-.23215.4163-.50775.54194-.81106.12524-.30237.18989-.62638.19029-.95365H9.0902c0 .3283.06466.65339.1903.9567.12564.30331.30978.57891.54193.81106.23217.23215.50777.41629.81107.54193.3032.12558.6281.19024.9562.1903v1.83556c-.3242.00155-.6451.06616-.9448.19028-.3033.12563-.5789.30978-.81102.54193-.23215.23214-.4163.50774-.54193.81106-.12332.2977-.18789.61638-.19024.93849H3.99496c-.00071-.32645-.06535-.64961-.19029-.95124-.12564-.30332-.30979-.57891-.54193-.81106-.23215-.23215-.50775-.4163-.81106-.54193zM0 .589843C0 .313701.223858.0898438.5.0898438h12.0897c.2762 0 .5.2238572.5.5000002V9.40715c0 .27614-.2238.5-.5.5H.5c-.276143 0-.5-.22386-.5-.5V.589843zM6.54427 6.99849c1.10457 0 2-.89543 2-2s-.89543-2-2-2-2 .89543-2 2 .89543 2 2 2zm8.05523-2.69917v7.10958H2.75977c-.27615 0-.5.2238-.5.5v.5c0 .2761.22385.5.5.5H15.422c.4419 0 .6775-.2211.6775-.6629V4.29932c0-.27615-.2239-.5-.5-.5h-.5c-.2761 0-.5.22385-.5.5z\" fill=\"#595959\" fill-rule=\"evenodd\"></path></svg>$58,056 - $71,520 a year</div></div><div class=\"metadata\"><div class=\"attribute_snippet\"><svg aria-hidden=\"true\" aria-label=\"Job type\" fill=\"none\" height=\"13\" role=\"presentation\" viewbox=\"0 0 14 13\" width=\"14\" xmlns=\"http://www.w3.org/2000/svg\"><path clip-rule=\"evenodd\" d=\"M4.50226.5c-.27614 0-.5.223858-.5.5v2.1H.5c-.276142 0-.5.22386-.5.5v1.9h14V3.6c0-.27614-.2239-.5-.5-.5h-3.4977V1c0-.276142-.22389-.5-.50004-.5h-5Zm4.19962 2.6H5.30344V1.8h3.39844v1.3Z\" fill=\"#595959\" fill-rule=\"evenodd\"></path><path d=\"M5.70117 6.80005H0v5.20005c0 .2761.223857.5.5.5h13c.2761 0 .5-.2239.5-.5V6.80005H8.30117v.80322c0 .27614-.22386.5-.5.5h-1.6c-.27614 0-.5-.22386-.5-.5v-.80322Z\" fill=\"#595959\"></path></svg>Full-time</div></div></div><div class=\"heading6 error-text tapItem-gutter\"></div></td>,\n",
              " <td class=\"resultContent\"><div class=\"heading4 color-text-primary singleLineTitle tapItem-gutter\"><h2 class=\"jobTitle\"><a aria-label=\"full details of Data Access Request Analyst\" class=\"jcs-JobTitle\" data-hide-spinner=\"true\" data-hiring-event=\"false\" data-jk=\"d1e0a9901381de01\" data-mobtk=\"1g2vm2jg22eon000\" href=\"/company/Morae-Global/jobs/Data-Access-Request-Analyst-d1e0a9901381de01?fccid=e452a6269839977c&amp;vjs=3\" id=\"job_d1e0a9901381de01\" role=\"button\" target=\"_blank\"><span title=\"Data Access Request Analyst\">Data Access Request Analyst</span></a></h2></div><div class=\"heading6 company_location tapItem-gutter companyInfo\"><span class=\"companyName\"><a class=\"turnstileLink companyOverviewLink\" data-tn-element=\"companyName\" href=\"/cmp/Morae-Global\" rel=\"noopener\" target=\"_blank\">Morae Global</a></span><span class=\"ratingsDisplay withRatingLink\"><a aria-label=\"Company rating 2.9 out of 5 stars\" class=\"ratingLink\" data-tn-variant=\"cmplinktst2\" href=\"/cmp/Morae-Global/reviews\" rel=\"noopener\" target=\"_blank\" title=\"Morae Global reviews\"><span aria-label=\"2.9 of stars rating\" class=\"ratingNumber\" role=\"img\"><span aria-hidden=\"true\">2.9</span><svg aria-hidden=\"true\" class=\"starIcon\" fill=\"none\" height=\"12\" role=\"presentation\" viewbox=\"0 0 16 16\" width=\"12\" xmlns=\"http://www.w3.org/2000/svg\"><path d=\"M8 12.8709L12.4542 15.5593C12.7807 15.7563 13.1835 15.4636 13.0968 15.0922L11.9148 10.0254L15.8505 6.61581C16.1388 6.36608 15.9847 5.89257 15.6047 5.86033L10.423 5.42072L8.39696 0.640342C8.24839 0.289808 7.7516 0.289808 7.60303 0.640341L5.57696 5.42072L0.395297 5.86033C0.015274 5.89257 -0.13882 6.36608 0.149443 6.61581L4.0852 10.0254L2.90318 15.0922C2.81653 15.4636 3.21932 15.7563 3.54584 15.5593L8 12.8709Z\" fill=\"#767676\"></path></svg></span></a></span><div class=\"companyLocation\"><span>Remote</span></div></div><div class=\"heading6 tapItem-gutter metadataContainer noJEMChips salaryOnly\"><div class=\"metadata salary-snippet-container\"><div class=\"attribute_snippet\"><svg aria-hidden=\"true\" aria-label=\"Salary\" fill=\"none\" role=\"presentation\" viewbox=\"0 0 16 13\" xmlns=\"http://www.w3.org/2000/svg\"><defs></defs><path clip-rule=\"evenodd\" d=\"M2.45168 6.10292c-.30177-.125-.62509-.18964-.95168-.1903V4.08678c.32693-.00053.6506-.06518.95267-.1903.30331-.12564.57891-.30979.81105-.54193.23215-.23215.4163-.50775.54194-.81106.12524-.30237.18989-.62638.19029-.95365H9.0902c0 .3283.06466.65339.1903.9567.12564.30331.30978.57891.54193.81106.23217.23215.50777.41629.81107.54193.3032.12558.6281.19024.9562.1903v1.83556c-.3242.00155-.6451.06616-.9448.19028-.3033.12563-.5789.30978-.81102.54193-.23215.23214-.4163.50774-.54193.81106-.12332.2977-.18789.61638-.19024.93849H3.99496c-.00071-.32645-.06535-.64961-.19029-.95124-.12564-.30332-.30979-.57891-.54193-.81106-.23215-.23215-.50775-.4163-.81106-.54193zM0 .589843C0 .313701.223858.0898438.5.0898438h12.0897c.2762 0 .5.2238572.5.5000002V9.40715c0 .27614-.2238.5-.5.5H.5c-.276143 0-.5-.22386-.5-.5V.589843zM6.54427 6.99849c1.10457 0 2-.89543 2-2s-.89543-2-2-2-2 .89543-2 2 .89543 2 2 2zm8.05523-2.69917v7.10958H2.75977c-.27615 0-.5.2238-.5.5v.5c0 .2761.22385.5.5.5H15.422c.4419 0 .6775-.2211.6775-.6629V4.29932c0-.27615-.2239-.5-.5-.5h-.5c-.2761 0-.5.22385-.5.5z\" fill=\"#595959\" fill-rule=\"evenodd\"></path></svg>$35 - $65 an hour</div></div><div class=\"metadata\"><div class=\"attribute_snippet\"><svg aria-hidden=\"true\" aria-label=\"Job type\" fill=\"none\" height=\"13\" role=\"presentation\" viewbox=\"0 0 14 13\" width=\"14\" xmlns=\"http://www.w3.org/2000/svg\"><path clip-rule=\"evenodd\" d=\"M4.50226.5c-.27614 0-.5.223858-.5.5v2.1H.5c-.276142 0-.5.22386-.5.5v1.9h14V3.6c0-.27614-.2239-.5-.5-.5h-3.4977V1c0-.276142-.22389-.5-.50004-.5h-5Zm4.19962 2.6H5.30344V1.8h3.39844v1.3Z\" fill=\"#595959\" fill-rule=\"evenodd\"></path><path d=\"M5.70117 6.80005H0v5.20005c0 .2761.223857.5.5.5h13c.2761 0 .5-.2239.5-.5V6.80005H8.30117v.80322c0 .27614-.22386.5-.5.5h-1.6c-.27614 0-.5-.22386-.5-.5v-.80322Z\" fill=\"#595959\"></path></svg>Full-time<span class=\"more-items\"> +<!-- -->1</span></div></div></div><div class=\"heading6 error-text tapItem-gutter\"></div></td>,\n",
              " <td class=\"resultContent\"><div class=\"heading4 color-text-primary singleLineTitle tapItem-gutter\"><h2 class=\"jobTitle jobTitle-newJob\"><div class=\"new topLeft holisticNewBlue desktop\"><span class=\"label\">new</span></div><a aria-label=\"full details of Data and Reporting Analyst (Remote)\" class=\"jcs-JobTitle\" data-hide-spinner=\"true\" data-hiring-event=\"false\" data-jk=\"2b788a513ef84078\" data-mobtk=\"1g2vm2jg22eon000\" href=\"/rc/clk?jk=2b788a513ef84078&amp;fccid=60e96bab83ded6e7&amp;vjs=3\" id=\"job_2b788a513ef84078\" role=\"button\" target=\"_blank\"><span title=\"Data and Reporting Analyst (Remote)\">Data and Reporting Analyst (Remote)</span></a></h2></div><div class=\"heading6 company_location tapItem-gutter companyInfo\"><span class=\"companyName\"><a class=\"turnstileLink companyOverviewLink\" data-tn-element=\"companyName\" href=\"/cmp/Windstream\" rel=\"noopener\" target=\"_blank\">Windstream Communications</a></span><span class=\"ratingsDisplay withRatingLink\"><a aria-label=\"Company rating 3.2 out of 5 stars\" class=\"ratingLink\" data-tn-variant=\"cmplinktst2\" href=\"/cmp/Windstream/reviews\" rel=\"noopener\" target=\"_blank\" title=\"Windstream Communications reviews\"><span aria-label=\"3.2 of stars rating\" class=\"ratingNumber\" role=\"img\"><span aria-hidden=\"true\">3.2</span><svg aria-hidden=\"true\" class=\"starIcon\" fill=\"none\" height=\"12\" role=\"presentation\" viewbox=\"0 0 16 16\" width=\"12\" xmlns=\"http://www.w3.org/2000/svg\"><path d=\"M8 12.8709L12.4542 15.5593C12.7807 15.7563 13.1835 15.4636 13.0968 15.0922L11.9148 10.0254L15.8505 6.61581C16.1388 6.36608 15.9847 5.89257 15.6047 5.86033L10.423 5.42072L8.39696 0.640342C8.24839 0.289808 7.7516 0.289808 7.60303 0.640341L5.57696 5.42072L0.395297 5.86033C0.015274 5.89257 -0.13882 6.36608 0.149443 6.61581L4.0852 10.0254L2.90318 15.0922C2.81653 15.4636 3.21932 15.7563 3.54584 15.5593L8 12.8709Z\" fill=\"#767676\"></path></svg></span></a></span><div class=\"companyLocation\"><span class=\"more_loc_container\"><a aria-label=\"Same Data and Reporting Analyst (Remote) job in 1 other location\" class=\"more_loc\" href=\"/addlLoc/redirect?tk=1g2vm2jg22eon000&amp;jk=2b788a513ef84078&amp;dest=%2Fjobs%3Fq%3DRemote%2BData%2BAnalyst%26grpKey%3D8gcGdG5mdGNsuA%252BXlgiqEB4KCW5vcm10aXRsZRoRcmVwb3J0aW5nIGFuYWx5c3Q%253D\" rel=\"nofollow\">+1 location</a></span><span>Remote</span></div></div><div class=\"heading6 tapItem-gutter metadataContainer noJEMChips salaryOnly\"><div class=\"metadata\"><div class=\"attribute_snippet\"><svg aria-hidden=\"true\" aria-label=\"Job type\" fill=\"none\" height=\"13\" role=\"presentation\" viewbox=\"0 0 14 13\" width=\"14\" xmlns=\"http://www.w3.org/2000/svg\"><path clip-rule=\"evenodd\" d=\"M4.50226.5c-.27614 0-.5.223858-.5.5v2.1H.5c-.276142 0-.5.22386-.5.5v1.9h14V3.6c0-.27614-.2239-.5-.5-.5h-3.4977V1c0-.276142-.22389-.5-.50004-.5h-5Zm4.19962 2.6H5.30344V1.8h3.39844v1.3Z\" fill=\"#595959\" fill-rule=\"evenodd\"></path><path d=\"M5.70117 6.80005H0v5.20005c0 .2761.223857.5.5.5h13c.2761 0 .5-.2239.5-.5V6.80005H8.30117v.80322c0 .27614-.22386.5-.5.5h-1.6c-.27614 0-.5-.22386-.5-.5v-.80322Z\" fill=\"#595959\"></path></svg>Full-time</div></div></div><div class=\"heading6 error-text tapItem-gutter\"></div></td>,\n",
              " <td class=\"resultContent\"><div class=\"heading4 color-text-primary singleLineTitle tapItem-gutter\"><h2 class=\"jobTitle\"><a aria-label=\"full details of WFM Real-Time Analyst, Ring Workforce Management\" class=\"jcs-JobTitle\" data-hide-spinner=\"true\" data-hiring-event=\"false\" data-jk=\"b587ef25965371bb\" data-mobtk=\"1g2vm2jg22eon000\" href=\"/rc/clk?jk=b587ef25965371bb&amp;fccid=fe2d21eef233e94a&amp;vjs=3\" id=\"job_b587ef25965371bb\" role=\"button\" target=\"_blank\"><span title=\"WFM Real-Time Analyst, Ring Workforce Management\">WFM Real-Time Analyst, Ring Workforce Management</span></a></h2></div><div class=\"heading6 company_location tapItem-gutter companyInfo\"><span class=\"companyName\"><a class=\"turnstileLink companyOverviewLink\" data-tn-element=\"companyName\" href=\"/cmp/Amazon.com\" rel=\"noopener\" target=\"_blank\">Amazon.com Services LLC</a></span><span class=\"ratingsDisplay withRatingLink\"><a aria-label=\"Company rating 3.5 out of 5 stars\" class=\"ratingLink\" data-tn-variant=\"cmplinktst2\" href=\"/cmp/Amazon.com/reviews\" rel=\"noopener\" target=\"_blank\" title=\"Amazon.com Services LLC reviews\"><span aria-label=\"3.5 of stars rating\" class=\"ratingNumber\" role=\"img\"><span aria-hidden=\"true\">3.5</span><svg aria-hidden=\"true\" class=\"starIcon\" fill=\"none\" height=\"12\" role=\"presentation\" viewbox=\"0 0 16 16\" width=\"12\" xmlns=\"http://www.w3.org/2000/svg\"><path d=\"M8 12.8709L12.4542 15.5593C12.7807 15.7563 13.1835 15.4636 13.0968 15.0922L11.9148 10.0254L15.8505 6.61581C16.1388 6.36608 15.9847 5.89257 15.6047 5.86033L10.423 5.42072L8.39696 0.640342C8.24839 0.289808 7.7516 0.289808 7.60303 0.640341L5.57696 5.42072L0.395297 5.86033C0.015274 5.89257 -0.13882 6.36608 0.149443 6.61581L4.0852 10.0254L2.90318 15.0922C2.81653 15.4636 3.21932 15.7563 3.54584 15.5593L8 12.8709Z\" fill=\"#767676\"></path></svg></span></a></span><div class=\"companyLocation\"><span>Remote</span></div></div><div class=\"heading6 tapItem-gutter metadataContainer noJEMChips salaryOnly\"><div class=\"metadata salary-snippet-container\"><div class=\"attribute_snippet\"><svg aria-hidden=\"true\" aria-label=\"Salary\" fill=\"none\" role=\"presentation\" viewbox=\"0 0 16 13\" xmlns=\"http://www.w3.org/2000/svg\"><defs></defs><path clip-rule=\"evenodd\" d=\"M2.45168 6.10292c-.30177-.125-.62509-.18964-.95168-.1903V4.08678c.32693-.00053.6506-.06518.95267-.1903.30331-.12564.57891-.30979.81105-.54193.23215-.23215.4163-.50775.54194-.81106.12524-.30237.18989-.62638.19029-.95365H9.0902c0 .3283.06466.65339.1903.9567.12564.30331.30978.57891.54193.81106.23217.23215.50777.41629.81107.54193.3032.12558.6281.19024.9562.1903v1.83556c-.3242.00155-.6451.06616-.9448.19028-.3033.12563-.5789.30978-.81102.54193-.23215.23214-.4163.50774-.54193.81106-.12332.2977-.18789.61638-.19024.93849H3.99496c-.00071-.32645-.06535-.64961-.19029-.95124-.12564-.30332-.30979-.57891-.54193-.81106-.23215-.23215-.50775-.4163-.81106-.54193zM0 .589843C0 .313701.223858.0898438.5.0898438h12.0897c.2762 0 .5.2238572.5.5000002V9.40715c0 .27614-.2238.5-.5.5H.5c-.276143 0-.5-.22386-.5-.5V.589843zM6.54427 6.99849c1.10457 0 2-.89543 2-2s-.89543-2-2-2-2 .89543-2 2 .89543 2 2 2zm8.05523-2.69917v7.10958H2.75977c-.27615 0-.5.2238-.5.5v.5c0 .2761.22385.5.5.5H15.422c.4419 0 .6775-.2211.6775-.6629V4.29932c0-.27615-.2239-.5-.5-.5h-.5c-.2761 0-.5.22385-.5.5z\" fill=\"#595959\" fill-rule=\"evenodd\"></path></svg>$42,000 - $54,000 a year</div></div><div class=\"metadata\"><div class=\"attribute_snippet\"><svg aria-hidden=\"true\" aria-label=\"Job type\" fill=\"none\" height=\"13\" role=\"presentation\" viewbox=\"0 0 14 13\" width=\"14\" xmlns=\"http://www.w3.org/2000/svg\"><path clip-rule=\"evenodd\" d=\"M4.50226.5c-.27614 0-.5.223858-.5.5v2.1H.5c-.276142 0-.5.22386-.5.5v1.9h14V3.6c0-.27614-.2239-.5-.5-.5h-3.4977V1c0-.276142-.22389-.5-.50004-.5h-5Zm4.19962 2.6H5.30344V1.8h3.39844v1.3Z\" fill=\"#595959\" fill-rule=\"evenodd\"></path><path d=\"M5.70117 6.80005H0v5.20005c0 .2761.223857.5.5.5h13c.2761 0 .5-.2239.5-.5V6.80005H8.30117v.80322c0 .27614-.22386.5-.5.5h-1.6c-.27614 0-.5-.22386-.5-.5v-.80322Z\" fill=\"#595959\"></path></svg>Full-time</div></div></div><div class=\"heading6 error-text tapItem-gutter\"></div></td>,\n",
              " <td class=\"resultContent\"><div class=\"heading4 color-text-primary singleLineTitle tapItem-gutter\"><h2 class=\"jobTitle jobTitle-newJob\"><div class=\"new topLeft holisticNewBlue desktop\"><span class=\"label\">new</span></div><a aria-label=\"full details of Data Analyst\" class=\"jcs-JobTitle\" data-hide-spinner=\"true\" data-hiring-event=\"false\" data-jk=\"11d3f49136c1ea41\" data-mobtk=\"1g2vm2jg22eon000\" href=\"/company/ACA-Track/jobs/Data-Analyst-11d3f49136c1ea41?fccid=3597d4cebb5d2fbf&amp;vjs=3\" id=\"job_11d3f49136c1ea41\" role=\"button\" target=\"_blank\"><span title=\"Data Analyst\">Data Analyst</span></a></h2></div><div class=\"heading6 company_location tapItem-gutter companyInfo\"><span class=\"companyName\">ACA Track</span><div class=\"companyLocation\"><span>Remote</span></div></div><div class=\"heading6 tapItem-gutter metadataContainer noJEMChips salaryOnly\"><div class=\"metadata salary-snippet-container\"><div class=\"attribute_snippet\"><svg aria-hidden=\"true\" aria-label=\"Salary\" fill=\"none\" role=\"presentation\" viewbox=\"0 0 16 13\" xmlns=\"http://www.w3.org/2000/svg\"><defs></defs><path clip-rule=\"evenodd\" d=\"M2.45168 6.10292c-.30177-.125-.62509-.18964-.95168-.1903V4.08678c.32693-.00053.6506-.06518.95267-.1903.30331-.12564.57891-.30979.81105-.54193.23215-.23215.4163-.50775.54194-.81106.12524-.30237.18989-.62638.19029-.95365H9.0902c0 .3283.06466.65339.1903.9567.12564.30331.30978.57891.54193.81106.23217.23215.50777.41629.81107.54193.3032.12558.6281.19024.9562.1903v1.83556c-.3242.00155-.6451.06616-.9448.19028-.3033.12563-.5789.30978-.81102.54193-.23215.23214-.4163.50774-.54193.81106-.12332.2977-.18789.61638-.19024.93849H3.99496c-.00071-.32645-.06535-.64961-.19029-.95124-.12564-.30332-.30979-.57891-.54193-.81106-.23215-.23215-.50775-.4163-.81106-.54193zM0 .589843C0 .313701.223858.0898438.5.0898438h12.0897c.2762 0 .5.2238572.5.5000002V9.40715c0 .27614-.2238.5-.5.5H.5c-.276143 0-.5-.22386-.5-.5V.589843zM6.54427 6.99849c1.10457 0 2-.89543 2-2s-.89543-2-2-2-2 .89543-2 2 .89543 2 2 2zm8.05523-2.69917v7.10958H2.75977c-.27615 0-.5.2238-.5.5v.5c0 .2761.22385.5.5.5H15.422c.4419 0 .6775-.2211.6775-.6629V4.29932c0-.27615-.2239-.5-.5-.5h-.5c-.2761 0-.5.22385-.5.5z\" fill=\"#595959\" fill-rule=\"evenodd\"></path></svg>From $28 an hour</div></div><div class=\"metadata\"><div class=\"attribute_snippet\"><svg aria-hidden=\"true\" aria-label=\"Job type\" fill=\"none\" height=\"13\" role=\"presentation\" viewbox=\"0 0 14 13\" width=\"14\" xmlns=\"http://www.w3.org/2000/svg\"><path clip-rule=\"evenodd\" d=\"M4.50226.5c-.27614 0-.5.223858-.5.5v2.1H.5c-.276142 0-.5.22386-.5.5v1.9h14V3.6c0-.27614-.2239-.5-.5-.5h-3.4977V1c0-.276142-.22389-.5-.50004-.5h-5Zm4.19962 2.6H5.30344V1.8h3.39844v1.3Z\" fill=\"#595959\" fill-rule=\"evenodd\"></path><path d=\"M5.70117 6.80005H0v5.20005c0 .2761.223857.5.5.5h13c.2761 0 .5-.2239.5-.5V6.80005H8.30117v.80322c0 .27614-.22386.5-.5.5h-1.6c-.27614 0-.5-.22386-.5-.5v-.80322Z\" fill=\"#595959\"></path></svg>Part-time</div></div></div><div class=\"heading6 error-text tapItem-gutter\"></div></td>,\n",
              " <td class=\"resultContent\"><div class=\"heading4 color-text-primary singleLineTitle tapItem-gutter\"><h2 class=\"jobTitle\"><a aria-label=\"full details of Data Analyst: Technical Business Intelligence\" class=\"jcs-JobTitle\" data-hide-spinner=\"true\" data-hiring-event=\"false\" data-jk=\"1b69b56cac09ab1d\" data-mobtk=\"1g2vm2jg22eon000\" href=\"/rc/clk?jk=1b69b56cac09ab1d&amp;fccid=fd328fb1f491e9c4&amp;vjs=3\" id=\"job_1b69b56cac09ab1d\" role=\"button\" target=\"_blank\"><span title=\"Data Analyst: Technical Business Intelligence\">Data Analyst: Technical Business Intelligence</span></a></h2></div><div class=\"heading6 company_location tapItem-gutter companyInfo\"><span class=\"companyName\"><a class=\"turnstileLink companyOverviewLink\" data-tn-element=\"companyName\" href=\"/cmp/Barstool-Sports\" rel=\"noopener\" target=\"_blank\">Barstool Sports</a></span><span class=\"ratingsDisplay withRatingLink\"><a aria-label=\"Company rating 4.6 out of 5 stars\" class=\"ratingLink\" data-tn-variant=\"cmplinktst2\" href=\"/cmp/Barstool-Sports/reviews\" rel=\"noopener\" target=\"_blank\" title=\"Barstool Sports reviews\"><span aria-label=\"4.6 of stars rating\" class=\"ratingNumber\" role=\"img\"><span aria-hidden=\"true\">4.6</span><svg aria-hidden=\"true\" class=\"starIcon\" fill=\"none\" height=\"12\" role=\"presentation\" viewbox=\"0 0 16 16\" width=\"12\" xmlns=\"http://www.w3.org/2000/svg\"><path d=\"M8 12.8709L12.4542 15.5593C12.7807 15.7563 13.1835 15.4636 13.0968 15.0922L11.9148 10.0254L15.8505 6.61581C16.1388 6.36608 15.9847 5.89257 15.6047 5.86033L10.423 5.42072L8.39696 0.640342C8.24839 0.289808 7.7516 0.289808 7.60303 0.640341L5.57696 5.42072L0.395297 5.86033C0.015274 5.89257 -0.13882 6.36608 0.149443 6.61581L4.0852 10.0254L2.90318 15.0922C2.81653 15.4636 3.21932 15.7563 3.54584 15.5593L8 12.8709Z\" fill=\"#767676\"></path></svg></span></a></span><div class=\"companyLocation\">Remote in United States</div></div><div class=\"heading6 tapItem-gutter metadataContainer noJEMChips salaryOnly\"><div class=\"metadata estimated-salary-container\"><span class=\"estimated-salary\"><svg aria-hidden=\"true\" aria-label=\"Estimated $69K to $87.4K a year\" fill=\"none\" role=\"presentation\" viewbox=\"0 0 16 13\" xmlns=\"http://www.w3.org/2000/svg\"><defs></defs><path clip-rule=\"evenodd\" d=\"M2.45168 6.10292c-.30177-.125-.62509-.18964-.95168-.1903V4.08678c.32693-.00053.6506-.06518.95267-.1903.30331-.12564.57891-.30979.81105-.54193.23215-.23215.4163-.50775.54194-.81106.12524-.30237.18989-.62638.19029-.95365H9.0902c0 .3283.06466.65339.1903.9567.12564.30331.30978.57891.54193.81106.23217.23215.50777.41629.81107.54193.3032.12558.6281.19024.9562.1903v1.83556c-.3242.00155-.6451.06616-.9448.19028-.3033.12563-.5789.30978-.81102.54193-.23215.23214-.4163.50774-.54193.81106-.12332.2977-.18789.61638-.19024.93849H3.99496c-.00071-.32645-.06535-.64961-.19029-.95124-.12564-.30332-.30979-.57891-.54193-.81106-.23215-.23215-.50775-.4163-.81106-.54193zM0 .589843C0 .313701.223858.0898438.5.0898438h12.0897c.2762 0 .5.2238572.5.5000002V9.40715c0 .27614-.2238.5-.5.5H.5c-.276143 0-.5-.22386-.5-.5V.589843zM6.54427 6.99849c1.10457 0 2-.89543 2-2s-.89543-2-2-2-2 .89543-2 2 .89543 2 2 2zm8.05523-2.69917v7.10958H2.75977c-.27615 0-.5.2238-.5.5v.5c0 .2761.22385.5.5.5H15.422c.4419 0 .6775-.2211.6775-.6629V4.29932c0-.27615-.2239-.5-.5-.5h-.5c-.2761 0-.5.22385-.5.5z\" fill=\"#595959\" fill-rule=\"evenodd\"></path></svg><span>Estimated $69K - $87.4K a year</span><button aria-haspopup=\"true\" aria-label=\"About Indeed's estimated salaries\" class=\"estimated-salary-legal-disclaimer-button\" type=\"button\"><img alt=\"\" aria-hidden=\"true\" class=\"estimated-salary-legal-disclaimer-icon\" src=\"https://c03.s3.indeed.com/mosaic-provider-jobcards/dist/images/src/components/JobMetaData/EstimatedSalary/QuestionCircle-901519.svg\"/></button></span></div><div class=\"metadata\"><div class=\"attribute_snippet\"><svg aria-hidden=\"true\" aria-label=\"Job type\" fill=\"none\" height=\"13\" role=\"presentation\" viewbox=\"0 0 14 13\" width=\"14\" xmlns=\"http://www.w3.org/2000/svg\"><path clip-rule=\"evenodd\" d=\"M4.50226.5c-.27614 0-.5.223858-.5.5v2.1H.5c-.276142 0-.5.22386-.5.5v1.9h14V3.6c0-.27614-.2239-.5-.5-.5h-3.4977V1c0-.276142-.22389-.5-.50004-.5h-5Zm4.19962 2.6H5.30344V1.8h3.39844v1.3Z\" fill=\"#595959\" fill-rule=\"evenodd\"></path><path d=\"M5.70117 6.80005H0v5.20005c0 .2761.223857.5.5.5h13c.2761 0 .5-.2239.5-.5V6.80005H8.30117v.80322c0 .27614-.22386.5-.5.5h-1.6c-.27614 0-.5-.22386-.5-.5v-.80322Z\" fill=\"#595959\"></path></svg>Full-time</div></div></div><div class=\"heading6 error-text tapItem-gutter\"></div></td>,\n",
              " <td class=\"resultContent\"><div class=\"heading4 color-text-primary singleLineTitle tapItem-gutter\"><h2 class=\"jobTitle\"><a aria-label=\"full details of Health Data Analyst I\" class=\"jcs-JobTitle\" data-hide-spinner=\"true\" data-hiring-event=\"false\" data-jk=\"35e7a6a5d585918c\" data-mobtk=\"1g2vm2jg22eon000\" href=\"/rc/clk?jk=35e7a6a5d585918c&amp;fccid=74abd1ef04b48ae9&amp;vjs=3\" id=\"job_35e7a6a5d585918c\" role=\"button\" target=\"_blank\"><span title=\"Health Data Analyst I\">Health Data Analyst I</span></a></h2></div><div class=\"heading6 company_location tapItem-gutter companyInfo\"><span class=\"companyName\"><a class=\"turnstileLink companyOverviewLink\" data-tn-element=\"companyName\" href=\"/cmp/Blue-Cross-Blue-Shield-of-Nebraska\" rel=\"noopener\" target=\"_blank\">Blue Cross and Blue Shield of Nebraska (BCBSNE)</a></span><span class=\"ratingsDisplay withRatingLink\"><a aria-label=\"Company rating 4 out of 5 stars\" class=\"ratingLink\" data-tn-variant=\"cmplinktst2\" href=\"/cmp/Blue-Cross-Blue-Shield-of-Nebraska/reviews\" rel=\"noopener\" target=\"_blank\" title=\"Blue Cross and Blue Shield of Nebraska (BCBSNE) reviews\"><span aria-label=\"4.0 of stars rating\" class=\"ratingNumber\" role=\"img\"><span aria-hidden=\"true\">4.0</span><svg aria-hidden=\"true\" class=\"starIcon\" fill=\"none\" height=\"12\" role=\"presentation\" viewbox=\"0 0 16 16\" width=\"12\" xmlns=\"http://www.w3.org/2000/svg\"><path d=\"M8 12.8709L12.4542 15.5593C12.7807 15.7563 13.1835 15.4636 13.0968 15.0922L11.9148 10.0254L15.8505 6.61581C16.1388 6.36608 15.9847 5.89257 15.6047 5.86033L10.423 5.42072L8.39696 0.640342C8.24839 0.289808 7.7516 0.289808 7.60303 0.640341L5.57696 5.42072L0.395297 5.86033C0.015274 5.89257 -0.13882 6.36608 0.149443 6.61581L4.0852 10.0254L2.90318 15.0922C2.81653 15.4636 3.21932 15.7563 3.54584 15.5593L8 12.8709Z\" fill=\"#767676\"></path></svg></span></a></span><div class=\"companyLocation\">Remote in Omaha, NE</div></div><div class=\"heading6 error-text tapItem-gutter\"></div></td>,\n",
              " <td class=\"resultContent\"><div class=\"heading4 color-text-primary singleLineTitle tapItem-gutter\"><h2 class=\"jobTitle\"><a aria-label=\"full details of Business Analyst\" class=\"jcs-JobTitle\" data-hide-spinner=\"true\" data-hiring-event=\"false\" data-jk=\"a2742d4e0658e7e4\" data-mobtk=\"1g2vm2jg22eon000\" href=\"/rc/clk?jk=a2742d4e0658e7e4&amp;fccid=a26faf536784c919&amp;vjs=3\" id=\"job_a2742d4e0658e7e4\" role=\"button\" target=\"_blank\"><span title=\"Business Analyst\">Business Analyst</span></a></h2></div><div class=\"heading6 company_location tapItem-gutter companyInfo\"><span class=\"companyName\">Colsh Tech</span><div class=\"companyLocation\">Remote in United States</div></div><div class=\"heading6 tapItem-gutter metadataContainer noJEMChips salaryOnly\"><div class=\"metadata salary-snippet-container\"><div class=\"attribute_snippet\"><svg aria-hidden=\"true\" aria-label=\"Salary\" fill=\"none\" role=\"presentation\" viewbox=\"0 0 16 13\" xmlns=\"http://www.w3.org/2000/svg\"><defs></defs><path clip-rule=\"evenodd\" d=\"M2.45168 6.10292c-.30177-.125-.62509-.18964-.95168-.1903V4.08678c.32693-.00053.6506-.06518.95267-.1903.30331-.12564.57891-.30979.81105-.54193.23215-.23215.4163-.50775.54194-.81106.12524-.30237.18989-.62638.19029-.95365H9.0902c0 .3283.06466.65339.1903.9567.12564.30331.30978.57891.54193.81106.23217.23215.50777.41629.81107.54193.3032.12558.6281.19024.9562.1903v1.83556c-.3242.00155-.6451.06616-.9448.19028-.3033.12563-.5789.30978-.81102.54193-.23215.23214-.4163.50774-.54193.81106-.12332.2977-.18789.61638-.19024.93849H3.99496c-.00071-.32645-.06535-.64961-.19029-.95124-.12564-.30332-.30979-.57891-.54193-.81106-.23215-.23215-.50775-.4163-.81106-.54193zM0 .589843C0 .313701.223858.0898438.5.0898438h12.0897c.2762 0 .5.2238572.5.5000002V9.40715c0 .27614-.2238.5-.5.5H.5c-.276143 0-.5-.22386-.5-.5V.589843zM6.54427 6.99849c1.10457 0 2-.89543 2-2s-.89543-2-2-2-2 .89543-2 2 .89543 2 2 2zm8.05523-2.69917v7.10958H2.75977c-.27615 0-.5.2238-.5.5v.5c0 .2761.22385.5.5.5H15.422c.4419 0 .6775-.2211.6775-.6629V4.29932c0-.27615-.2239-.5-.5-.5h-.5c-.2761 0-.5.22385-.5.5z\" fill=\"#595959\" fill-rule=\"evenodd\"></path></svg>$65,000 - $80,000 a year</div></div><div class=\"metadata\"><div class=\"attribute_snippet\"><svg aria-hidden=\"true\" aria-label=\"Job type\" fill=\"none\" height=\"13\" role=\"presentation\" viewbox=\"0 0 14 13\" width=\"14\" xmlns=\"http://www.w3.org/2000/svg\"><path clip-rule=\"evenodd\" d=\"M4.50226.5c-.27614 0-.5.223858-.5.5v2.1H.5c-.276142 0-.5.22386-.5.5v1.9h14V3.6c0-.27614-.2239-.5-.5-.5h-3.4977V1c0-.276142-.22389-.5-.50004-.5h-5Zm4.19962 2.6H5.30344V1.8h3.39844v1.3Z\" fill=\"#595959\" fill-rule=\"evenodd\"></path><path d=\"M5.70117 6.80005H0v5.20005c0 .2761.223857.5.5.5h13c.2761 0 .5-.2239.5-.5V6.80005H8.30117v.80322c0 .27614-.22386.5-.5.5h-1.6c-.27614 0-.5-.22386-.5-.5v-.80322Z\" fill=\"#595959\"></path></svg>Part-time<span class=\"more-items\"> +<!-- -->2</span></div></div></div><div class=\"heading6 error-text tapItem-gutter\"></div></td>,\n",
              " <td class=\"resultContent\"><div class=\"heading4 color-text-primary singleLineTitle tapItem-gutter\"><h2 class=\"jobTitle\"><a aria-label=\"full details of Data Analyst I\" class=\"jcs-JobTitle\" data-hide-spinner=\"true\" data-hiring-event=\"false\" data-jk=\"02f4d0ee92cb8cb8\" data-mobtk=\"1g2vm2jg22eon000\" href=\"/company/EasyPay-Finance/jobs/Data-Analyst-02f4d0ee92cb8cb8?fccid=3a3c5b86c8e3b76c&amp;vjs=3\" id=\"job_02f4d0ee92cb8cb8\" role=\"button\" target=\"_blank\"><span title=\"Data Analyst I\">Data Analyst I</span></a></h2></div><div class=\"heading6 company_location tapItem-gutter companyInfo\"><span class=\"companyName\">EasyPay Finance</span><div class=\"companyLocation\"><span>Remote</span></div></div><div class=\"heading6 tapItem-gutter metadataContainer noJEMChips salaryOnly\"><div class=\"metadata estimated-salary-container\"><span class=\"estimated-salary\"><svg aria-hidden=\"true\" aria-label=\"Estimated $59.8K to $75.8K a year\" fill=\"none\" role=\"presentation\" viewbox=\"0 0 16 13\" xmlns=\"http://www.w3.org/2000/svg\"><defs></defs><path clip-rule=\"evenodd\" d=\"M2.45168 6.10292c-.30177-.125-.62509-.18964-.95168-.1903V4.08678c.32693-.00053.6506-.06518.95267-.1903.30331-.12564.57891-.30979.81105-.54193.23215-.23215.4163-.50775.54194-.81106.12524-.30237.18989-.62638.19029-.95365H9.0902c0 .3283.06466.65339.1903.9567.12564.30331.30978.57891.54193.81106.23217.23215.50777.41629.81107.54193.3032.12558.6281.19024.9562.1903v1.83556c-.3242.00155-.6451.06616-.9448.19028-.3033.12563-.5789.30978-.81102.54193-.23215.23214-.4163.50774-.54193.81106-.12332.2977-.18789.61638-.19024.93849H3.99496c-.00071-.32645-.06535-.64961-.19029-.95124-.12564-.30332-.30979-.57891-.54193-.81106-.23215-.23215-.50775-.4163-.81106-.54193zM0 .589843C0 .313701.223858.0898438.5.0898438h12.0897c.2762 0 .5.2238572.5.5000002V9.40715c0 .27614-.2238.5-.5.5H.5c-.276143 0-.5-.22386-.5-.5V.589843zM6.54427 6.99849c1.10457 0 2-.89543 2-2s-.89543-2-2-2-2 .89543-2 2 .89543 2 2 2zm8.05523-2.69917v7.10958H2.75977c-.27615 0-.5.2238-.5.5v.5c0 .2761.22385.5.5.5H15.422c.4419 0 .6775-.2211.6775-.6629V4.29932c0-.27615-.2239-.5-.5-.5h-.5c-.2761 0-.5.22385-.5.5z\" fill=\"#595959\" fill-rule=\"evenodd\"></path></svg><span>Estimated $59.8K - $75.8K a year</span><button aria-haspopup=\"true\" aria-label=\"About Indeed's estimated salaries\" class=\"estimated-salary-legal-disclaimer-button\" type=\"button\"><img alt=\"\" aria-hidden=\"true\" class=\"estimated-salary-legal-disclaimer-icon\" src=\"https://c03.s3.indeed.com/mosaic-provider-jobcards/dist/images/src/components/JobMetaData/EstimatedSalary/QuestionCircle-901519.svg\"/></button></span></div><div class=\"metadata\"><div class=\"attribute_snippet\"><svg aria-hidden=\"true\" aria-label=\"Job type\" fill=\"none\" height=\"13\" role=\"presentation\" viewbox=\"0 0 14 13\" width=\"14\" xmlns=\"http://www.w3.org/2000/svg\"><path clip-rule=\"evenodd\" d=\"M4.50226.5c-.27614 0-.5.223858-.5.5v2.1H.5c-.276142 0-.5.22386-.5.5v1.9h14V3.6c0-.27614-.2239-.5-.5-.5h-3.4977V1c0-.276142-.22389-.5-.50004-.5h-5Zm4.19962 2.6H5.30344V1.8h3.39844v1.3Z\" fill=\"#595959\" fill-rule=\"evenodd\"></path><path d=\"M5.70117 6.80005H0v5.20005c0 .2761.223857.5.5.5h13c.2761 0 .5-.2239.5-.5V6.80005H8.30117v.80322c0 .27614-.22386.5-.5.5h-1.6c-.27614 0-.5-.22386-.5-.5v-.80322Z\" fill=\"#595959\"></path></svg>Full-time</div></div></div><div class=\"heading6 error-text tapItem-gutter\"></div></td>,\n",
              " <td class=\"resultContent\"><div class=\"heading4 color-text-primary singleLineTitle tapItem-gutter\"><h2 class=\"jobTitle\"><a aria-label=\"full details of Data Analyst\" class=\"jcs-JobTitle\" data-hide-spinner=\"true\" data-hiring-event=\"false\" data-jk=\"5a3b2ef252935842\" data-mobtk=\"1g2vm2jg22eon000\" href=\"/company/CDC-Foundation/jobs/Data-Analyst-5a3b2ef252935842?fccid=68cab215b8a0c7b8&amp;vjs=3\" id=\"job_5a3b2ef252935842\" role=\"button\" target=\"_blank\"><span title=\"Data Analyst\">Data Analyst</span></a></h2></div><div class=\"heading6 company_location tapItem-gutter companyInfo\"><span class=\"companyName\"><a class=\"turnstileLink companyOverviewLink\" data-tn-element=\"companyName\" href=\"/cmp/Cdc-Foundation\" rel=\"noopener\" target=\"_blank\">CDC Foundation</a></span><span class=\"ratingsDisplay withRatingLink\"><a aria-label=\"Company rating 4.1 out of 5 stars\" class=\"ratingLink\" data-tn-variant=\"cmplinktst2\" href=\"/cmp/Cdc-Foundation/reviews\" rel=\"noopener\" target=\"_blank\" title=\"CDC Foundation reviews\"><span aria-label=\"4.1 of stars rating\" class=\"ratingNumber\" role=\"img\"><span aria-hidden=\"true\">4.1</span><svg aria-hidden=\"true\" class=\"starIcon\" fill=\"none\" height=\"12\" role=\"presentation\" viewbox=\"0 0 16 16\" width=\"12\" xmlns=\"http://www.w3.org/2000/svg\"><path d=\"M8 12.8709L12.4542 15.5593C12.7807 15.7563 13.1835 15.4636 13.0968 15.0922L11.9148 10.0254L15.8505 6.61581C16.1388 6.36608 15.9847 5.89257 15.6047 5.86033L10.423 5.42072L8.39696 0.640342C8.24839 0.289808 7.7516 0.289808 7.60303 0.640341L5.57696 5.42072L0.395297 5.86033C0.015274 5.89257 -0.13882 6.36608 0.149443 6.61581L4.0852 10.0254L2.90318 15.0922C2.81653 15.4636 3.21932 15.7563 3.54584 15.5593L8 12.8709Z\" fill=\"#767676\"></path></svg></span></a></span><div class=\"companyLocation\"><span>Remote</span></div></div><div class=\"heading6 tapItem-gutter metadataContainer noJEMChips salaryOnly\"><div class=\"metadata salary-snippet-container\"><div class=\"attribute_snippet\"><svg aria-hidden=\"true\" aria-label=\"Salary\" fill=\"none\" role=\"presentation\" viewbox=\"0 0 16 13\" xmlns=\"http://www.w3.org/2000/svg\"><defs></defs><path clip-rule=\"evenodd\" d=\"M2.45168 6.10292c-.30177-.125-.62509-.18964-.95168-.1903V4.08678c.32693-.00053.6506-.06518.95267-.1903.30331-.12564.57891-.30979.81105-.54193.23215-.23215.4163-.50775.54194-.81106.12524-.30237.18989-.62638.19029-.95365H9.0902c0 .3283.06466.65339.1903.9567.12564.30331.30978.57891.54193.81106.23217.23215.50777.41629.81107.54193.3032.12558.6281.19024.9562.1903v1.83556c-.3242.00155-.6451.06616-.9448.19028-.3033.12563-.5789.30978-.81102.54193-.23215.23214-.4163.50774-.54193.81106-.12332.2977-.18789.61638-.19024.93849H3.99496c-.00071-.32645-.06535-.64961-.19029-.95124-.12564-.30332-.30979-.57891-.54193-.81106-.23215-.23215-.50775-.4163-.81106-.54193zM0 .589843C0 .313701.223858.0898438.5.0898438h12.0897c.2762 0 .5.2238572.5.5000002V9.40715c0 .27614-.2238.5-.5.5H.5c-.276143 0-.5-.22386-.5-.5V.589843zM6.54427 6.99849c1.10457 0 2-.89543 2-2s-.89543-2-2-2-2 .89543-2 2 .89543 2 2 2zm8.05523-2.69917v7.10958H2.75977c-.27615 0-.5.2238-.5.5v.5c0 .2761.22385.5.5.5H15.422c.4419 0 .6775-.2211.6775-.6629V4.29932c0-.27615-.2239-.5-.5-.5h-.5c-.2761 0-.5.22385-.5.5z\" fill=\"#595959\" fill-rule=\"evenodd\"></path></svg>$66,000 - $72,000 a year</div></div><div class=\"metadata\"><div class=\"attribute_snippet\"><svg aria-hidden=\"true\" aria-label=\"Job type\" fill=\"none\" height=\"13\" role=\"presentation\" viewbox=\"0 0 14 13\" width=\"14\" xmlns=\"http://www.w3.org/2000/svg\"><path clip-rule=\"evenodd\" d=\"M4.50226.5c-.27614 0-.5.223858-.5.5v2.1H.5c-.276142 0-.5.22386-.5.5v1.9h14V3.6c0-.27614-.2239-.5-.5-.5h-3.4977V1c0-.276142-.22389-.5-.50004-.5h-5Zm4.19962 2.6H5.30344V1.8h3.39844v1.3Z\" fill=\"#595959\" fill-rule=\"evenodd\"></path><path d=\"M5.70117 6.80005H0v5.20005c0 .2761.223857.5.5.5h13c.2761 0 .5-.2239.5-.5V6.80005H8.30117v.80322c0 .27614-.22386.5-.5.5h-1.6c-.27614 0-.5-.22386-.5-.5v-.80322Z\" fill=\"#595959\"></path></svg>Full-time<span class=\"more-items\"> +<!-- -->1</span></div></div><div class=\"metadata\"><div class=\"attribute_snippet\"><svg aria-hidden=\"true\" aria-label=\"Shift\" fill=\"none\" height=\"15px\" role=\"presentation\" viewbox=\"0 0 14 15\" xmlns=\"http://www.w3.org/2000/svg\"><path clip-rule=\"evenodd\" d=\"M7 14.5C10.866 14.5 14 11.366 14 7.5C14 3.63401 10.866 0.5 7 0.5C3.13401 0.5 0 3.63401 0 7.5C0 11.366 3.13401 14.5 7 14.5ZM6.2496 4.25C6.2496 4.11193 6.36153 4 6.4996 4H7.2996C7.43767 4 7.5496 4.11193 7.5496 4.25V7.62406L9.62708 8.82349C9.74665 8.89252 9.78762 9.04542 9.71858 9.16499L9.31858 9.85781C9.24955 9.97739 9.09665 10.0184 8.97708 9.94932L6.25028 8.375H6.2496V8.37461L6.24805 8.37371L6.2496 8.37102V4.25Z\" fill=\"#595959\" fill-rule=\"evenodd\"></path></svg>8 hour shift</div></div></div><div class=\"heading6 error-text tapItem-gutter\"></div></td>,\n",
              " <td class=\"resultContent\"><div class=\"heading4 color-text-primary singleLineTitle tapItem-gutter\"><h2 class=\"jobTitle\"><a aria-label=\"full details of Senior Data Analyst - Remote\" class=\"jcs-JobTitle\" data-hide-spinner=\"true\" data-hiring-event=\"false\" data-jk=\"a908532dbc4fd4ad\" data-mobtk=\"1g2vm2jg22eon000\" href=\"/rc/clk?jk=a908532dbc4fd4ad&amp;fccid=d1f8af28f7f32256&amp;vjs=3\" id=\"job_a908532dbc4fd4ad\" role=\"button\" target=\"_blank\"><span title=\"Senior Data Analyst - Remote\">Senior Data Analyst - Remote</span></a></h2></div><div class=\"heading6 company_location tapItem-gutter companyInfo\"><span class=\"companyName\"><a class=\"turnstileLink companyOverviewLink\" data-tn-element=\"companyName\" href=\"/cmp/Solarity-Credit-Union\" rel=\"noopener\" target=\"_blank\">Solarity Credit Union</a></span><span class=\"ratingsDisplay withRatingLink\"><a aria-label=\"Company rating 3.8 out of 5 stars\" class=\"ratingLink\" data-tn-variant=\"cmplinktst2\" href=\"/cmp/Solarity-Credit-Union/reviews\" rel=\"noopener\" target=\"_blank\" title=\"Solarity Credit Union reviews\"><span aria-label=\"3.8 of stars rating\" class=\"ratingNumber\" role=\"img\"><span aria-hidden=\"true\">3.8</span><svg aria-hidden=\"true\" class=\"starIcon\" fill=\"none\" height=\"12\" role=\"presentation\" viewbox=\"0 0 16 16\" width=\"12\" xmlns=\"http://www.w3.org/2000/svg\"><path d=\"M8 12.8709L12.4542 15.5593C12.7807 15.7563 13.1835 15.4636 13.0968 15.0922L11.9148 10.0254L15.8505 6.61581C16.1388 6.36608 15.9847 5.89257 15.6047 5.86033L10.423 5.42072L8.39696 0.640342C8.24839 0.289808 7.7516 0.289808 7.60303 0.640341L5.57696 5.42072L0.395297 5.86033C0.015274 5.89257 -0.13882 6.36608 0.149443 6.61581L4.0852 10.0254L2.90318 15.0922C2.81653 15.4636 3.21932 15.7563 3.54584 15.5593L8 12.8709Z\" fill=\"#767676\"></path></svg></span></a></span><div class=\"companyLocation\">Remote in Washington State</div></div><div class=\"heading6 tapItem-gutter metadataContainer noJEMChips salaryOnly\"><div class=\"metadata salary-snippet-container\"><div class=\"attribute_snippet\"><svg aria-hidden=\"true\" aria-label=\"Salary\" fill=\"none\" role=\"presentation\" viewbox=\"0 0 16 13\" xmlns=\"http://www.w3.org/2000/svg\"><defs></defs><path clip-rule=\"evenodd\" d=\"M2.45168 6.10292c-.30177-.125-.62509-.18964-.95168-.1903V4.08678c.32693-.00053.6506-.06518.95267-.1903.30331-.12564.57891-.30979.81105-.54193.23215-.23215.4163-.50775.54194-.81106.12524-.30237.18989-.62638.19029-.95365H9.0902c0 .3283.06466.65339.1903.9567.12564.30331.30978.57891.54193.81106.23217.23215.50777.41629.81107.54193.3032.12558.6281.19024.9562.1903v1.83556c-.3242.00155-.6451.06616-.9448.19028-.3033.12563-.5789.30978-.81102.54193-.23215.23214-.4163.50774-.54193.81106-.12332.2977-.18789.61638-.19024.93849H3.99496c-.00071-.32645-.06535-.64961-.19029-.95124-.12564-.30332-.30979-.57891-.54193-.81106-.23215-.23215-.50775-.4163-.81106-.54193zM0 .589843C0 .313701.223858.0898438.5.0898438h12.0897c.2762 0 .5.2238572.5.5000002V9.40715c0 .27614-.2238.5-.5.5H.5c-.276143 0-.5-.22386-.5-.5V.589843zM6.54427 6.99849c1.10457 0 2-.89543 2-2s-.89543-2-2-2-2 .89543-2 2 .89543 2 2 2zm8.05523-2.69917v7.10958H2.75977c-.27615 0-.5.2238-.5.5v.5c0 .2761.22385.5.5.5H15.422c.4419 0 .6775-.2211.6775-.6629V4.29932c0-.27615-.2239-.5-.5-.5h-.5c-.2761 0-.5.22385-.5.5z\" fill=\"#595959\" fill-rule=\"evenodd\"></path></svg>$74,259 - $116,032 a year</div></div><div class=\"metadata\"><div class=\"attribute_snippet\"><svg aria-hidden=\"true\" aria-label=\"Job type\" fill=\"none\" height=\"13\" role=\"presentation\" viewbox=\"0 0 14 13\" width=\"14\" xmlns=\"http://www.w3.org/2000/svg\"><path clip-rule=\"evenodd\" d=\"M4.50226.5c-.27614 0-.5.223858-.5.5v2.1H.5c-.276142 0-.5.22386-.5.5v1.9h14V3.6c0-.27614-.2239-.5-.5-.5h-3.4977V1c0-.276142-.22389-.5-.50004-.5h-5Zm4.19962 2.6H5.30344V1.8h3.39844v1.3Z\" fill=\"#595959\" fill-rule=\"evenodd\"></path><path d=\"M5.70117 6.80005H0v5.20005c0 .2761.223857.5.5.5h13c.2761 0 .5-.2239.5-.5V6.80005H8.30117v.80322c0 .27614-.22386.5-.5.5h-1.6c-.27614 0-.5-.22386-.5-.5v-.80322Z\" fill=\"#595959\"></path></svg>Full-time</div></div></div><div class=\"heading6 error-text tapItem-gutter\"></div></td>,\n",
              " <td class=\"resultContent\"><div class=\"heading4 color-text-primary singleLineTitle tapItem-gutter\"><h2 class=\"jobTitle\"><a aria-label=\"full details of Provisioning Assistant/ Business Analyst\" class=\"jcs-JobTitle\" data-hide-spinner=\"true\" data-hiring-event=\"false\" data-jk=\"64e9a3f81b62790f\" data-mobtk=\"1g2vm2jg22eon000\" href=\"/rc/clk?jk=64e9a3f81b62790f&amp;fccid=3ba6a72ee37d4999&amp;vjs=3\" id=\"job_64e9a3f81b62790f\" role=\"button\" target=\"_blank\"><span title=\"Provisioning Assistant/ Business Analyst\">Provisioning Assistant/ Business Analyst</span></a></h2></div><div class=\"heading6 company_location tapItem-gutter companyInfo\"><span class=\"companyName\"><a class=\"turnstileLink companyOverviewLink\" data-tn-element=\"companyName\" href=\"/cmp/Broadpath-Healthcare-Solutions\" rel=\"noopener\" target=\"_blank\">Broadpath</a></span><span class=\"ratingsDisplay withRatingLink\"><a aria-label=\"Company rating 3 out of 5 stars\" class=\"ratingLink\" data-tn-variant=\"cmplinktst2\" href=\"/cmp/Broadpath-Healthcare-Solutions/reviews\" rel=\"noopener\" target=\"_blank\" title=\"Broadpath reviews\"><span aria-label=\"3.0 of stars rating\" class=\"ratingNumber\" role=\"img\"><span aria-hidden=\"true\">3.0</span><svg aria-hidden=\"true\" class=\"starIcon\" fill=\"none\" height=\"12\" role=\"presentation\" viewbox=\"0 0 16 16\" width=\"12\" xmlns=\"http://www.w3.org/2000/svg\"><path d=\"M8 12.8709L12.4542 15.5593C12.7807 15.7563 13.1835 15.4636 13.0968 15.0922L11.9148 10.0254L15.8505 6.61581C16.1388 6.36608 15.9847 5.89257 15.6047 5.86033L10.423 5.42072L8.39696 0.640342C8.24839 0.289808 7.7516 0.289808 7.60303 0.640341L5.57696 5.42072L0.395297 5.86033C0.015274 5.89257 -0.13882 6.36608 0.149443 6.61581L4.0852 10.0254L2.90318 15.0922C2.81653 15.4636 3.21932 15.7563 3.54584 15.5593L8 12.8709Z\" fill=\"#767676\"></path></svg></span></a></span><div class=\"companyLocation\"><span class=\"more_loc_container\"><a aria-label=\"Same Provisioning Assistant/ Business Analyst job in 1 other location\" class=\"more_loc\" href=\"/addlLoc/redirect?tk=1g2vm2jg22eon000&amp;jk=64e9a3f81b62790f&amp;dest=%2Fjobs%3Fq%3DRemote%2BData%2BAnalyst%26grpKey%3D8gcGdG5mdGNsuA%252FL%252BKYBqhAdCglub3JtdGl0bGUaEGJ1c2luZXNzIGFuYWx5c3Q%253D\" rel=\"nofollow\">+1 location</a></span><span>Remote</span></div></div><div class=\"heading6 tapItem-gutter metadataContainer noJEMChips salaryOnly\"><div class=\"metadata estimated-salary-container\"><span class=\"estimated-salary\"><svg aria-hidden=\"true\" aria-label=\"Estimated $56.3K to $71.3K a year\" fill=\"none\" role=\"presentation\" viewbox=\"0 0 16 13\" xmlns=\"http://www.w3.org/2000/svg\"><defs></defs><path clip-rule=\"evenodd\" d=\"M2.45168 6.10292c-.30177-.125-.62509-.18964-.95168-.1903V4.08678c.32693-.00053.6506-.06518.95267-.1903.30331-.12564.57891-.30979.81105-.54193.23215-.23215.4163-.50775.54194-.81106.12524-.30237.18989-.62638.19029-.95365H9.0902c0 .3283.06466.65339.1903.9567.12564.30331.30978.57891.54193.81106.23217.23215.50777.41629.81107.54193.3032.12558.6281.19024.9562.1903v1.83556c-.3242.00155-.6451.06616-.9448.19028-.3033.12563-.5789.30978-.81102.54193-.23215.23214-.4163.50774-.54193.81106-.12332.2977-.18789.61638-.19024.93849H3.99496c-.00071-.32645-.06535-.64961-.19029-.95124-.12564-.30332-.30979-.57891-.54193-.81106-.23215-.23215-.50775-.4163-.81106-.54193zM0 .589843C0 .313701.223858.0898438.5.0898438h12.0897c.2762 0 .5.2238572.5.5000002V9.40715c0 .27614-.2238.5-.5.5H.5c-.276143 0-.5-.22386-.5-.5V.589843zM6.54427 6.99849c1.10457 0 2-.89543 2-2s-.89543-2-2-2-2 .89543-2 2 .89543 2 2 2zm8.05523-2.69917v7.10958H2.75977c-.27615 0-.5.2238-.5.5v.5c0 .2761.22385.5.5.5H15.422c.4419 0 .6775-.2211.6775-.6629V4.29932c0-.27615-.2239-.5-.5-.5h-.5c-.2761 0-.5.22385-.5.5z\" fill=\"#595959\" fill-rule=\"evenodd\"></path></svg><span>Estimated $56.3K - $71.3K a year</span><button aria-haspopup=\"true\" aria-label=\"About Indeed's estimated salaries\" class=\"estimated-salary-legal-disclaimer-button\" type=\"button\"><img alt=\"\" aria-hidden=\"true\" class=\"estimated-salary-legal-disclaimer-icon\" src=\"https://c03.s3.indeed.com/mosaic-provider-jobcards/dist/images/src/components/JobMetaData/EstimatedSalary/QuestionCircle-901519.svg\"/></button></span></div><div class=\"metadata\"><div class=\"attribute_snippet\"><svg aria-hidden=\"true\" aria-label=\"Job type\" fill=\"none\" height=\"13\" role=\"presentation\" viewbox=\"0 0 14 13\" width=\"14\" xmlns=\"http://www.w3.org/2000/svg\"><path clip-rule=\"evenodd\" d=\"M4.50226.5c-.27614 0-.5.223858-.5.5v2.1H.5c-.276142 0-.5.22386-.5.5v1.9h14V3.6c0-.27614-.2239-.5-.5-.5h-3.4977V1c0-.276142-.22389-.5-.50004-.5h-5Zm4.19962 2.6H5.30344V1.8h3.39844v1.3Z\" fill=\"#595959\" fill-rule=\"evenodd\"></path><path d=\"M5.70117 6.80005H0v5.20005c0 .2761.223857.5.5.5h13c.2761 0 .5-.2239.5-.5V6.80005H8.30117v.80322c0 .27614-.22386.5-.5.5h-1.6c-.27614 0-.5-.22386-.5-.5v-.80322Z\" fill=\"#595959\"></path></svg>Full-time</div></div></div><div class=\"heading6 error-text tapItem-gutter\"></div></td>,\n",
              " <td class=\"resultContent\"><div class=\"heading4 color-text-primary singleLineTitle tapItem-gutter\"><h2 class=\"jobTitle\"><a aria-label=\"full details of Junior Data Analyst\" class=\"jcs-JobTitle\" data-hide-spinner=\"true\" data-hiring-event=\"false\" data-jk=\"79ecda9cb9e9803f\" data-mobtk=\"1g2vm2jg22eon000\" href=\"/rc/clk?jk=79ecda9cb9e9803f&amp;fccid=c031cad2ec931317&amp;vjs=3\" id=\"job_79ecda9cb9e9803f\" role=\"button\" target=\"_blank\"><span title=\"Junior Data Analyst\">Junior Data Analyst</span></a></h2></div><div class=\"heading6 company_location tapItem-gutter companyInfo\"><span class=\"companyName\"><a class=\"turnstileLink companyOverviewLink\" data-tn-element=\"companyName\" href=\"/cmp/Shaker\" rel=\"noopener\" target=\"_blank\">Shaker</a></span><span class=\"ratingsDisplay withRatingLink\"><a aria-label=\"Company rating 3.9 out of 5 stars\" class=\"ratingLink\" data-tn-variant=\"cmplinktst2\" href=\"/cmp/Shaker/reviews\" rel=\"noopener\" target=\"_blank\" title=\"Shaker reviews\"><span aria-label=\"3.9 of stars rating\" class=\"ratingNumber\" role=\"img\"><span aria-hidden=\"true\">3.9</span><svg aria-hidden=\"true\" class=\"starIcon\" fill=\"none\" height=\"12\" role=\"presentation\" viewbox=\"0 0 16 16\" width=\"12\" xmlns=\"http://www.w3.org/2000/svg\"><path d=\"M8 12.8709L12.4542 15.5593C12.7807 15.7563 13.1835 15.4636 13.0968 15.0922L11.9148 10.0254L15.8505 6.61581C16.1388 6.36608 15.9847 5.89257 15.6047 5.86033L10.423 5.42072L8.39696 0.640342C8.24839 0.289808 7.7516 0.289808 7.60303 0.640341L5.57696 5.42072L0.395297 5.86033C0.015274 5.89257 -0.13882 6.36608 0.149443 6.61581L4.0852 10.0254L2.90318 15.0922C2.81653 15.4636 3.21932 15.7563 3.54584 15.5593L8 12.8709Z\" fill=\"#767676\"></path></svg></span></a></span><div class=\"companyLocation\"><span>Remote</span></div></div><div class=\"heading6 tapItem-gutter metadataContainer noJEMChips salaryOnly\"><div class=\"metadata estimated-salary-container\"><span class=\"estimated-salary\"><svg aria-hidden=\"true\" aria-label=\"Estimated $52.2K to $66K a year\" fill=\"none\" role=\"presentation\" viewbox=\"0 0 16 13\" xmlns=\"http://www.w3.org/2000/svg\"><defs></defs><path clip-rule=\"evenodd\" d=\"M2.45168 6.10292c-.30177-.125-.62509-.18964-.95168-.1903V4.08678c.32693-.00053.6506-.06518.95267-.1903.30331-.12564.57891-.30979.81105-.54193.23215-.23215.4163-.50775.54194-.81106.12524-.30237.18989-.62638.19029-.95365H9.0902c0 .3283.06466.65339.1903.9567.12564.30331.30978.57891.54193.81106.23217.23215.50777.41629.81107.54193.3032.12558.6281.19024.9562.1903v1.83556c-.3242.00155-.6451.06616-.9448.19028-.3033.12563-.5789.30978-.81102.54193-.23215.23214-.4163.50774-.54193.81106-.12332.2977-.18789.61638-.19024.93849H3.99496c-.00071-.32645-.06535-.64961-.19029-.95124-.12564-.30332-.30979-.57891-.54193-.81106-.23215-.23215-.50775-.4163-.81106-.54193zM0 .589843C0 .313701.223858.0898438.5.0898438h12.0897c.2762 0 .5.2238572.5.5000002V9.40715c0 .27614-.2238.5-.5.5H.5c-.276143 0-.5-.22386-.5-.5V.589843zM6.54427 6.99849c1.10457 0 2-.89543 2-2s-.89543-2-2-2-2 .89543-2 2 .89543 2 2 2zm8.05523-2.69917v7.10958H2.75977c-.27615 0-.5.2238-.5.5v.5c0 .2761.22385.5.5.5H15.422c.4419 0 .6775-.2211.6775-.6629V4.29932c0-.27615-.2239-.5-.5-.5h-.5c-.2761 0-.5.22385-.5.5z\" fill=\"#595959\" fill-rule=\"evenodd\"></path></svg><span>Estimated $52.2K - $66K a year</span><button aria-haspopup=\"true\" aria-label=\"About Indeed's estimated salaries\" class=\"estimated-salary-legal-disclaimer-button\" type=\"button\"><img alt=\"\" aria-hidden=\"true\" class=\"estimated-salary-legal-disclaimer-icon\" src=\"https://c03.s3.indeed.com/mosaic-provider-jobcards/dist/images/src/components/JobMetaData/EstimatedSalary/QuestionCircle-901519.svg\"/></button></span></div></div><div class=\"heading6 error-text tapItem-gutter\"></div></td>,\n",
              " <td class=\"resultContent\"><div class=\"heading4 color-text-primary singleLineTitle tapItem-gutter\"><h2 class=\"jobTitle jobTitle-newJob\"><div class=\"new topLeft holisticNewBlue desktop\"><span class=\"label\">new</span></div><a aria-label=\"full details of Remote Data Analyst\" class=\"jcs-JobTitle\" data-hide-spinner=\"true\" data-hiring-event=\"false\" data-jk=\"ebd1910bbbbed546\" data-mobtk=\"1g2vm2jg22eon000\" href=\"/rc/clk?jk=ebd1910bbbbed546&amp;fccid=2431bcc75b874651&amp;vjs=3\" id=\"job_ebd1910bbbbed546\" role=\"button\" target=\"_blank\"><span title=\"Remote Data Analyst\">Remote Data Analyst</span></a></h2></div><div class=\"heading6 company_location tapItem-gutter companyInfo\"><span class=\"companyName\"><a class=\"turnstileLink companyOverviewLink\" data-tn-element=\"companyName\" href=\"/cmp/Mitchell-International,-Inc.\" rel=\"noopener\" target=\"_blank\">Mitchell International</a></span><span class=\"ratingsDisplay withRatingLink\"><a aria-label=\"Company rating 3.4 out of 5 stars\" class=\"ratingLink\" data-tn-variant=\"cmplinktst2\" href=\"/cmp/Mitchell-International,-Inc./reviews\" rel=\"noopener\" target=\"_blank\" title=\"Mitchell International reviews\"><span aria-label=\"3.4 of stars rating\" class=\"ratingNumber\" role=\"img\"><span aria-hidden=\"true\">3.4</span><svg aria-hidden=\"true\" class=\"starIcon\" fill=\"none\" height=\"12\" role=\"presentation\" viewbox=\"0 0 16 16\" width=\"12\" xmlns=\"http://www.w3.org/2000/svg\"><path d=\"M8 12.8709L12.4542 15.5593C12.7807 15.7563 13.1835 15.4636 13.0968 15.0922L11.9148 10.0254L15.8505 6.61581C16.1388 6.36608 15.9847 5.89257 15.6047 5.86033L10.423 5.42072L8.39696 0.640342C8.24839 0.289808 7.7516 0.289808 7.60303 0.640341L5.57696 5.42072L0.395297 5.86033C0.015274 5.89257 -0.13882 6.36608 0.149443 6.61581L4.0852 10.0254L2.90318 15.0922C2.81653 15.4636 3.21932 15.7563 3.54584 15.5593L8 12.8709Z\" fill=\"#767676\"></path></svg></span></a></span><div class=\"companyLocation\">Remote in Grove, IL</div></div><div class=\"heading6 tapItem-gutter metadataContainer noJEMChips salaryOnly\"><div class=\"metadata estimated-salary-container\"><span class=\"estimated-salary\"><svg aria-hidden=\"true\" aria-label=\"Estimated $61.4K to $77.8K a year\" fill=\"none\" role=\"presentation\" viewbox=\"0 0 16 13\" xmlns=\"http://www.w3.org/2000/svg\"><defs></defs><path clip-rule=\"evenodd\" d=\"M2.45168 6.10292c-.30177-.125-.62509-.18964-.95168-.1903V4.08678c.32693-.00053.6506-.06518.95267-.1903.30331-.12564.57891-.30979.81105-.54193.23215-.23215.4163-.50775.54194-.81106.12524-.30237.18989-.62638.19029-.95365H9.0902c0 .3283.06466.65339.1903.9567.12564.30331.30978.57891.54193.81106.23217.23215.50777.41629.81107.54193.3032.12558.6281.19024.9562.1903v1.83556c-.3242.00155-.6451.06616-.9448.19028-.3033.12563-.5789.30978-.81102.54193-.23215.23214-.4163.50774-.54193.81106-.12332.2977-.18789.61638-.19024.93849H3.99496c-.00071-.32645-.06535-.64961-.19029-.95124-.12564-.30332-.30979-.57891-.54193-.81106-.23215-.23215-.50775-.4163-.81106-.54193zM0 .589843C0 .313701.223858.0898438.5.0898438h12.0897c.2762 0 .5.2238572.5.5000002V9.40715c0 .27614-.2238.5-.5.5H.5c-.276143 0-.5-.22386-.5-.5V.589843zM6.54427 6.99849c1.10457 0 2-.89543 2-2s-.89543-2-2-2-2 .89543-2 2 .89543 2 2 2zm8.05523-2.69917v7.10958H2.75977c-.27615 0-.5.2238-.5.5v.5c0 .2761.22385.5.5.5H15.422c.4419 0 .6775-.2211.6775-.6629V4.29932c0-.27615-.2239-.5-.5-.5h-.5c-.2761 0-.5.22385-.5.5z\" fill=\"#595959\" fill-rule=\"evenodd\"></path></svg><span>Estimated $61.4K - $77.8K a year</span><button aria-haspopup=\"true\" aria-label=\"About Indeed's estimated salaries\" class=\"estimated-salary-legal-disclaimer-button\" type=\"button\"><img alt=\"\" aria-hidden=\"true\" class=\"estimated-salary-legal-disclaimer-icon\" src=\"https://c03.s3.indeed.com/mosaic-provider-jobcards/dist/images/src/components/JobMetaData/EstimatedSalary/QuestionCircle-901519.svg\"/></button></span></div><div class=\"metadata\"><div class=\"attribute_snippet\"><svg aria-hidden=\"true\" aria-label=\"Job type\" fill=\"none\" height=\"13\" role=\"presentation\" viewbox=\"0 0 14 13\" width=\"14\" xmlns=\"http://www.w3.org/2000/svg\"><path clip-rule=\"evenodd\" d=\"M4.50226.5c-.27614 0-.5.223858-.5.5v2.1H.5c-.276142 0-.5.22386-.5.5v1.9h14V3.6c0-.27614-.2239-.5-.5-.5h-3.4977V1c0-.276142-.22389-.5-.50004-.5h-5Zm4.19962 2.6H5.30344V1.8h3.39844v1.3Z\" fill=\"#595959\" fill-rule=\"evenodd\"></path><path d=\"M5.70117 6.80005H0v5.20005c0 .2761.223857.5.5.5h13c.2761 0 .5-.2239.5-.5V6.80005H8.30117v.80322c0 .27614-.22386.5-.5.5h-1.6c-.27614 0-.5-.22386-.5-.5v-.80322Z\" fill=\"#595959\"></path></svg>Full-time</div></div></div><div class=\"heading6 error-text tapItem-gutter\"></div></td>]"
            ]
          },
          "metadata": {},
          "execution_count": 6
        }
      ]
    },
    {
      "cell_type": "code",
      "source": [
        "#Get Job Title\n",
        "for item in entry:\n",
        "  item1 = item.a.span['title']\n",
        "  #title = item.div.h2.a['title']\n",
        "  print(item1)\n",
        "\n",
        "    "
      ],
      "metadata": {
        "colab": {
          "base_uri": "https://localhost:8080/"
        },
        "id": "CYknuu4OgpKO",
        "outputId": "a80ce82b-2feb-42cb-f0f4-c7052ae86875"
      },
      "execution_count": 8,
      "outputs": [
        {
          "output_type": "stream",
          "name": "stdout",
          "text": [
            "Data Analyst\n",
            "Immunization Data & Equity Analyst (REMOTE WORK OPTION IN-STATE)\n",
            "Data Access Request Analyst\n",
            "Data and Reporting Analyst (Remote)\n",
            "WFM Real-Time Analyst, Ring Workforce Management\n",
            "Data Analyst\n",
            "Data Analyst: Technical Business Intelligence\n",
            "Health Data Analyst I\n",
            "Business Analyst\n",
            "Data Analyst I\n",
            "Data Analyst\n",
            "Senior Data Analyst - Remote\n",
            "Provisioning Assistant/ Business Analyst\n",
            "Junior Data Analyst\n",
            "Remote Data Analyst\n"
          ]
        }
      ]
    },
    {
      "cell_type": "code",
      "source": [
        "#Get Job Posted Date\n",
        "postinginfo = soup.find_all"
      ],
      "metadata": {
        "colab": {
          "base_uri": "https://localhost:8080/",
          "height": 35
        },
        "id": "XJ2wdi4vklRu",
        "outputId": "0177cd06-8ae0-4dfd-c7ff-19933b709111"
      },
      "execution_count": null,
      "outputs": [
        {
          "output_type": "execute_result",
          "data": {
            "text/plain": [
              "''"
            ],
            "application/vnd.google.colaboratory.intrinsic+json": {
              "type": "string"
            }
          },
          "metadata": {},
          "execution_count": 196
        }
      ]
    },
    {
      "cell_type": "code",
      "source": [
        "def get_soup(url):\n",
        "  payload = {'api_key': APIKEY, 'url': url}\n",
        "  r = requests.get('http://api.scraperapi.com', params=payload)\n",
        "  soup = BeautifulSoup(r.text, 'html.parser')\n",
        "  return soup"
      ],
      "metadata": {
        "id": "AwMHi6jrdd69"
      },
      "execution_count": 9,
      "outputs": []
    },
    {
      "cell_type": "code",
      "source": [
        "#Test on Individual Job Page\n",
        "posting = get_soup('https://www.indeed.com/viewjob?jk=2b788a513ef84078&tk=1g2vlultgmsap800&from=serp&vjs=3')"
      ],
      "metadata": {
        "id": "qD0i0pMumFg8"
      },
      "execution_count": 10,
      "outputs": []
    },
    {
      "cell_type": "code",
      "source": [
        "posting_info = posting.find(class_='jobsearch-HiringInsights-entry--text').get_text()"
      ],
      "metadata": {
        "id": "n-JCAOG1bwMS"
      },
      "execution_count": 11,
      "outputs": []
    },
    {
      "cell_type": "code",
      "source": [
        "posting_info"
      ],
      "metadata": {
        "colab": {
          "base_uri": "https://localhost:8080/",
          "height": 35
        },
        "id": "0smwCxiJc9qI",
        "outputId": "62da7a54-2480-4351-87df-cb1171be9776"
      },
      "execution_count": 12,
      "outputs": [
        {
          "output_type": "execute_result",
          "data": {
            "text/plain": [
              "'Posted 3 days ago'"
            ],
            "application/vnd.google.colaboratory.intrinsic+json": {
              "type": "string"
            }
          },
          "metadata": {},
          "execution_count": 12
        }
      ]
    },
    {
      "cell_type": "code",
      "source": [
        "'''base_link = 'https://www.indeed.com'\n",
        "\n",
        "\n",
        "for number in range(0, 20, 10):\n",
        "  \n",
        "  soup = get_soup(('https://www.indeed.com/jobs?q=Remote+Data+Analyst&start={}').format(number))\n",
        "'''\n",
        "\n",
        "base_link = 'https://www.indeed.com'\n",
        "df = pd.DataFrame(columns=['Title', 'Description', 'Link', 'Date_Posted'])\n",
        "\n",
        "for number in range(0,20,10):\n",
        "  soup = get_soup(f'https://www.indeed.com/jobs?q=Remote+Data+Analyst&start={number}')\n",
        "  entry = soup.find_all('td', class_='resultContent')\n",
        "  print(number)\n",
        "  for item in entry:\n",
        "      #Job Title\n",
        "      title = item.find(class_='jobTitle').text\n",
        "      #company = item.find('span', class_='companyName').text.strip()\n",
        "      \n",
        "      #testing\n",
        "      #try:\n",
        "      #  rating = item.find('span', class_='ratingsDisplay withRatingLink').text.strip()\n",
        "      #except:\n",
        "      #  review = ''\n",
        "\n",
        "      \n",
        "      #Get specific posting link\n",
        "      link = item.a['href']\n",
        "      new_link = base_link + link\n",
        "      print(new_link)\n",
        "      #Request Page\n",
        "      #payload = {'api_key': APIKEY, 'url': new_link}\n",
        "      #r = requests.get('http://api.scraperapi.com', params=payload, headers = HEADERS)\n",
        "      #soup = BeautifulSoup(r.text, 'html.parser')\n",
        "      soup = get_soup(new_link)\n",
        "      #Retrieve Description\n",
        "      description = soup.find(class_='jobsearch-jobDescriptionText').get_text()\n",
        "      posting_date = soup.find(class_='jobsearch-HiringInsights-entry--text').get_text()\n",
        "      df.loc[len(df.index)] = [title, description, new_link, posting_date]\n",
        "      #df.loc[len(df.index)] = [title, company, rating, description, new_link]\n"
      ],
      "metadata": {
        "id": "G0NlR7NGGV25",
        "colab": {
          "base_uri": "https://localhost:8080/"
        },
        "outputId": "ff75344c-5e44-42c7-a486-2fe4c72dabd1"
      },
      "execution_count": 13,
      "outputs": [
        {
          "output_type": "stream",
          "name": "stdout",
          "text": [
            "0\n",
            "https://www.indeed.com/rc/clk?jk=22e5be352a41f80e&fccid=11caadcdc98800d4&vjs=3\n",
            "https://www.indeed.com/rc/clk?jk=42cee3a457fb8e38&fccid=45291f8ebb1ddbd7&vjs=3\n",
            "https://www.indeed.com/rc/clk?jk=7cec74998b596659&fccid=c5ea80037eec1b5c&vjs=3\n",
            "https://www.indeed.com/rc/clk?jk=c12649fac676ff75&fccid=fc68da685e8aa986&vjs=3\n",
            "https://www.indeed.com/rc/clk?jk=a5da143406f5db0e&fccid=5f7c8e9b696f11aa&vjs=3\n",
            "https://www.indeed.com/rc/clk?jk=79ecda9cb9e9803f&fccid=c031cad2ec931317&vjs=3\n",
            "https://www.indeed.com/rc/clk?jk=ca5478b5673322ac&fccid=64e4cdd7435d8c42&vjs=3\n",
            "https://www.indeed.com/rc/clk?jk=1b69b56cac09ab1d&fccid=fd328fb1f491e9c4&vjs=3\n",
            "https://www.indeed.com/rc/clk?jk=6cf6398410153a0c&fccid=82e58e9861d48566&vjs=3\n",
            "https://www.indeed.com/rc/clk?jk=ce928e7e957ceddf&fccid=c10d511b96782b65&vjs=3\n",
            "https://www.indeed.com/rc/clk?jk=f3a32dc801075a26&fccid=64e4cdd7435d8c42&vjs=3\n",
            "https://www.indeed.com/rc/clk?jk=f16fee4d087b8c95&fccid=2c23f29fcd5c78da&vjs=3\n",
            "https://www.indeed.com/company/Korn-Ferry-for-Relx/jobs/Data-Analyst-b0a5159872071476?fccid=1241f44d42f328bb&vjs=3\n",
            "https://www.indeed.com/rc/clk?jk=7c7306d9faf19605&fccid=4e041af1d0af1bc8&vjs=3\n",
            "https://www.indeed.com/rc/clk?jk=c73eee762c53a4bb&fccid=32245f78c566565a&vjs=3\n",
            "10\n",
            "https://www.indeed.com/company/Sedna-Consulting-Group/jobs/Business-Analyst-a556d494a8dedba0?fccid=33ba1395419f4557&vjs=3\n",
            "https://www.indeed.com/rc/clk?jk=ca5478b5673322ac&fccid=64e4cdd7435d8c42&vjs=3\n",
            "https://www.indeed.com/rc/clk?jk=1b69b56cac09ab1d&fccid=fd328fb1f491e9c4&vjs=3\n",
            "https://www.indeed.com/rc/clk?jk=047fc9e92b228e65&fccid=5eec33f26f1eb531&vjs=3\n",
            "https://www.indeed.com/rc/clk?jk=6cf6398410153a0c&fccid=82e58e9861d48566&vjs=3\n",
            "https://www.indeed.com/rc/clk?jk=ce928e7e957ceddf&fccid=c10d511b96782b65&vjs=3\n",
            "https://www.indeed.com/rc/clk?jk=a2742d4e0658e7e4&fccid=a26faf536784c919&vjs=3\n",
            "https://www.indeed.com/rc/clk?jk=f3a32dc801075a26&fccid=64e4cdd7435d8c42&vjs=3\n",
            "https://www.indeed.com/company/PRECISION-TECHNOLOGIES/jobs/Training-Placement-Junior-Quality-Analyst-92012da88c352ae6?fccid=6eb835f9a4d35e56&vjs=3\n",
            "https://www.indeed.com/rc/clk?jk=f16fee4d087b8c95&fccid=2c23f29fcd5c78da&vjs=3\n",
            "https://www.indeed.com/company/Korn-Ferry-for-Relx/jobs/Data-Analyst-b0a5159872071476?fccid=1241f44d42f328bb&vjs=3\n",
            "https://www.indeed.com/company/WTF-DIGITAL-TECHNOLOGIES-PRIVATE-LIMITED/jobs/Data-Analyst-f2f8754a9e4b4294?fccid=9854b3a3071149f6&vjs=3\n",
            "https://www.indeed.com/rc/clk?jk=7c7306d9faf19605&fccid=4e041af1d0af1bc8&vjs=3\n",
            "https://www.indeed.com/company/Neal-Analytics/jobs/Data-Analyst-9b2d371677f71d24?fccid=a3bcc3a125bee804&vjs=3\n",
            "https://www.indeed.com/rc/clk?jk=c73eee762c53a4bb&fccid=32245f78c566565a&vjs=3\n"
          ]
        }
      ]
    },
    {
      "cell_type": "code",
      "source": [
        "df.head()"
      ],
      "metadata": {
        "id": "CuXLDLU7JQX_",
        "colab": {
          "base_uri": "https://localhost:8080/",
          "height": 250
        },
        "outputId": "e6d678a9-d810-4e74-d0a1-6ed6cee8e289"
      },
      "execution_count": 29,
      "outputs": [
        {
          "output_type": "execute_result",
          "data": {
            "text/plain": [
              "                            Title  \\\n",
              "0   newData Analyst (100% Remote)   \n",
              "1       Data Analyst - 2022 Cycle   \n",
              "2        newData Analyst, REMOTE!   \n",
              "3  newRemote Banking Data Analyst   \n",
              "4                 newData Analyst   \n",
              "\n",
              "                                         Description  \\\n",
              "0  \\n\\nTravel Required: None \\nPublic Trust: Othe...   \n",
              "1  \\n\\nThe Democratic Data Exchange (DDx) is look...   \n",
              "2  \\n\\n  Data Analyst, REMOTE!\\n   Dare to design...   \n",
              "3  \\n\\nPiper Companies is seeking a Remote Bankin...   \n",
              "4  \\n\\n\\n\\n    BlocPower is a clean energy leader...   \n",
              "\n",
              "                                                Link         Date_Posted  \n",
              "0  https://www.indeed.com/rc/clk?jk=22e5be352a41f...        Posted today  \n",
              "1  https://www.indeed.com/rc/clk?jk=42cee3a457fb8...  Posted 14 days ago  \n",
              "2  https://www.indeed.com/rc/clk?jk=7cec74998b596...        Posted Today  \n",
              "3  https://www.indeed.com/rc/clk?jk=c12649fac676f...        Posted today  \n",
              "4  https://www.indeed.com/rc/clk?jk=a5da143406f5d...    Posted 1 day ago  "
            ],
            "text/html": [
              "\n",
              "  <div id=\"df-cee015e3-236f-48df-8380-d0d599b6acd4\">\n",
              "    <div class=\"colab-df-container\">\n",
              "      <div>\n",
              "<style scoped>\n",
              "    .dataframe tbody tr th:only-of-type {\n",
              "        vertical-align: middle;\n",
              "    }\n",
              "\n",
              "    .dataframe tbody tr th {\n",
              "        vertical-align: top;\n",
              "    }\n",
              "\n",
              "    .dataframe thead th {\n",
              "        text-align: right;\n",
              "    }\n",
              "</style>\n",
              "<table border=\"1\" class=\"dataframe\">\n",
              "  <thead>\n",
              "    <tr style=\"text-align: right;\">\n",
              "      <th></th>\n",
              "      <th>Title</th>\n",
              "      <th>Description</th>\n",
              "      <th>Link</th>\n",
              "      <th>Date_Posted</th>\n",
              "    </tr>\n",
              "  </thead>\n",
              "  <tbody>\n",
              "    <tr>\n",
              "      <th>0</th>\n",
              "      <td>newData Analyst (100% Remote)</td>\n",
              "      <td>\\n\\nTravel Required: None \\nPublic Trust: Othe...</td>\n",
              "      <td>https://www.indeed.com/rc/clk?jk=22e5be352a41f...</td>\n",
              "      <td>Posted today</td>\n",
              "    </tr>\n",
              "    <tr>\n",
              "      <th>1</th>\n",
              "      <td>Data Analyst - 2022 Cycle</td>\n",
              "      <td>\\n\\nThe Democratic Data Exchange (DDx) is look...</td>\n",
              "      <td>https://www.indeed.com/rc/clk?jk=42cee3a457fb8...</td>\n",
              "      <td>Posted 14 days ago</td>\n",
              "    </tr>\n",
              "    <tr>\n",
              "      <th>2</th>\n",
              "      <td>newData Analyst, REMOTE!</td>\n",
              "      <td>\\n\\n  Data Analyst, REMOTE!\\n   Dare to design...</td>\n",
              "      <td>https://www.indeed.com/rc/clk?jk=7cec74998b596...</td>\n",
              "      <td>Posted Today</td>\n",
              "    </tr>\n",
              "    <tr>\n",
              "      <th>3</th>\n",
              "      <td>newRemote Banking Data Analyst</td>\n",
              "      <td>\\n\\nPiper Companies is seeking a Remote Bankin...</td>\n",
              "      <td>https://www.indeed.com/rc/clk?jk=c12649fac676f...</td>\n",
              "      <td>Posted today</td>\n",
              "    </tr>\n",
              "    <tr>\n",
              "      <th>4</th>\n",
              "      <td>newData Analyst</td>\n",
              "      <td>\\n\\n\\n\\n    BlocPower is a clean energy leader...</td>\n",
              "      <td>https://www.indeed.com/rc/clk?jk=a5da143406f5d...</td>\n",
              "      <td>Posted 1 day ago</td>\n",
              "    </tr>\n",
              "  </tbody>\n",
              "</table>\n",
              "</div>\n",
              "      <button class=\"colab-df-convert\" onclick=\"convertToInteractive('df-cee015e3-236f-48df-8380-d0d599b6acd4')\"\n",
              "              title=\"Convert this dataframe to an interactive table.\"\n",
              "              style=\"display:none;\">\n",
              "        \n",
              "  <svg xmlns=\"http://www.w3.org/2000/svg\" height=\"24px\"viewBox=\"0 0 24 24\"\n",
              "       width=\"24px\">\n",
              "    <path d=\"M0 0h24v24H0V0z\" fill=\"none\"/>\n",
              "    <path d=\"M18.56 5.44l.94 2.06.94-2.06 2.06-.94-2.06-.94-.94-2.06-.94 2.06-2.06.94zm-11 1L8.5 8.5l.94-2.06 2.06-.94-2.06-.94L8.5 2.5l-.94 2.06-2.06.94zm10 10l.94 2.06.94-2.06 2.06-.94-2.06-.94-.94-2.06-.94 2.06-2.06.94z\"/><path d=\"M17.41 7.96l-1.37-1.37c-.4-.4-.92-.59-1.43-.59-.52 0-1.04.2-1.43.59L10.3 9.45l-7.72 7.72c-.78.78-.78 2.05 0 2.83L4 21.41c.39.39.9.59 1.41.59.51 0 1.02-.2 1.41-.59l7.78-7.78 2.81-2.81c.8-.78.8-2.07 0-2.86zM5.41 20L4 18.59l7.72-7.72 1.47 1.35L5.41 20z\"/>\n",
              "  </svg>\n",
              "      </button>\n",
              "      \n",
              "  <style>\n",
              "    .colab-df-container {\n",
              "      display:flex;\n",
              "      flex-wrap:wrap;\n",
              "      gap: 12px;\n",
              "    }\n",
              "\n",
              "    .colab-df-convert {\n",
              "      background-color: #E8F0FE;\n",
              "      border: none;\n",
              "      border-radius: 50%;\n",
              "      cursor: pointer;\n",
              "      display: none;\n",
              "      fill: #1967D2;\n",
              "      height: 32px;\n",
              "      padding: 0 0 0 0;\n",
              "      width: 32px;\n",
              "    }\n",
              "\n",
              "    .colab-df-convert:hover {\n",
              "      background-color: #E2EBFA;\n",
              "      box-shadow: 0px 1px 2px rgba(60, 64, 67, 0.3), 0px 1px 3px 1px rgba(60, 64, 67, 0.15);\n",
              "      fill: #174EA6;\n",
              "    }\n",
              "\n",
              "    [theme=dark] .colab-df-convert {\n",
              "      background-color: #3B4455;\n",
              "      fill: #D2E3FC;\n",
              "    }\n",
              "\n",
              "    [theme=dark] .colab-df-convert:hover {\n",
              "      background-color: #434B5C;\n",
              "      box-shadow: 0px 1px 3px 1px rgba(0, 0, 0, 0.15);\n",
              "      filter: drop-shadow(0px 1px 2px rgba(0, 0, 0, 0.3));\n",
              "      fill: #FFFFFF;\n",
              "    }\n",
              "  </style>\n",
              "\n",
              "      <script>\n",
              "        const buttonEl =\n",
              "          document.querySelector('#df-cee015e3-236f-48df-8380-d0d599b6acd4 button.colab-df-convert');\n",
              "        buttonEl.style.display =\n",
              "          google.colab.kernel.accessAllowed ? 'block' : 'none';\n",
              "\n",
              "        async function convertToInteractive(key) {\n",
              "          const element = document.querySelector('#df-cee015e3-236f-48df-8380-d0d599b6acd4');\n",
              "          const dataTable =\n",
              "            await google.colab.kernel.invokeFunction('convertToInteractive',\n",
              "                                                     [key], {});\n",
              "          if (!dataTable) return;\n",
              "\n",
              "          const docLinkHtml = 'Like what you see? Visit the ' +\n",
              "            '<a target=\"_blank\" href=https://colab.research.google.com/notebooks/data_table.ipynb>data table notebook</a>'\n",
              "            + ' to learn more about interactive tables.';\n",
              "          element.innerHTML = '';\n",
              "          dataTable['output_type'] = 'display_data';\n",
              "          await google.colab.output.renderOutput(dataTable, element);\n",
              "          const docLink = document.createElement('div');\n",
              "          docLink.innerHTML = docLinkHtml;\n",
              "          element.appendChild(docLink);\n",
              "        }\n",
              "      </script>\n",
              "    </div>\n",
              "  </div>\n",
              "  "
            ]
          },
          "metadata": {},
          "execution_count": 29
        }
      ]
    },
    {
      "cell_type": "code",
      "source": [
        "def date_fixes(dfcopy):\n",
        "  dfcopy['Date_Posted'] = dfcopy['Date_Posted'].replace({'Posted today': 1})\n",
        "  dfcopy['Date_Posted'] = dfcopy['Date_Posted'].replace({'Posted Today': 1})\n",
        "  #Urgently Hiring = 0 Days\n",
        "  dfcopy['Date_Posted'] = dfcopy['Date_Posted'].str.replace(r'[^0-9]+', '')\n",
        "  dfcopy['Date_Posted'] = dfcopy['Date_Posted'].fillna(0)\n",
        "  return dfcopy"
      ],
      "metadata": {
        "id": "SsCrO-ion--p"
      },
      "execution_count": 80,
      "outputs": []
    },
    {
      "cell_type": "code",
      "source": [
        "#Export to Excel Sheet\n",
        "df.to_excel('JobPostings.xlsx', 'df1')"
      ],
      "metadata": {
        "id": "QfqRMeBKemUN"
      },
      "execution_count": 16,
      "outputs": []
    },
    {
      "cell_type": "code",
      "source": [
        "#Remove number from start Url\n",
        "def get_postings(start_url, pages):\n",
        "  base_link = 'https://www.indeed.com'\n",
        "  df = pd.DataFrame(columns=['Title', 'Description', 'Link', 'Date_Posted'])\n",
        "\n",
        "  #Set page range- Could use better system for dynamic page, but link system\n",
        "  #for indeed is simple\n",
        "  for number in range(10,pages*10,10):\n",
        "    soup = get_soup(start_url + f'{number}')\n",
        "    entry = soup.find_all('td', class_='resultContent')\n",
        "    print(number)\n",
        "    for item in entry:\n",
        "        #Job Title\n",
        "        title = item.find(class_='jobTitle').text\n",
        "        #Get specific posting link\n",
        "        link = item.a['href']\n",
        "        new_link = base_link + link\n",
        "        print(new_link)\n",
        "        #Retrieve Job Page (single) from Link\n",
        "        soup = get_soup(new_link)\n",
        "        #Retrieve Description\n",
        "        description = soup.find(class_='jobsearch-jobDescriptionText').get_text()\n",
        "        posting_date = soup.find(class_='jobsearch-HiringInsights-entry--text').get_text()\n",
        "        df.loc[len(df.index)] = [title, description, new_link, posting_date]\n",
        "  return df"
      ],
      "metadata": {
        "id": "x-zm-S13h65A"
      },
      "execution_count": 26,
      "outputs": []
    },
    {
      "cell_type": "code",
      "source": [
        "remoteAnalystInternUrl = 'https://www.indeed.com/jobs?q=data+analyst+intern+remote&start='\n",
        "Intern_Df = get_postings(remoteAnalystInternUrl)"
      ],
      "metadata": {
        "colab": {
          "base_uri": "https://localhost:8080/"
        },
        "id": "rdYOpdOajVTx",
        "outputId": "d8210b0b-ce50-4f5c-f301-92895cdc99d1"
      },
      "execution_count": 18,
      "outputs": [
        {
          "output_type": "stream",
          "name": "stdout",
          "text": [
            "0\n",
            "https://www.indeed.com/rc/clk?jk=b7662aebc950393e&fccid=cf2a618027c975ad&vjs=3\n",
            "https://www.indeed.com/rc/clk?jk=5daed0d0b6e9c9b4&fccid=9a386f5dac9ffc6c&vjs=3\n",
            "https://www.indeed.com/rc/clk?jk=d6869cb4ffb7a01c&fccid=12c109dc261fc3cb&vjs=3\n",
            "https://www.indeed.com/rc/clk?jk=2f650a69abb39fa6&fccid=2525cc4a9a704809&vjs=3\n",
            "https://www.indeed.com/rc/clk?jk=63552c90d862a839&fccid=bc5afa013c617a43&vjs=3\n",
            "https://www.indeed.com/rc/clk?jk=80d849dd0faf1a83&fccid=0d526257d976e5ac&vjs=3\n",
            "https://www.indeed.com/rc/clk?jk=d96407d833c32bd7&fccid=4600afcfb0f58ad6&vjs=3\n",
            "https://www.indeed.com/rc/clk?jk=867a36cdb1d39bdc&fccid=ec06270e79e18b30&vjs=3\n",
            "https://www.indeed.com/rc/clk?jk=36b4e6cd84ba3cfd&fccid=0d26bf2273c73e76&vjs=3\n",
            "https://www.indeed.com/company/Xilis,-Inc./jobs/Data-Analyst-Intern-69e797aa5d5607c7?fccid=0043ae875cc9c558&vjs=3\n",
            "https://www.indeed.com/rc/clk?jk=3a4177c915c86ca7&fccid=65ae769cb89830ec&vjs=3\n",
            "https://www.indeed.com/rc/clk?jk=c77ac5d6fda2bfdc&fccid=ed62b3b73096b79f&vjs=3\n",
            "https://www.indeed.com/rc/clk?jk=dea9271f3d9bdaaa&fccid=adba11cb53cd3b4e&vjs=3\n",
            "https://www.indeed.com/rc/clk?jk=e167e45d7157602b&fccid=8023ec567baac569&vjs=3\n",
            "https://www.indeed.com/rc/clk?jk=1173c26ab2aa72ed&fccid=481c58ab47ba3336&vjs=3\n",
            "10\n",
            "https://www.indeed.com/company/Oigetit-Fake-News-Filter/jobs/Quality-Assurance-Analyst-Intern-14527d1a55c94732?fccid=0f58171542e202b1&vjs=3\n",
            "https://www.indeed.com/rc/clk?jk=88d465e12c4ac0db&fccid=e365f6518c25f1b6&vjs=3\n",
            "https://www.indeed.com/rc/clk?jk=5fcb0a5517f1e709&fccid=45b233c0744f8e5c&vjs=3\n",
            "https://www.indeed.com/company/GVC/jobs/Data-Analyst-Intern-ea8559be4fc5ede7?fccid=50f8b669f43ff52d&vjs=3\n",
            "https://www.indeed.com/rc/clk?jk=299aedf3e365e526&fccid=f56b79ee939bc784&vjs=3\n",
            "https://www.indeed.com/rc/clk?jk=cdcab046d60b7ad2&fccid=0dd0f2dc4ecc3d85&vjs=3\n",
            "https://www.indeed.com/rc/clk?jk=8847dfa26c442d04&fccid=099be62d716f32e3&vjs=3\n",
            "https://www.indeed.com/rc/clk?jk=d229539ef279c2ce&fccid=b386980fa584d9b2&vjs=3\n",
            "https://www.indeed.com/rc/clk?jk=4416125393b04212&fccid=83e061731f749568&vjs=3\n",
            "https://www.indeed.com/rc/clk?jk=867a36cdb1d39bdc&fccid=ec06270e79e18b30&vjs=3\n",
            "https://www.indeed.com/rc/clk?jk=4b110611a3a8a0ae&fccid=b785e45c50f3b7b1&vjs=3\n",
            "https://www.indeed.com/rc/clk?jk=b0052f070522caa1&fccid=6bd26aaf0463ab88&vjs=3\n",
            "https://www.indeed.com/rc/clk?jk=8a85f41c8a3b059b&fccid=40a4c5390ac10de9&vjs=3\n",
            "https://www.indeed.com/rc/clk?jk=81fc5350b52ec631&fccid=437fb825bf2dab94&vjs=3\n",
            "https://www.indeed.com/rc/clk?jk=08b5f7398a256694&fccid=39cffaf200881975&vjs=3\n"
          ]
        }
      ]
    },
    {
      "cell_type": "code",
      "source": [
        "Intern_Df2 = get_postings(remoteAnalystInternUrl, 8)"
      ],
      "metadata": {
        "colab": {
          "base_uri": "https://localhost:8080/"
        },
        "id": "WL-dkdMPkaET",
        "outputId": "63a8a374-7d96-4567-9190-15bb86a16b53"
      },
      "execution_count": 22,
      "outputs": [
        {
          "output_type": "stream",
          "name": "stdout",
          "text": [
            "20\n",
            "https://www.indeed.com/rc/clk?jk=81fc5350b52ec631&fccid=437fb825bf2dab94&vjs=3\n",
            "https://www.indeed.com/rc/clk?jk=e28a9937f93f7d74&fccid=d46b413c42e26024&vjs=3\n",
            "https://www.indeed.com/rc/clk?jk=e578845ca96b97f7&fccid=0a1f074e402103eb&vjs=3\n",
            "https://www.indeed.com/rc/clk?jk=f805f8b0b406a5c7&fccid=8b11bd0c33da064e&vjs=3\n",
            "https://www.indeed.com/rc/clk?jk=f7d786b4e303e420&fccid=d7d403f3184c0ee9&vjs=3\n",
            "https://www.indeed.com/rc/clk?jk=cb39fe7c6c49bbe7&fccid=d5998a961671e818&vjs=3\n",
            "https://www.indeed.com/rc/clk?jk=5e75741f05287169&fccid=cc007169ef81dc6a&vjs=3\n",
            "https://www.indeed.com/rc/clk?jk=7e8449ea0c9b427a&fccid=62574ebc55ba181d&vjs=3\n",
            "https://www.indeed.com/rc/clk?jk=087efd9e72f76f94&fccid=bcabf9e77904fbd5&vjs=3\n",
            "https://www.indeed.com/rc/clk?jk=e261067fc4409030&fccid=209a3e1cb8a469f5&vjs=3\n",
            "https://www.indeed.com/rc/clk?jk=6bcbe479316ace55&fccid=e13f6dd1777d5161&vjs=3\n",
            "https://www.indeed.com/company/HCSS/jobs/Product-Analyst-Intern-d20179daaf1cc9e8?fccid=59594c2798abdbf8&vjs=3\n",
            "https://www.indeed.com/rc/clk?jk=8c25140ad79d1795&fccid=d4d617f09311ddc0&vjs=3\n",
            "https://www.indeed.com/rc/clk?jk=a71e284ef7b1530b&fccid=e4848ea416124684&vjs=3\n",
            "https://www.indeed.com/rc/clk?jk=cbde55434f3e0bba&fccid=24a3456d3ce2ad08&vjs=3\n",
            "30\n",
            "https://www.indeed.com/rc/clk?jk=ad92300324a5c48f&fccid=71084fa2202b6e9d&vjs=3\n",
            "https://www.indeed.com/rc/clk?jk=d229539ef279c2ce&fccid=b386980fa584d9b2&vjs=3\n",
            "https://www.indeed.com/rc/clk?jk=2d23ffb2db7ed09d&fccid=68c7f1fc368dd4ab&vjs=3\n",
            "https://www.indeed.com/rc/clk?jk=65fd45fe1ff04868&fccid=34a151ad3f64c51f&vjs=3\n",
            "https://www.indeed.com/rc/clk?jk=ebbce0478d173ee8&fccid=9ae2c3659eac96f8&vjs=3\n",
            "https://www.indeed.com/rc/clk?jk=d73f8cfbbc3cf3c8&fccid=c007936ceb766fe5&vjs=3\n",
            "https://www.indeed.com/rc/clk?jk=e5d7b49e5c694532&fccid=936367796261bd6e&vjs=3\n",
            "https://www.indeed.com/rc/clk?jk=10a9efd4ec4ec4a7&fccid=54e630ee33042d07&vjs=3\n",
            "https://www.indeed.com/company/Doctors-Without-Borders---MSFUSA/jobs/System-Data-Analytic-Intern-991e16ce7bcb457a?fccid=58f36ecb83827a7d&vjs=3\n",
            "https://www.indeed.com/rc/clk?jk=c6f77441fa7c2838&fccid=40a4c5390ac10de9&vjs=3\n",
            "https://www.indeed.com/rc/clk?jk=9143e0509e0f19ad&fccid=68c7f1fc368dd4ab&vjs=3\n",
            "https://www.indeed.com/rc/clk?jk=6446f222892946db&fccid=3bcf7eb192e678e4&vjs=3\n",
            "https://www.indeed.com/rc/clk?jk=277e8b7a9979b789&fccid=328bc12db37ac8ae&vjs=3\n",
            "https://www.indeed.com/rc/clk?jk=e7bdfa25f871fc3e&fccid=4e9cab3d11dd862d&vjs=3\n",
            "https://www.indeed.com/rc/clk?jk=fd9d84c50f32ff1e&fccid=c4c5cfaacfd335db&vjs=3\n",
            "40\n",
            "https://www.indeed.com/rc/clk?jk=4b110611a3a8a0ae&fccid=b785e45c50f3b7b1&vjs=3\n",
            "https://www.indeed.com/rc/clk?jk=5e75741f05287169&fccid=cc007169ef81dc6a&vjs=3\n",
            "https://www.indeed.com/company/Lautman-Maska-Neill-&-Company/jobs/Analytic-Intern-388f1f5a26148199?fccid=9a76e02568bfa135&vjs=3\n",
            "https://www.indeed.com/rc/clk?jk=c15c9d7df43af2c7&fccid=dd616958bd9ddc12&vjs=3\n",
            "https://www.indeed.com/rc/clk?jk=7e8449ea0c9b427a&fccid=62574ebc55ba181d&vjs=3\n",
            "https://www.indeed.com/rc/clk?jk=087efd9e72f76f94&fccid=bcabf9e77904fbd5&vjs=3\n",
            "https://www.indeed.com/company/Vermont-General-Assembly/jobs/Summer-Intern-38197fe5d675562f?fccid=60f5a795a1c77280&vjs=3\n",
            "https://www.indeed.com/rc/clk?jk=3dae25451b636a94&fccid=b3e28e32d6762665&vjs=3\n",
            "https://www.indeed.com/rc/clk?jk=14ecd738ea4057f2&fccid=2431bcc75b874651&vjs=3\n",
            "https://www.indeed.com/rc/clk?jk=e261067fc4409030&fccid=209a3e1cb8a469f5&vjs=3\n",
            "https://www.indeed.com/company/Your-Health-Idaho/jobs/Business-Analyst-Intern-ae3bfbd7887067ed?fccid=2071fcc15e2829aa&vjs=3\n",
            "https://www.indeed.com/company/Emergent-Risk-International/jobs/Graphic-Design-Internship-4c8e2f7fba3e200a?fccid=5edef1008bb7e926&vjs=3\n",
            "https://www.indeed.com/rc/clk?jk=6bcbe479316ace55&fccid=e13f6dd1777d5161&vjs=3\n",
            "https://www.indeed.com/company/HCSS/jobs/Product-Analyst-Intern-d20179daaf1cc9e8?fccid=59594c2798abdbf8&vjs=3\n",
            "https://www.indeed.com/rc/clk?jk=c2ad6b6508c97da2&fccid=9ae7fa5e0c092eed&vjs=3\n",
            "50\n",
            "https://www.indeed.com/rc/clk?jk=c6f77441fa7c2838&fccid=40a4c5390ac10de9&vjs=3\n",
            "https://www.indeed.com/rc/clk?jk=fd9d84c50f32ff1e&fccid=c4c5cfaacfd335db&vjs=3\n",
            "https://www.indeed.com/rc/clk?jk=65fd45fe1ff04868&fccid=34a151ad3f64c51f&vjs=3\n",
            "https://www.indeed.com/rc/clk?jk=f965e6879a9520bc&fccid=0204e0b47df5d2bb&vjs=3\n",
            "https://www.indeed.com/rc/clk?jk=fa214d91f36151a6&fccid=34a151ad3f64c51f&vjs=3\n",
            "https://www.indeed.com/rc/clk?jk=86658a058f167957&fccid=52f90de7b5346a08&vjs=3\n",
            "https://www.indeed.com/rc/clk?jk=f5ba2112c52f1933&fccid=b9ca7ec1464dfa21&vjs=3\n",
            "https://www.indeed.com/rc/clk?jk=087efd9e72f76f94&fccid=bcabf9e77904fbd5&vjs=3\n",
            "https://www.indeed.com/rc/clk?jk=e8f42e4d37c4dd77&fccid=ee814786a4428771&vjs=3\n",
            "https://www.indeed.com/rc/clk?jk=30c393e2b683e217&fccid=cc007169ef81dc6a&vjs=3\n",
            "https://www.indeed.com/rc/clk?jk=c456375f976eb139&fccid=b716e44d2c6283e7&vjs=3\n",
            "https://www.indeed.com/rc/clk?jk=a197ff9efdcb718e&fccid=46c5d1b673b120b1&vjs=3\n",
            "https://www.indeed.com/rc/clk?jk=aadc46ab64b835db&fccid=ac44164b112128dc&vjs=3\n",
            "https://www.indeed.com/rc/clk?jk=34a4c7b93480d13f&fccid=54431c4d7ccf7f70&vjs=3\n",
            "https://www.indeed.com/rc/clk?jk=886b2e99b8e363e6&fccid=dda6e6eeb880f521&vjs=3\n",
            "60\n",
            "https://www.indeed.com/rc/clk?jk=aadc46ab64b835db&fccid=ac44164b112128dc&vjs=3\n",
            "https://www.indeed.com/rc/clk?jk=a30ba7faef2d7a48&fccid=9d58b2ccf32109ad&vjs=3\n",
            "https://www.indeed.com/rc/clk?jk=0005e3f2a98e975b&fccid=e5c4515812210aed&vjs=3\n",
            "https://www.indeed.com/rc/clk?jk=2b3a6c1c0c8cd98b&fccid=b9ca7ec1464dfa21&vjs=3\n",
            "https://www.indeed.com/rc/clk?jk=b72f77e3a2c29a40&fccid=3c38342724c75954&vjs=3\n",
            "https://www.indeed.com/rc/clk?jk=f965e6879a9520bc&fccid=0204e0b47df5d2bb&vjs=3\n",
            "https://www.indeed.com/company/GoGuardian/jobs/Business-Intelligence-Analyst-0914cd2a4e4c4358?fccid=3898196d40ffc8c2&vjs=3\n",
            "https://www.indeed.com/rc/clk?jk=8929090d62d7384f&fccid=aa766df99c78f464&vjs=3\n",
            "https://www.indeed.com/rc/clk?jk=009f09ff7c01c7f4&fccid=ad1b17640e8dbc75&vjs=3\n",
            "https://www.indeed.com/rc/clk?jk=02b30b0b50f44e80&fccid=e2b0f357f26efe90&vjs=3\n",
            "https://www.indeed.com/rc/clk?jk=02ef8531ee988a7a&fccid=d6848f30883507e9&vjs=3\n",
            "https://www.indeed.com/rc/clk?jk=e8f42e4d37c4dd77&fccid=ee814786a4428771&vjs=3\n",
            "https://www.indeed.com/rc/clk?jk=94756f770663edf2&fccid=12626f295bf6a003&vjs=3\n",
            "https://www.indeed.com/rc/clk?jk=0b447c87033af784&fccid=e5923f1ff867da37&vjs=3\n",
            "https://www.indeed.com/rc/clk?jk=6fc5c2b4dd8e8bb5&fccid=7861e9230d75af09&vjs=3\n",
            "70\n",
            "https://www.indeed.com/rc/clk?jk=f6a74f5d2136cf7e&fccid=4d6cb47819161bc6&vjs=3\n",
            "https://www.indeed.com/rc/clk?jk=1dc20695a0be2312&fccid=e5c4515812210aed&vjs=3\n",
            "https://www.indeed.com/rc/clk?jk=34a4c7b93480d13f&fccid=54431c4d7ccf7f70&vjs=3\n",
            "https://www.indeed.com/rc/clk?jk=58155df18f2f4f57&fccid=7e465a3d521b3ac3&vjs=3\n",
            "https://www.indeed.com/rc/clk?jk=d8836e815b67fe25&fccid=1e1b7ca3f0c3fe5d&vjs=3\n",
            "https://www.indeed.com/rc/clk?jk=c0c41d78d48c01bd&fccid=25d2167a5148eee2&vjs=3\n",
            "https://www.indeed.com/rc/clk?jk=3c4963457078cae6&fccid=180f240d2757ad2d&vjs=3\n",
            "https://www.indeed.com/rc/clk?jk=8a8c91993aff2140&fccid=2a341562d64c7cdb&vjs=3\n",
            "https://www.indeed.com/rc/clk?jk=46a664084a66a50c&fccid=1320c50b75f44505&vjs=3\n",
            "https://www.indeed.com/rc/clk?jk=1accdd4828a9729c&fccid=ef4be98af276034b&vjs=3\n",
            "https://www.indeed.com/rc/clk?jk=2dfe6f4da56b3f52&fccid=b855f5ed2e0219bb&vjs=3\n",
            "https://www.indeed.com/rc/clk?jk=fdbfbd322ce7edb7&fccid=e2b0f357f26efe90&vjs=3\n",
            "https://www.indeed.com/rc/clk?jk=feb4b884d6bed9ba&fccid=ef670f88bdb8a879&vjs=3\n",
            "https://www.indeed.com/rc/clk?jk=2ac08382a4e6640d&fccid=03ef981c9d5da92b&vjs=3\n",
            "https://www.indeed.com/rc/clk?jk=452f60564e11b0fe&fccid=03ef981c9d5da92b&vjs=3\n"
          ]
        }
      ]
    },
    {
      "cell_type": "code",
      "source": [
        "Intern_Df.head()"
      ],
      "metadata": {
        "colab": {
          "base_uri": "https://localhost:8080/",
          "height": 337
        },
        "id": "3w5a7j9nkJqm",
        "outputId": "1ae7cf5b-5383-41ee-a59a-0920f9a77443"
      },
      "execution_count": 19,
      "outputs": [
        {
          "output_type": "execute_result",
          "data": {
            "text/plain": [
              "                                               Title  \\\n",
              "0                             newData Analyst Intern   \n",
              "1  Product Operations Analyst Intern - Summer 202...   \n",
              "2                            Data Engineering Intern   \n",
              "3  newIntern - Pharma Data Sciences - Digital Tra...   \n",
              "4                  Intern - Billing Analyst (remote)   \n",
              "\n",
              "                                         Description  \\\n",
              "0  \\n\\n  Overview: \\n  \\n ~This is a remote oppor...   \n",
              "1  \\n\\n\\n\\n    Are you looking to be in a workpla...   \n",
              "2  \\n\\n\\n   At Tinder, we are passionate about bu...   \n",
              "3  \\n\\n\\n\\n    THE POSITION\\n   \\n Start Date: sp...   \n",
              "4  \\n\\n\\n\\nAbout Us:\\n\\n\\n At Stericycle, we deli...   \n",
              "\n",
              "                                                Link          Date_Posted  \n",
              "0  https://www.indeed.com/rc/clk?jk=b7662aebc9503...         Posted Today  \n",
              "1  https://www.indeed.com/rc/clk?jk=5daed0d0b6e9c...   Posted 21 days ago  \n",
              "2  https://www.indeed.com/rc/clk?jk=d6869cb4ffb7a...  Posted 30+ days ago  \n",
              "3  https://www.indeed.com/rc/clk?jk=2f650a69abb39...     Posted 1 day ago  \n",
              "4  https://www.indeed.com/rc/clk?jk=63552c90d862a...   Posted 29 days ago  "
            ],
            "text/html": [
              "\n",
              "  <div id=\"df-0f559184-aef2-4104-a59f-08fcbff3577e\">\n",
              "    <div class=\"colab-df-container\">\n",
              "      <div>\n",
              "<style scoped>\n",
              "    .dataframe tbody tr th:only-of-type {\n",
              "        vertical-align: middle;\n",
              "    }\n",
              "\n",
              "    .dataframe tbody tr th {\n",
              "        vertical-align: top;\n",
              "    }\n",
              "\n",
              "    .dataframe thead th {\n",
              "        text-align: right;\n",
              "    }\n",
              "</style>\n",
              "<table border=\"1\" class=\"dataframe\">\n",
              "  <thead>\n",
              "    <tr style=\"text-align: right;\">\n",
              "      <th></th>\n",
              "      <th>Title</th>\n",
              "      <th>Description</th>\n",
              "      <th>Link</th>\n",
              "      <th>Date_Posted</th>\n",
              "    </tr>\n",
              "  </thead>\n",
              "  <tbody>\n",
              "    <tr>\n",
              "      <th>0</th>\n",
              "      <td>newData Analyst Intern</td>\n",
              "      <td>\\n\\n  Overview: \\n  \\n ~This is a remote oppor...</td>\n",
              "      <td>https://www.indeed.com/rc/clk?jk=b7662aebc9503...</td>\n",
              "      <td>Posted Today</td>\n",
              "    </tr>\n",
              "    <tr>\n",
              "      <th>1</th>\n",
              "      <td>Product Operations Analyst Intern - Summer 202...</td>\n",
              "      <td>\\n\\n\\n\\n    Are you looking to be in a workpla...</td>\n",
              "      <td>https://www.indeed.com/rc/clk?jk=5daed0d0b6e9c...</td>\n",
              "      <td>Posted 21 days ago</td>\n",
              "    </tr>\n",
              "    <tr>\n",
              "      <th>2</th>\n",
              "      <td>Data Engineering Intern</td>\n",
              "      <td>\\n\\n\\n   At Tinder, we are passionate about bu...</td>\n",
              "      <td>https://www.indeed.com/rc/clk?jk=d6869cb4ffb7a...</td>\n",
              "      <td>Posted 30+ days ago</td>\n",
              "    </tr>\n",
              "    <tr>\n",
              "      <th>3</th>\n",
              "      <td>newIntern - Pharma Data Sciences - Digital Tra...</td>\n",
              "      <td>\\n\\n\\n\\n    THE POSITION\\n   \\n Start Date: sp...</td>\n",
              "      <td>https://www.indeed.com/rc/clk?jk=2f650a69abb39...</td>\n",
              "      <td>Posted 1 day ago</td>\n",
              "    </tr>\n",
              "    <tr>\n",
              "      <th>4</th>\n",
              "      <td>Intern - Billing Analyst (remote)</td>\n",
              "      <td>\\n\\n\\n\\nAbout Us:\\n\\n\\n At Stericycle, we deli...</td>\n",
              "      <td>https://www.indeed.com/rc/clk?jk=63552c90d862a...</td>\n",
              "      <td>Posted 29 days ago</td>\n",
              "    </tr>\n",
              "  </tbody>\n",
              "</table>\n",
              "</div>\n",
              "      <button class=\"colab-df-convert\" onclick=\"convertToInteractive('df-0f559184-aef2-4104-a59f-08fcbff3577e')\"\n",
              "              title=\"Convert this dataframe to an interactive table.\"\n",
              "              style=\"display:none;\">\n",
              "        \n",
              "  <svg xmlns=\"http://www.w3.org/2000/svg\" height=\"24px\"viewBox=\"0 0 24 24\"\n",
              "       width=\"24px\">\n",
              "    <path d=\"M0 0h24v24H0V0z\" fill=\"none\"/>\n",
              "    <path d=\"M18.56 5.44l.94 2.06.94-2.06 2.06-.94-2.06-.94-.94-2.06-.94 2.06-2.06.94zm-11 1L8.5 8.5l.94-2.06 2.06-.94-2.06-.94L8.5 2.5l-.94 2.06-2.06.94zm10 10l.94 2.06.94-2.06 2.06-.94-2.06-.94-.94-2.06-.94 2.06-2.06.94z\"/><path d=\"M17.41 7.96l-1.37-1.37c-.4-.4-.92-.59-1.43-.59-.52 0-1.04.2-1.43.59L10.3 9.45l-7.72 7.72c-.78.78-.78 2.05 0 2.83L4 21.41c.39.39.9.59 1.41.59.51 0 1.02-.2 1.41-.59l7.78-7.78 2.81-2.81c.8-.78.8-2.07 0-2.86zM5.41 20L4 18.59l7.72-7.72 1.47 1.35L5.41 20z\"/>\n",
              "  </svg>\n",
              "      </button>\n",
              "      \n",
              "  <style>\n",
              "    .colab-df-container {\n",
              "      display:flex;\n",
              "      flex-wrap:wrap;\n",
              "      gap: 12px;\n",
              "    }\n",
              "\n",
              "    .colab-df-convert {\n",
              "      background-color: #E8F0FE;\n",
              "      border: none;\n",
              "      border-radius: 50%;\n",
              "      cursor: pointer;\n",
              "      display: none;\n",
              "      fill: #1967D2;\n",
              "      height: 32px;\n",
              "      padding: 0 0 0 0;\n",
              "      width: 32px;\n",
              "    }\n",
              "\n",
              "    .colab-df-convert:hover {\n",
              "      background-color: #E2EBFA;\n",
              "      box-shadow: 0px 1px 2px rgba(60, 64, 67, 0.3), 0px 1px 3px 1px rgba(60, 64, 67, 0.15);\n",
              "      fill: #174EA6;\n",
              "    }\n",
              "\n",
              "    [theme=dark] .colab-df-convert {\n",
              "      background-color: #3B4455;\n",
              "      fill: #D2E3FC;\n",
              "    }\n",
              "\n",
              "    [theme=dark] .colab-df-convert:hover {\n",
              "      background-color: #434B5C;\n",
              "      box-shadow: 0px 1px 3px 1px rgba(0, 0, 0, 0.15);\n",
              "      filter: drop-shadow(0px 1px 2px rgba(0, 0, 0, 0.3));\n",
              "      fill: #FFFFFF;\n",
              "    }\n",
              "  </style>\n",
              "\n",
              "      <script>\n",
              "        const buttonEl =\n",
              "          document.querySelector('#df-0f559184-aef2-4104-a59f-08fcbff3577e button.colab-df-convert');\n",
              "        buttonEl.style.display =\n",
              "          google.colab.kernel.accessAllowed ? 'block' : 'none';\n",
              "\n",
              "        async function convertToInteractive(key) {\n",
              "          const element = document.querySelector('#df-0f559184-aef2-4104-a59f-08fcbff3577e');\n",
              "          const dataTable =\n",
              "            await google.colab.kernel.invokeFunction('convertToInteractive',\n",
              "                                                     [key], {});\n",
              "          if (!dataTable) return;\n",
              "\n",
              "          const docLinkHtml = 'Like what you see? Visit the ' +\n",
              "            '<a target=\"_blank\" href=https://colab.research.google.com/notebooks/data_table.ipynb>data table notebook</a>'\n",
              "            + ' to learn more about interactive tables.';\n",
              "          element.innerHTML = '';\n",
              "          dataTable['output_type'] = 'display_data';\n",
              "          await google.colab.output.renderOutput(dataTable, element);\n",
              "          const docLink = document.createElement('div');\n",
              "          docLink.innerHTML = docLinkHtml;\n",
              "          element.appendChild(docLink);\n",
              "        }\n",
              "      </script>\n",
              "    </div>\n",
              "  </div>\n",
              "  "
            ]
          },
          "metadata": {},
          "execution_count": 19
        }
      ]
    },
    {
      "cell_type": "code",
      "source": [
        "first12pages = pd.concat([Intern_Df,Intern_Df2], axis = 0)"
      ],
      "metadata": {
        "id": "zK9bvsj6mk9S"
      },
      "execution_count": 27,
      "outputs": []
    },
    {
      "cell_type": "code",
      "source": [
        "first12pages.to_excel('JobPostings.xlsx', '12pages')"
      ],
      "metadata": {
        "id": "s8Or64PynAyz"
      },
      "execution_count": 28,
      "outputs": []
    },
    {
      "cell_type": "code",
      "source": [
        "len(first10pages)"
      ],
      "metadata": {
        "colab": {
          "base_uri": "https://localhost:8080/"
        },
        "id": "0O6SRn39mu8b",
        "outputId": "349c70f3-c616-4a77-ed98-2238be502e1e"
      },
      "execution_count": 24,
      "outputs": [
        {
          "output_type": "execute_result",
          "data": {
            "text/plain": [
              "120"
            ]
          },
          "metadata": {},
          "execution_count": 24
        }
      ]
    },
    {
      "cell_type": "code",
      "source": [
        ""
      ],
      "metadata": {
        "id": "wYBNQgEwm7xs"
      },
      "execution_count": null,
      "outputs": []
    },
    {
      "cell_type": "code",
      "source": [
        "  for item in entry:\n",
        "      #Job Title\n",
        "      item.find('h2',class_='jobTitle')\n",
        "      print(title)"
      ],
      "metadata": {
        "id": "wsfWerI9I5bm"
      },
      "execution_count": null,
      "outputs": []
    },
    {
      "cell_type": "code",
      "source": [
        ""
      ],
      "metadata": {
        "id": "QxiFsVTgDQvB"
      },
      "execution_count": null,
      "outputs": []
    },
    {
      "cell_type": "code",
      "source": [
        "description = soup.find('div',class_='jobsearch-jobDescriptionText')\n",
        "print(description)"
      ],
      "metadata": {
        "colab": {
          "base_uri": "https://localhost:8080/"
        },
        "id": "QAxFuLlIC603",
        "outputId": "c58a1b44-c152-474e-fcdc-54093b64d2e9"
      },
      "execution_count": null,
      "outputs": [
        {
          "output_type": "stream",
          "name": "stdout",
          "text": [
            "None\n"
          ]
        }
      ]
    },
    {
      "cell_type": "code",
      "source": [
        "len(df.index)"
      ],
      "metadata": {
        "colab": {
          "base_uri": "https://localhost:8080/"
        },
        "id": "dO-h593ccDzT",
        "outputId": "26d0b394-0cee-4d51-9507-56067bad2a68"
      },
      "execution_count": null,
      "outputs": [
        {
          "output_type": "execute_result",
          "data": {
            "text/plain": [
              "15"
            ]
          },
          "metadata": {},
          "execution_count": 171
        }
      ]
    },
    {
      "cell_type": "code",
      "source": [
        "#Below is in testing"
      ],
      "metadata": {
        "id": "Q2C6tCtree7V"
      },
      "execution_count": null,
      "outputs": []
    },
    {
      "cell_type": "code",
      "source": [
        "  soup = BeautifulSoup(r.text, 'html.parser')\n",
        "  title = soup.find_all(class_='title')\n",
        "  #Get title link (job url)\n",
        "\n",
        "  for ti in title:\n",
        "    href = ti.a['href']\n",
        "    jobtitle = ti.get_text()\n",
        "    #Job posting link page (not the list one)\n",
        "    new_link = base_link + href\n",
        "    #Request Invidiual Job Page\n",
        "    r = requests.get(new_link, headers = headers)\n",
        "    soup = BeautifulSoup(r.text, 'html.parser')\n",
        "    #Pull full job description\n",
        "    description = soup.find(class_='jobsearch-jobDescriptionText').get_text()\n",
        "    title2 = soup.find(class_='icl-u-xs-mb--xs icl-u-xs-mt--none jobsearch-JobInfoHeader-title').get_text()\n",
        "    df.iloc[0:] = [title2, description, link]\n"
      ],
      "metadata": {
        "id": "Tv5lk3ThS63f"
      },
      "execution_count": null,
      "outputs": []
    },
    {
      "cell_type": "code",
      "source": [
        "df['length'] = df['Description'].apply(lambda x: len(x.split(' ')) )"
      ],
      "metadata": {
        "id": "G0Gh-AyHXi-w"
      },
      "execution_count": null,
      "outputs": []
    },
    {
      "cell_type": "code",
      "source": [
        "payload = {'api_key': APIKEY, 'url': 'https://www.indeed.com/viewjob?jk=526be555b9a03546&tk=1g19hdpgoosnj800&from=serp&vjs=3'}\n",
        "r2 = requests.get('http://api.scraperapi.com', params=payload, headers = HEADERS)\n",
        "soup2 = BeautifulSoup(r2.text, 'html.parser')"
      ],
      "metadata": {
        "id": "7DNAgf3faY-X"
      },
      "execution_count": null,
      "outputs": []
    },
    {
      "cell_type": "code",
      "source": [
        "soup2.find(class_='jobsearch-jobDescriptionText').get_text().strip()"
      ],
      "metadata": {
        "colab": {
          "base_uri": "https://localhost:8080/",
          "height": 122
        },
        "id": "D384sgShaimn",
        "outputId": "89e94d07-da85-48b9-e0d1-6273f7e85525"
      },
      "execution_count": null,
      "outputs": [
        {
          "output_type": "execute_result",
          "data": {
            "text/plain": [
              "'Overview \\n \\n Frontdoor is a company that’s obsessed with taking the hassle out of owning a home. With services powered by people and enabled by technology, it is the parent company of four home service plan brands: American Home Shield, HSA, Landmark and OneGuard, as well as ProConnect, an on-demand membership service for home repairs and maintenance, and Streem, a technology company that enables businesses to serve customers through an enhanced augmented reality, computer vision and machine learning platform. Frontdoor serves 2.2 million customers across the U.S. through a network of approximately 17,000 pre-qualified contractor firms that employ an estimated 60,000 technicians. The company’s customizable home service plans help customers protect and maintain their homes from costly and unexpected breakdowns of essential home systems and appliances. With 50 years of home services experience, the company responds to over four million service requests annually. For details, visit frontdoorhome.com. \\n \\n Responsibilities \\n \\n Responsible for providing data analysis to recommend actions of a moderately complex nature to improve business processes to management. \\n \\n Gather, validate, and analyze data, to successfully manage internal performance reporting and messaging for Operations \\n \\n Analyze lost productivity within our BPO vendors and estimate budgetary impacts \\n \\n Compile and analyze interval call volume data and lost productivity risks and make short term schedule recommendations to create operational efficiencies \\n \\n Own agent performance scorecards, published monthly, to assist management with performance management \\n \\n Track overtime from a productive and budgetary perspective and forecast expected monthly expense and requirements \\n \\n Present weekly staffing changes and assist in determining staffing needs to meet operational goals \\n \\n Assist with labor requirement forecasting and make recommendations on the timing of staff additions based on historical behaviors \\n \\n Perform frequent ad hoc reporting on demand to assist Operations management with decision making \\n \\n Qualifications \\n \\n 3 years overall data analysis experience with proven experience in SQL, R, PowerBI, Looker or other data management/visualization tools. \\n \\n Bachelor’s degree in Mathematics, Economics, Computer Science, or similar field. \\n \\n Ability to mine data, compile and manipulate in multiple systems/programs and analyze results \\n \\n SQL (Snowflake) \\n \\n R \\n \\n Looker \\n \\n PowerBI \\n \\n Python \\n \\n Ability to create effective presentations for management. \\n \\n Excellent communication skills \\n \\n Need help finding the right job? \\n \\n We can recommend jobs specifically for you! \\n \\n Job Locations US-CO-Denver | US-TN-Nashville | US-WA-Olympia \\n \\n ID 2022-2622 \\n \\n Category Information Technology \\n \\n Type Full Time \\n \\n Company AHS American Home Shield Corp'"
            ],
            "application/vnd.google.colaboratory.intrinsic+json": {
              "type": "string"
            }
          },
          "metadata": {},
          "execution_count": 164
        }
      ]
    },
    {
      "cell_type": "code",
      "source": [
        ""
      ],
      "metadata": {
        "id": "UiRJ4ONsauqS"
      },
      "execution_count": null,
      "outputs": []
    }
  ]
}